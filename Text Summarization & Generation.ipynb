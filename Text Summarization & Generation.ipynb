{
 "cells": [
  {
   "cell_type": "markdown",
   "metadata": {},
   "source": [
    "# Text Summarization\n",
    "Text summarization is a challenge to deal with huge size of texts that come with various forms, such as documents, emails, and web pages."
   ]
  },
  {
   "cell_type": "markdown",
   "metadata": {},
   "source": [
    "TextRank"
   ]
  },
  {
   "cell_type": "code",
   "execution_count": 5,
   "metadata": {},
   "outputs": [],
   "source": [
    "import pandas as pd\n",
    "import numpy as np\n",
    "import nltk\n",
    "from nltk.corpus import stopwords\n",
    "from nltk.tokenize import sent_tokenize, word_tokenize\n",
    "import re\n",
    "import contractions\n",
    "import zipfile"
   ]
  },
  {
   "cell_type": "code",
   "execution_count": 4,
   "metadata": {},
   "outputs": [],
   "source": [
    "pd.set_option(\"display.max_colwidth\",1000)"
   ]
  },
  {
   "cell_type": "markdown",
   "metadata": {},
   "source": [
    "The processes of opening the zip file"
   ]
  },
  {
   "cell_type": "code",
   "execution_count": 6,
   "metadata": {},
   "outputs": [],
   "source": [
    "glove_dir ='data_ch6/glove/'\n",
    "glove_zip = glove_dir + 'glove.6B.50d.zip'"
   ]
  },
  {
   "cell_type": "code",
   "execution_count": 7,
   "metadata": {},
   "outputs": [],
   "source": [
    "zip_ref=zipfile.ZipFile(glove_zip,'r')\n",
    "zip_ref.extractall(glove_dir)\n",
    "zip_ref.close()"
   ]
  },
  {
   "cell_type": "code",
   "execution_count": 8,
   "metadata": {},
   "outputs": [],
   "source": [
    "def load_glove_vectors(fn):\n",
    "    print('Loading glove Model')\n",
    "    with open(fn, 'r', encoding='utf8')as glove_vector_file:\n",
    "        model={}\n",
    "        for line in glove_vector_file:\n",
    "            parts=line.split()\n",
    "            word=parts[0]\n",
    "            embedding=np.array([float(val) for val in parts[1:]])\n",
    "            model[word]=embedding\n",
    "        print('Loaded {} words'.format(len(model)))\n",
    "    return model"
   ]
  },
  {
   "cell_type": "code",
   "execution_count": 9,
   "metadata": {},
   "outputs": [
    {
     "name": "stdout",
     "output_type": "stream",
     "text": [
      "Loading glove Model\n",
      "Loaded 400000 words\n"
     ]
    }
   ],
   "source": [
    "glove_vectors=load_glove_vectors('data_ch6/glove/glove.6B.50d.txt')"
   ]
  },
  {
   "cell_type": "code",
   "execution_count": 10,
   "metadata": {},
   "outputs": [],
   "source": [
    "doc=pd.read_csv('data_ch6/tennis_articles_v4.csv')"
   ]
  },
  {
   "cell_type": "code",
   "execution_count": 12,
   "metadata": {},
   "outputs": [
    {
     "data": {
      "text/html": [
       "<div>\n",
       "<style scoped>\n",
       "    .dataframe tbody tr th:only-of-type {\n",
       "        vertical-align: middle;\n",
       "    }\n",
       "\n",
       "    .dataframe tbody tr th {\n",
       "        vertical-align: top;\n",
       "    }\n",
       "\n",
       "    .dataframe thead th {\n",
       "        text-align: right;\n",
       "    }\n",
       "</style>\n",
       "<table border=\"1\" class=\"dataframe\">\n",
       "  <thead>\n",
       "    <tr style=\"text-align: right;\">\n",
       "      <th></th>\n",
       "      <th>article_id</th>\n",
       "      <th>article_text</th>\n",
       "      <th>source</th>\n",
       "    </tr>\n",
       "  </thead>\n",
       "  <tbody>\n",
       "    <tr>\n",
       "      <th>0</th>\n",
       "      <td>1</td>\n",
       "      <td>Maria Sharapova has basically no friends as tennis players on the WTA Tour. The Russian player has no problems in openly speaking about it and in a recent interview she said: 'I don't really hide any feelings too much. I think everyone knows this is my job here. When I'm on the courts or when I'm on the court playing, I'm a competitor and I want to beat every single person whether they're in the locker room or across the net.So I'm not the one to strike up a conversation about the weather and know that in the next few minutes I have to go and try to win a tennis match. I'm a pretty competitive girl. I say my hellos, but I'm not sending any players flowers as well. Uhm, I'm not really friendly or close to many players. I have not a lot of friends away from the courts.' When she said she is not really close to a lot of players, is that something strategic that she is doing? Is it different on the men's tour than the women's tour? 'No, not at all. I think just because you're in the sa...</td>\n",
       "      <td>https://www.tennisworldusa.org/tennis/news/Maria_Sharapova/62220/i-do-not-have-friends-in-tennis-says-maria-sharapova/</td>\n",
       "    </tr>\n",
       "    <tr>\n",
       "      <th>1</th>\n",
       "      <td>2</td>\n",
       "      <td>BASEL, Switzerland (AP), Roger Federer advanced to the 14th Swiss Indoors final of his career by beating seventh-seeded Daniil Medvedev 6-1, 6-4 on Saturday. Seeking a ninth title at his hometown event, and a 99th overall, Federer will play 93th-ranked Marius Copil on Sunday. Federer dominated the 20th-ranked Medvedev and had his first match-point chance to break serve again at 5-1. He then dropped his serve to love, and let another match point slip in Medvedev's next service game by netting a backhand. He clinched on his fourth chance when Medvedev netted from the baseline. Copil upset expectations of a Federer final against Alexander Zverev in a 6-3, 6-7 (6), 6-4 win over the fifth-ranked German in the earlier semifinal. The Romanian aims for a first title after arriving at Basel without a career win over a top-10 opponent. Copil has two after also beating No. 6 Marin Cilic in the second round. Copil fired 26 aces past Zverev and never dropped serve, clinching after 2 1/2 hours w...</td>\n",
       "      <td>http://www.tennis.com/pro-game/2018/10/copil-stuns-5th-ranked-zverev-to-reach-swiss-indoors-final/77721/</td>\n",
       "    </tr>\n",
       "    <tr>\n",
       "      <th>2</th>\n",
       "      <td>3</td>\n",
       "      <td>Roger Federer has revealed that organisers of the re-launched and condensed Davis Cup gave him three days to decide if he would commit to the controversial competition. Speaking at the Swiss Indoors tournament where he will play in Sundays final against Romanian qualifier Marius Copil, the world number three said that given the impossibly short time frame to make a decision, he opted out of any commitment. \"They only left me three days to decide\", Federer said. \"I didn't to have time to consult with all the people I had to consult. \"I could not make a decision in that time, so I told them to do what they wanted.\" The 20-time Grand Slam champion has voiced doubts about the wisdom of the one-week format to be introduced by organisers Kosmos, who have promised the International Tennis Federation up to $3 billion in prize money over the next quarter-century. The competition is set to feature 18 countries in the November 18-24 finals in Madrid next year, and will replace the classic hom...</td>\n",
       "      <td>https://scroll.in/field/899938/tennis-roger-federer-ignored-deadline-set-by-new-davis-cup</td>\n",
       "    </tr>\n",
       "    <tr>\n",
       "      <th>3</th>\n",
       "      <td>4</td>\n",
       "      <td>Kei Nishikori will try to end his long losing streak in ATP finals and Kevin Anderson will go for his second title of the year at the Erste Bank Open on Sunday. The fifth-seeded Nishikori reached his third final of 2018 after beating Mikhail Kukushkin of Kazakhstan 6-4, 6-3 in the semifinals. A winner of 11 ATP events, Nishikori hasn't triumphed since winning in Memphis in February 2016. He has lost eight straight finals since. The second-seeded Anderson defeated Fernando Verdasco 6-3, 3-6, 6-4. Anderson has a shot at a fifth career title and second of the year after winning in New York in February. Nishikori leads Anderson 4-2 on career matchups, but the South African won their only previous meeting this year. With a victory on Sunday, Anderson will qualify for the ATP Finals. Currently in ninth place, Nishikori with a win could move to within 125 points of the cut for the eight-man event in London next month. Nishikori held serve throughout against Kukushkin, who came through qua...</td>\n",
       "      <td>http://www.tennis.com/pro-game/2018/10/nishikori-beats-kukushkin-in-vienna-for-3rd-final-of-season/77719/</td>\n",
       "    </tr>\n",
       "    <tr>\n",
       "      <th>4</th>\n",
       "      <td>5</td>\n",
       "      <td>Federer, 37, first broke through on tour over two decades ago and he has since gone on to enjoy a glittering career. The 20-time Grand Slam winner is chasing his 99th ATP title at the Swiss Indoors this week and he faces Jan-Lennard Struff in the second round on Thursday (6pm BST). Davenport enjoyed most of her success in the late 1990s and her third and final major tournament win came at the 2000 Australian Open. But she claims the mentality of professional tennis players slowly began to change after the new millennium. \"It seems pretty friendly right now,\" said Davenport. \"I think there is a really nice environment and a great atmosphere, especially between some of the veteran players helping some of the younger players out. \"It's a very pleasant atmosphere, I'd have to say, around the locker rooms. \"I felt like the best weeks that I had to get to know players when I was playing were the Fed Cup weeks or the Olympic weeks, not necessarily during the tournaments. \"And even though ...</td>\n",
       "      <td>https://www.express.co.uk/sport/tennis/1036101/Roger-Federer-Swiss-Indoors-Jan-Lennard-Struff-Lindsay-Davenport</td>\n",
       "    </tr>\n",
       "  </tbody>\n",
       "</table>\n",
       "</div>"
      ],
      "text/plain": [
       "   article_id  \\\n",
       "0           1   \n",
       "1           2   \n",
       "2           3   \n",
       "3           4   \n",
       "4           5   \n",
       "\n",
       "                                                                                                                                                                                                                                                                                                                                                                                                                                                                                                                                                                                                                                                                                                                                                                                                                                                                                                                                                                                                                              article_text  \\\n",
       "0  Maria Sharapova has basically no friends as tennis players on the WTA Tour. The Russian player has no problems in openly speaking about it and in a recent interview she said: 'I don't really hide any feelings too much. I think everyone knows this is my job here. When I'm on the courts or when I'm on the court playing, I'm a competitor and I want to beat every single person whether they're in the locker room or across the net.So I'm not the one to strike up a conversation about the weather and know that in the next few minutes I have to go and try to win a tennis match. I'm a pretty competitive girl. I say my hellos, but I'm not sending any players flowers as well. Uhm, I'm not really friendly or close to many players. I have not a lot of friends away from the courts.' When she said she is not really close to a lot of players, is that something strategic that she is doing? Is it different on the men's tour than the women's tour? 'No, not at all. I think just because you're in the sa...   \n",
       "1  BASEL, Switzerland (AP), Roger Federer advanced to the 14th Swiss Indoors final of his career by beating seventh-seeded Daniil Medvedev 6-1, 6-4 on Saturday. Seeking a ninth title at his hometown event, and a 99th overall, Federer will play 93th-ranked Marius Copil on Sunday. Federer dominated the 20th-ranked Medvedev and had his first match-point chance to break serve again at 5-1. He then dropped his serve to love, and let another match point slip in Medvedev's next service game by netting a backhand. He clinched on his fourth chance when Medvedev netted from the baseline. Copil upset expectations of a Federer final against Alexander Zverev in a 6-3, 6-7 (6), 6-4 win over the fifth-ranked German in the earlier semifinal. The Romanian aims for a first title after arriving at Basel without a career win over a top-10 opponent. Copil has two after also beating No. 6 Marin Cilic in the second round. Copil fired 26 aces past Zverev and never dropped serve, clinching after 2 1/2 hours w...   \n",
       "2  Roger Federer has revealed that organisers of the re-launched and condensed Davis Cup gave him three days to decide if he would commit to the controversial competition. Speaking at the Swiss Indoors tournament where he will play in Sundays final against Romanian qualifier Marius Copil, the world number three said that given the impossibly short time frame to make a decision, he opted out of any commitment. \"They only left me three days to decide\", Federer said. \"I didn't to have time to consult with all the people I had to consult. \"I could not make a decision in that time, so I told them to do what they wanted.\" The 20-time Grand Slam champion has voiced doubts about the wisdom of the one-week format to be introduced by organisers Kosmos, who have promised the International Tennis Federation up to $3 billion in prize money over the next quarter-century. The competition is set to feature 18 countries in the November 18-24 finals in Madrid next year, and will replace the classic hom...   \n",
       "3  Kei Nishikori will try to end his long losing streak in ATP finals and Kevin Anderson will go for his second title of the year at the Erste Bank Open on Sunday. The fifth-seeded Nishikori reached his third final of 2018 after beating Mikhail Kukushkin of Kazakhstan 6-4, 6-3 in the semifinals. A winner of 11 ATP events, Nishikori hasn't triumphed since winning in Memphis in February 2016. He has lost eight straight finals since. The second-seeded Anderson defeated Fernando Verdasco 6-3, 3-6, 6-4. Anderson has a shot at a fifth career title and second of the year after winning in New York in February. Nishikori leads Anderson 4-2 on career matchups, but the South African won their only previous meeting this year. With a victory on Sunday, Anderson will qualify for the ATP Finals. Currently in ninth place, Nishikori with a win could move to within 125 points of the cut for the eight-man event in London next month. Nishikori held serve throughout against Kukushkin, who came through qua...   \n",
       "4  Federer, 37, first broke through on tour over two decades ago and he has since gone on to enjoy a glittering career. The 20-time Grand Slam winner is chasing his 99th ATP title at the Swiss Indoors this week and he faces Jan-Lennard Struff in the second round on Thursday (6pm BST). Davenport enjoyed most of her success in the late 1990s and her third and final major tournament win came at the 2000 Australian Open. But she claims the mentality of professional tennis players slowly began to change after the new millennium. \"It seems pretty friendly right now,\" said Davenport. \"I think there is a really nice environment and a great atmosphere, especially between some of the veteran players helping some of the younger players out. \"It's a very pleasant atmosphere, I'd have to say, around the locker rooms. \"I felt like the best weeks that I had to get to know players when I was playing were the Fed Cup weeks or the Olympic weeks, not necessarily during the tournaments. \"And even though ...   \n",
       "\n",
       "                                                                                                                   source  \n",
       "0  https://www.tennisworldusa.org/tennis/news/Maria_Sharapova/62220/i-do-not-have-friends-in-tennis-says-maria-sharapova/  \n",
       "1                http://www.tennis.com/pro-game/2018/10/copil-stuns-5th-ranked-zverev-to-reach-swiss-indoors-final/77721/  \n",
       "2                               https://scroll.in/field/899938/tennis-roger-federer-ignored-deadline-set-by-new-davis-cup  \n",
       "3               http://www.tennis.com/pro-game/2018/10/nishikori-beats-kukushkin-in-vienna-for-3rd-final-of-season/77719/  \n",
       "4         https://www.express.co.uk/sport/tennis/1036101/Roger-Federer-Swiss-Indoors-Jan-Lennard-Struff-Lindsay-Davenport  "
      ]
     },
     "execution_count": 12,
     "metadata": {},
     "output_type": "execute_result"
    }
   ],
   "source": [
    "doc.head()"
   ]
  },
  {
   "cell_type": "code",
   "execution_count": 13,
   "metadata": {},
   "outputs": [],
   "source": [
    "stop_words=stopwords.words(\"english\")"
   ]
  },
  {
   "cell_type": "markdown",
   "metadata": {},
   "source": [
    "Functions will clean the article text, as well as tokenizing into words"
   ]
  },
  {
   "cell_type": "code",
   "execution_count": 14,
   "metadata": {},
   "outputs": [],
   "source": [
    "clean_pattern=r'[^a-zA-z\\s]'\n",
    "def clean(word):\n",
    "    return re.sub(clean_pattern,'',word)\n",
    "\n",
    "def clean_sentence(sent):\n",
    "    sent=[clean(word) for word in sent]\n",
    "    return [word for word in sent if word]\n",
    "\n",
    "def clean_sentences(sents):\n",
    "    return [clean_sentence(sent) for sent in sents ]\n",
    "\n",
    "def lower(sen):\n",
    "    return [w.lower() for w in sen]\n",
    "\n",
    "def remove_stopwords(sw):\n",
    "    words=[word for word in sw if word not in stop_words]\n",
    "    return [word for word in words if len(word)>0]\n",
    "\n",
    "def tokenize_words(token):\n",
    "    return [word_tokenize(s) for s in token]\n",
    "\n",
    "def fix_contractions(cont):\n",
    "    return [contractions.fix(s) for s in cont]"
   ]
  },
  {
   "cell_type": "markdown",
   "metadata": {},
   "source": [
    "Apply functions"
   ]
  },
  {
   "cell_type": "code",
   "execution_count": 16,
   "metadata": {},
   "outputs": [],
   "source": [
    "doc['sentenceInArticle']=doc['article_text'].apply(sent_tokenize)\n",
    "doc['WordInSentences']=doc['sentenceInArticle'].apply(fix_contractions)\\\n",
    "                                                .apply(lower).apply(tokenize_words)\\\n",
    "                                                .apply(remove_stopwords).apply(clean_sentences)"
   ]
  },
  {
   "cell_type": "code",
   "execution_count": 17,
   "metadata": {},
   "outputs": [
    {
     "data": {
      "text/html": [
       "<div>\n",
       "<style scoped>\n",
       "    .dataframe tbody tr th:only-of-type {\n",
       "        vertical-align: middle;\n",
       "    }\n",
       "\n",
       "    .dataframe tbody tr th {\n",
       "        vertical-align: top;\n",
       "    }\n",
       "\n",
       "    .dataframe thead th {\n",
       "        text-align: right;\n",
       "    }\n",
       "</style>\n",
       "<table border=\"1\" class=\"dataframe\">\n",
       "  <thead>\n",
       "    <tr style=\"text-align: right;\">\n",
       "      <th></th>\n",
       "      <th>article_id</th>\n",
       "      <th>article_text</th>\n",
       "      <th>source</th>\n",
       "      <th>sentenceInArticle</th>\n",
       "      <th>WordInSentences</th>\n",
       "    </tr>\n",
       "  </thead>\n",
       "  <tbody>\n",
       "    <tr>\n",
       "      <th>0</th>\n",
       "      <td>1</td>\n",
       "      <td>Maria Sharapova has basically no friends as tennis players on the WTA Tour. The Russian player has no problems in openly speaking about it and in a recent interview she said: 'I don't really hide any feelings too much. I think everyone knows this is my job here. When I'm on the courts or when I'm on the court playing, I'm a competitor and I want to beat every single person whether they're in the locker room or across the net.So I'm not the one to strike up a conversation about the weather and know that in the next few minutes I have to go and try to win a tennis match. I'm a pretty competitive girl. I say my hellos, but I'm not sending any players flowers as well. Uhm, I'm not really friendly or close to many players. I have not a lot of friends away from the courts.' When she said she is not really close to a lot of players, is that something strategic that she is doing? Is it different on the men's tour than the women's tour? 'No, not at all. I think just because you're in the sa...</td>\n",
       "      <td>https://www.tennisworldusa.org/tennis/news/Maria_Sharapova/62220/i-do-not-have-friends-in-tennis-says-maria-sharapova/</td>\n",
       "      <td>[Maria Sharapova has basically no friends as tennis players on the WTA Tour., The Russian player has no problems in openly speaking about it and in a recent interview she said: 'I don't really hide any feelings too much., I think everyone knows this is my job here., When I'm on the courts or when I'm on the court playing, I'm a competitor and I want to beat every single person whether they're in the locker room or across the net.So I'm not the one to strike up a conversation about the weather and know that in the next few minutes I have to go and try to win a tennis match., I'm a pretty competitive girl., I say my hellos, but I'm not sending any players flowers as well., Uhm, I'm not really friendly or close to many players., I have not a lot of friends away from the courts.', When she said she is not really close to a lot of players, is that something strategic that she is doing?, Is it different on the men's tour than the women's tour?, 'No, not at all., I think just because you'...</td>\n",
       "      <td>[[maria, sharapova, has, basically, no, friends, as, tennis, players, on, the, wta, tour], [the, russian, player, has, no, problems, in, openly, speaking, about, it, and, in, a, recent, interview, she, said, i, do, not, really, hide, any, feelings, too, much], [i, think, everyone, knows, this, is, my, job, here], [when, i, am, on, the, courts, or, when, i, am, on, the, court, playing, i, am, a, competitor, and, i, want, to, beat, every, single, person, whether, they, are, in, the, locker, room, or, across, the, netso, i, am, not, the, one, to, strike, up, a, conversation, about, the, weather, and, know, that, in, the, next, few, minutes, i, have, to, go, and, try, to, win, a, tennis, match], [i, am, a, pretty, competitive, girl], [i, say, my, hellos, but, i, am, not, sending, any, players, flowers, as, well], [uhm, i, am, not, really, friendly, or, close, to, many, players], [i, have, not, a, lot, of, friends, away, from, the, courts], [when, she, said, she, is, not, really, close,...</td>\n",
       "    </tr>\n",
       "    <tr>\n",
       "      <th>1</th>\n",
       "      <td>2</td>\n",
       "      <td>BASEL, Switzerland (AP), Roger Federer advanced to the 14th Swiss Indoors final of his career by beating seventh-seeded Daniil Medvedev 6-1, 6-4 on Saturday. Seeking a ninth title at his hometown event, and a 99th overall, Federer will play 93th-ranked Marius Copil on Sunday. Federer dominated the 20th-ranked Medvedev and had his first match-point chance to break serve again at 5-1. He then dropped his serve to love, and let another match point slip in Medvedev's next service game by netting a backhand. He clinched on his fourth chance when Medvedev netted from the baseline. Copil upset expectations of a Federer final against Alexander Zverev in a 6-3, 6-7 (6), 6-4 win over the fifth-ranked German in the earlier semifinal. The Romanian aims for a first title after arriving at Basel without a career win over a top-10 opponent. Copil has two after also beating No. 6 Marin Cilic in the second round. Copil fired 26 aces past Zverev and never dropped serve, clinching after 2 1/2 hours w...</td>\n",
       "      <td>http://www.tennis.com/pro-game/2018/10/copil-stuns-5th-ranked-zverev-to-reach-swiss-indoors-final/77721/</td>\n",
       "      <td>[BASEL, Switzerland (AP), Roger Federer advanced to the 14th Swiss Indoors final of his career by beating seventh-seeded Daniil Medvedev 6-1, 6-4 on Saturday., Seeking a ninth title at his hometown event, and a 99th overall, Federer will play 93th-ranked Marius Copil on Sunday., Federer dominated the 20th-ranked Medvedev and had his first match-point chance to break serve again at 5-1., He then dropped his serve to love, and let another match point slip in Medvedev's next service game by netting a backhand., He clinched on his fourth chance when Medvedev netted from the baseline., Copil upset expectations of a Federer final against Alexander Zverev in a 6-3, 6-7 (6), 6-4 win over the fifth-ranked German in the earlier semifinal., The Romanian aims for a first title after arriving at Basel without a career win over a top-10 opponent., Copil has two after also beating No., 6 Marin Cilic in the second round., Copil fired 26 aces past Zverev and never dropped serve, clinching after 2 1...</td>\n",
       "      <td>[[basel, switzerland, ap, roger, federer, advanced, to, the, th, swiss, indoors, final, of, his, career, by, beating, seventhseeded, daniil, medvedev, on, saturday], [seeking, a, ninth, title, at, his, hometown, event, and, a, th, overall, federer, will, play, thranked, marius, copil, on, sunday], [federer, dominated, the, thranked, medvedev, and, had, his, first, matchpoint, chance, to, break, serve, again, at], [he, then, dropped, his, serve, to, love, and, let, another, match, point, slip, in, medvedev, s, next, service, game, by, netting, a, backhand], [he, clinched, on, his, fourth, chance, when, medvedev, netted, from, the, baseline], [copil, upset, expectations, of, a, federer, final, against, alexander, zverev, in, a, win, over, the, fifthranked, german, in, the, earlier, semifinal], [the, romanian, aims, for, a, first, title, after, arriving, at, basel, without, a, career, win, over, a, top, opponent], [copil, has, two, after, also, beating, no], [marin, cilic, in, the, se...</td>\n",
       "    </tr>\n",
       "    <tr>\n",
       "      <th>2</th>\n",
       "      <td>3</td>\n",
       "      <td>Roger Federer has revealed that organisers of the re-launched and condensed Davis Cup gave him three days to decide if he would commit to the controversial competition. Speaking at the Swiss Indoors tournament where he will play in Sundays final against Romanian qualifier Marius Copil, the world number three said that given the impossibly short time frame to make a decision, he opted out of any commitment. \"They only left me three days to decide\", Federer said. \"I didn't to have time to consult with all the people I had to consult. \"I could not make a decision in that time, so I told them to do what they wanted.\" The 20-time Grand Slam champion has voiced doubts about the wisdom of the one-week format to be introduced by organisers Kosmos, who have promised the International Tennis Federation up to $3 billion in prize money over the next quarter-century. The competition is set to feature 18 countries in the November 18-24 finals in Madrid next year, and will replace the classic hom...</td>\n",
       "      <td>https://scroll.in/field/899938/tennis-roger-federer-ignored-deadline-set-by-new-davis-cup</td>\n",
       "      <td>[Roger Federer has revealed that organisers of the re-launched and condensed Davis Cup gave him three days to decide if he would commit to the controversial competition., Speaking at the Swiss Indoors tournament where he will play in Sundays final against Romanian qualifier Marius Copil, the world number three said that given the impossibly short time frame to make a decision, he opted out of any commitment., \"They only left me three days to decide\", Federer said., \"I didn't to have time to consult with all the people I had to consult., \"I could not make a decision in that time, so I told them to do what they wanted.\", The 20-time Grand Slam champion has voiced doubts about the wisdom of the one-week format to be introduced by organisers Kosmos, who have promised the International Tennis Federation up to $3 billion in prize money over the next quarter-century., The competition is set to feature 18 countries in the November 18-24 finals in Madrid next year, and will replace the clas...</td>\n",
       "      <td>[[roger, federer, has, revealed, that, organisers, of, the, relaunched, and, condensed, davis, cup, gave, him, three, days, to, decide, if, he, would, commit, to, the, controversial, competition], [speaking, at, the, swiss, indoors, tournament, where, he, will, play, in, sundays, final, against, romanian, qualifier, marius, copil, the, world, number, three, said, that, given, the, impossibly, short, time, frame, to, make, a, decision, he, opted, out, of, any, commitment], [``, they, only, left, me, three, days, to, decide, federer, said], [``, i, did, not, to, have, time, to, consult, with, all, the, people, i, had, to, consult], [``, i, could, not, make, a, decision, in, that, time, so, i, told, them, to, do, what, they, wanted], [the, time, grand, slam, champion, has, voiced, doubts, about, the, wisdom, of, the, oneweek, format, to, be, introduced, by, organisers, kosmos, who, have, promised, the, international, tennis, federation, up, to, billion, in, prize, money, over, the, ne...</td>\n",
       "    </tr>\n",
       "    <tr>\n",
       "      <th>3</th>\n",
       "      <td>4</td>\n",
       "      <td>Kei Nishikori will try to end his long losing streak in ATP finals and Kevin Anderson will go for his second title of the year at the Erste Bank Open on Sunday. The fifth-seeded Nishikori reached his third final of 2018 after beating Mikhail Kukushkin of Kazakhstan 6-4, 6-3 in the semifinals. A winner of 11 ATP events, Nishikori hasn't triumphed since winning in Memphis in February 2016. He has lost eight straight finals since. The second-seeded Anderson defeated Fernando Verdasco 6-3, 3-6, 6-4. Anderson has a shot at a fifth career title and second of the year after winning in New York in February. Nishikori leads Anderson 4-2 on career matchups, but the South African won their only previous meeting this year. With a victory on Sunday, Anderson will qualify for the ATP Finals. Currently in ninth place, Nishikori with a win could move to within 125 points of the cut for the eight-man event in London next month. Nishikori held serve throughout against Kukushkin, who came through qua...</td>\n",
       "      <td>http://www.tennis.com/pro-game/2018/10/nishikori-beats-kukushkin-in-vienna-for-3rd-final-of-season/77719/</td>\n",
       "      <td>[Kei Nishikori will try to end his long losing streak in ATP finals and Kevin Anderson will go for his second title of the year at the Erste Bank Open on Sunday., The fifth-seeded Nishikori reached his third final of 2018 after beating Mikhail Kukushkin of Kazakhstan 6-4, 6-3 in the semifinals., A winner of 11 ATP events, Nishikori hasn't triumphed since winning in Memphis in February 2016., He has lost eight straight finals since., The second-seeded Anderson defeated Fernando Verdasco 6-3, 3-6, 6-4., Anderson has a shot at a fifth career title and second of the year after winning in New York in February., Nishikori leads Anderson 4-2 on career matchups, but the South African won their only previous meeting this year., With a victory on Sunday, Anderson will qualify for the ATP Finals., Currently in ninth place, Nishikori with a win could move to within 125 points of the cut for the eight-man event in London next month., Nishikori held serve throughout against Kukushkin, who came t...</td>\n",
       "      <td>[[kei, nishikori, will, try, to, end, his, long, losing, streak, in, atp, finals, and, kevin, anderson, will, go, for, his, second, title, of, the, year, at, the, erste, bank, open, on, sunday], [the, fifthseeded, nishikori, reached, his, third, final, of, after, beating, mikhail, kukushkin, of, kazakhstan, in, the, semifinals], [a, winner, of, atp, events, nishikori, has, not, triumphed, since, winning, in, memphis, in, february], [he, has, lost, eight, straight, finals, since], [the, secondseeded, anderson, defeated, fernando, verdasco], [anderson, has, a, shot, at, a, fifth, career, title, and, second, of, the, year, after, winning, in, new, york, in, february], [nishikori, leads, anderson, on, career, matchups, but, the, south, african, won, their, only, previous, meeting, this, year], [with, a, victory, on, sunday, anderson, will, qualify, for, the, atp, finals], [currently, in, ninth, place, nishikori, with, a, win, could, move, to, within, points, of, the, cut, for, the, eig...</td>\n",
       "    </tr>\n",
       "    <tr>\n",
       "      <th>4</th>\n",
       "      <td>5</td>\n",
       "      <td>Federer, 37, first broke through on tour over two decades ago and he has since gone on to enjoy a glittering career. The 20-time Grand Slam winner is chasing his 99th ATP title at the Swiss Indoors this week and he faces Jan-Lennard Struff in the second round on Thursday (6pm BST). Davenport enjoyed most of her success in the late 1990s and her third and final major tournament win came at the 2000 Australian Open. But she claims the mentality of professional tennis players slowly began to change after the new millennium. \"It seems pretty friendly right now,\" said Davenport. \"I think there is a really nice environment and a great atmosphere, especially between some of the veteran players helping some of the younger players out. \"It's a very pleasant atmosphere, I'd have to say, around the locker rooms. \"I felt like the best weeks that I had to get to know players when I was playing were the Fed Cup weeks or the Olympic weeks, not necessarily during the tournaments. \"And even though ...</td>\n",
       "      <td>https://www.express.co.uk/sport/tennis/1036101/Roger-Federer-Swiss-Indoors-Jan-Lennard-Struff-Lindsay-Davenport</td>\n",
       "      <td>[Federer, 37, first broke through on tour over two decades ago and he has since gone on to enjoy a glittering career., The 20-time Grand Slam winner is chasing his 99th ATP title at the Swiss Indoors this week and he faces Jan-Lennard Struff in the second round on Thursday (6pm BST)., Davenport enjoyed most of her success in the late 1990s and her third and final major tournament win came at the 2000 Australian Open., But she claims the mentality of professional tennis players slowly began to change after the new millennium., \"It seems pretty friendly right now,\" said Davenport., \"I think there is a really nice environment and a great atmosphere, especially between some of the veteran players helping some of the younger players out., \"It's a very pleasant atmosphere, I'd have to say, around the locker rooms., \"I felt like the best weeks that I had to get to know players when I was playing were the Fed Cup weeks or the Olympic weeks, not necessarily during the tournaments., \"And eve...</td>\n",
       "      <td>[[federer, first, broke, through, on, tour, over, two, decades, ago, and, he, has, since, gone, on, to, enjoy, a, glittering, career], [the, time, grand, slam, winner, is, chasing, his, th, atp, title, at, the, swiss, indoors, this, week, and, he, faces, janlennard, struff, in, the, second, round, on, thursday, pm, bst], [davenport, enjoyed, most, of, her, success, in, the, late, s, and, her, third, and, final, major, tournament, win, came, at, the, australian, open], [but, she, claims, the, mentality, of, professional, tennis, players, slowly, began, to, change, after, the, new, millennium], [``, it, seems, pretty, friendly, right, now, said, davenport], [``, i, think, there, is, a, really, nice, environment, and, a, great, atmosphere, especially, between, some, of, the, veteran, players, helping, some, of, the, younger, players, out], [``, it, is, a, very, pleasant, atmosphere, i, would, have, to, say, around, the, locker, rooms], [``, i, felt, like, the, best, weeks, that, i, ha...</td>\n",
       "    </tr>\n",
       "  </tbody>\n",
       "</table>\n",
       "</div>"
      ],
      "text/plain": [
       "   article_id  \\\n",
       "0           1   \n",
       "1           2   \n",
       "2           3   \n",
       "3           4   \n",
       "4           5   \n",
       "\n",
       "                                                                                                                                                                                                                                                                                                                                                                                                                                                                                                                                                                                                                                                                                                                                                                                                                                                                                                                                                                                                                              article_text  \\\n",
       "0  Maria Sharapova has basically no friends as tennis players on the WTA Tour. The Russian player has no problems in openly speaking about it and in a recent interview she said: 'I don't really hide any feelings too much. I think everyone knows this is my job here. When I'm on the courts or when I'm on the court playing, I'm a competitor and I want to beat every single person whether they're in the locker room or across the net.So I'm not the one to strike up a conversation about the weather and know that in the next few minutes I have to go and try to win a tennis match. I'm a pretty competitive girl. I say my hellos, but I'm not sending any players flowers as well. Uhm, I'm not really friendly or close to many players. I have not a lot of friends away from the courts.' When she said she is not really close to a lot of players, is that something strategic that she is doing? Is it different on the men's tour than the women's tour? 'No, not at all. I think just because you're in the sa...   \n",
       "1  BASEL, Switzerland (AP), Roger Federer advanced to the 14th Swiss Indoors final of his career by beating seventh-seeded Daniil Medvedev 6-1, 6-4 on Saturday. Seeking a ninth title at his hometown event, and a 99th overall, Federer will play 93th-ranked Marius Copil on Sunday. Federer dominated the 20th-ranked Medvedev and had his first match-point chance to break serve again at 5-1. He then dropped his serve to love, and let another match point slip in Medvedev's next service game by netting a backhand. He clinched on his fourth chance when Medvedev netted from the baseline. Copil upset expectations of a Federer final against Alexander Zverev in a 6-3, 6-7 (6), 6-4 win over the fifth-ranked German in the earlier semifinal. The Romanian aims for a first title after arriving at Basel without a career win over a top-10 opponent. Copil has two after also beating No. 6 Marin Cilic in the second round. Copil fired 26 aces past Zverev and never dropped serve, clinching after 2 1/2 hours w...   \n",
       "2  Roger Federer has revealed that organisers of the re-launched and condensed Davis Cup gave him three days to decide if he would commit to the controversial competition. Speaking at the Swiss Indoors tournament where he will play in Sundays final against Romanian qualifier Marius Copil, the world number three said that given the impossibly short time frame to make a decision, he opted out of any commitment. \"They only left me three days to decide\", Federer said. \"I didn't to have time to consult with all the people I had to consult. \"I could not make a decision in that time, so I told them to do what they wanted.\" The 20-time Grand Slam champion has voiced doubts about the wisdom of the one-week format to be introduced by organisers Kosmos, who have promised the International Tennis Federation up to $3 billion in prize money over the next quarter-century. The competition is set to feature 18 countries in the November 18-24 finals in Madrid next year, and will replace the classic hom...   \n",
       "3  Kei Nishikori will try to end his long losing streak in ATP finals and Kevin Anderson will go for his second title of the year at the Erste Bank Open on Sunday. The fifth-seeded Nishikori reached his third final of 2018 after beating Mikhail Kukushkin of Kazakhstan 6-4, 6-3 in the semifinals. A winner of 11 ATP events, Nishikori hasn't triumphed since winning in Memphis in February 2016. He has lost eight straight finals since. The second-seeded Anderson defeated Fernando Verdasco 6-3, 3-6, 6-4. Anderson has a shot at a fifth career title and second of the year after winning in New York in February. Nishikori leads Anderson 4-2 on career matchups, but the South African won their only previous meeting this year. With a victory on Sunday, Anderson will qualify for the ATP Finals. Currently in ninth place, Nishikori with a win could move to within 125 points of the cut for the eight-man event in London next month. Nishikori held serve throughout against Kukushkin, who came through qua...   \n",
       "4  Federer, 37, first broke through on tour over two decades ago and he has since gone on to enjoy a glittering career. The 20-time Grand Slam winner is chasing his 99th ATP title at the Swiss Indoors this week and he faces Jan-Lennard Struff in the second round on Thursday (6pm BST). Davenport enjoyed most of her success in the late 1990s and her third and final major tournament win came at the 2000 Australian Open. But she claims the mentality of professional tennis players slowly began to change after the new millennium. \"It seems pretty friendly right now,\" said Davenport. \"I think there is a really nice environment and a great atmosphere, especially between some of the veteran players helping some of the younger players out. \"It's a very pleasant atmosphere, I'd have to say, around the locker rooms. \"I felt like the best weeks that I had to get to know players when I was playing were the Fed Cup weeks or the Olympic weeks, not necessarily during the tournaments. \"And even though ...   \n",
       "\n",
       "                                                                                                                   source  \\\n",
       "0  https://www.tennisworldusa.org/tennis/news/Maria_Sharapova/62220/i-do-not-have-friends-in-tennis-says-maria-sharapova/   \n",
       "1                http://www.tennis.com/pro-game/2018/10/copil-stuns-5th-ranked-zverev-to-reach-swiss-indoors-final/77721/   \n",
       "2                               https://scroll.in/field/899938/tennis-roger-federer-ignored-deadline-set-by-new-davis-cup   \n",
       "3               http://www.tennis.com/pro-game/2018/10/nishikori-beats-kukushkin-in-vienna-for-3rd-final-of-season/77719/   \n",
       "4         https://www.express.co.uk/sport/tennis/1036101/Roger-Federer-Swiss-Indoors-Jan-Lennard-Struff-Lindsay-Davenport   \n",
       "\n",
       "                                                                                                                                                                                                                                                                                                                                                                                                                                                                                                                                                                                                                                                                                                                                                                                                                                                                                                                                                                                                                         sentenceInArticle  \\\n",
       "0  [Maria Sharapova has basically no friends as tennis players on the WTA Tour., The Russian player has no problems in openly speaking about it and in a recent interview she said: 'I don't really hide any feelings too much., I think everyone knows this is my job here., When I'm on the courts or when I'm on the court playing, I'm a competitor and I want to beat every single person whether they're in the locker room or across the net.So I'm not the one to strike up a conversation about the weather and know that in the next few minutes I have to go and try to win a tennis match., I'm a pretty competitive girl., I say my hellos, but I'm not sending any players flowers as well., Uhm, I'm not really friendly or close to many players., I have not a lot of friends away from the courts.', When she said she is not really close to a lot of players, is that something strategic that she is doing?, Is it different on the men's tour than the women's tour?, 'No, not at all., I think just because you'...   \n",
       "1  [BASEL, Switzerland (AP), Roger Federer advanced to the 14th Swiss Indoors final of his career by beating seventh-seeded Daniil Medvedev 6-1, 6-4 on Saturday., Seeking a ninth title at his hometown event, and a 99th overall, Federer will play 93th-ranked Marius Copil on Sunday., Federer dominated the 20th-ranked Medvedev and had his first match-point chance to break serve again at 5-1., He then dropped his serve to love, and let another match point slip in Medvedev's next service game by netting a backhand., He clinched on his fourth chance when Medvedev netted from the baseline., Copil upset expectations of a Federer final against Alexander Zverev in a 6-3, 6-7 (6), 6-4 win over the fifth-ranked German in the earlier semifinal., The Romanian aims for a first title after arriving at Basel without a career win over a top-10 opponent., Copil has two after also beating No., 6 Marin Cilic in the second round., Copil fired 26 aces past Zverev and never dropped serve, clinching after 2 1...   \n",
       "2  [Roger Federer has revealed that organisers of the re-launched and condensed Davis Cup gave him three days to decide if he would commit to the controversial competition., Speaking at the Swiss Indoors tournament where he will play in Sundays final against Romanian qualifier Marius Copil, the world number three said that given the impossibly short time frame to make a decision, he opted out of any commitment., \"They only left me three days to decide\", Federer said., \"I didn't to have time to consult with all the people I had to consult., \"I could not make a decision in that time, so I told them to do what they wanted.\", The 20-time Grand Slam champion has voiced doubts about the wisdom of the one-week format to be introduced by organisers Kosmos, who have promised the International Tennis Federation up to $3 billion in prize money over the next quarter-century., The competition is set to feature 18 countries in the November 18-24 finals in Madrid next year, and will replace the clas...   \n",
       "3  [Kei Nishikori will try to end his long losing streak in ATP finals and Kevin Anderson will go for his second title of the year at the Erste Bank Open on Sunday., The fifth-seeded Nishikori reached his third final of 2018 after beating Mikhail Kukushkin of Kazakhstan 6-4, 6-3 in the semifinals., A winner of 11 ATP events, Nishikori hasn't triumphed since winning in Memphis in February 2016., He has lost eight straight finals since., The second-seeded Anderson defeated Fernando Verdasco 6-3, 3-6, 6-4., Anderson has a shot at a fifth career title and second of the year after winning in New York in February., Nishikori leads Anderson 4-2 on career matchups, but the South African won their only previous meeting this year., With a victory on Sunday, Anderson will qualify for the ATP Finals., Currently in ninth place, Nishikori with a win could move to within 125 points of the cut for the eight-man event in London next month., Nishikori held serve throughout against Kukushkin, who came t...   \n",
       "4  [Federer, 37, first broke through on tour over two decades ago and he has since gone on to enjoy a glittering career., The 20-time Grand Slam winner is chasing his 99th ATP title at the Swiss Indoors this week and he faces Jan-Lennard Struff in the second round on Thursday (6pm BST)., Davenport enjoyed most of her success in the late 1990s and her third and final major tournament win came at the 2000 Australian Open., But she claims the mentality of professional tennis players slowly began to change after the new millennium., \"It seems pretty friendly right now,\" said Davenport., \"I think there is a really nice environment and a great atmosphere, especially between some of the veteran players helping some of the younger players out., \"It's a very pleasant atmosphere, I'd have to say, around the locker rooms., \"I felt like the best weeks that I had to get to know players when I was playing were the Fed Cup weeks or the Olympic weeks, not necessarily during the tournaments., \"And eve...   \n",
       "\n",
       "                                                                                                                                                                                                                                                                                                                                                                                                                                                                                                                                                                                                                                                                                                                                                                                                                                                                                                                                                                                                                           WordInSentences  \n",
       "0  [[maria, sharapova, has, basically, no, friends, as, tennis, players, on, the, wta, tour], [the, russian, player, has, no, problems, in, openly, speaking, about, it, and, in, a, recent, interview, she, said, i, do, not, really, hide, any, feelings, too, much], [i, think, everyone, knows, this, is, my, job, here], [when, i, am, on, the, courts, or, when, i, am, on, the, court, playing, i, am, a, competitor, and, i, want, to, beat, every, single, person, whether, they, are, in, the, locker, room, or, across, the, netso, i, am, not, the, one, to, strike, up, a, conversation, about, the, weather, and, know, that, in, the, next, few, minutes, i, have, to, go, and, try, to, win, a, tennis, match], [i, am, a, pretty, competitive, girl], [i, say, my, hellos, but, i, am, not, sending, any, players, flowers, as, well], [uhm, i, am, not, really, friendly, or, close, to, many, players], [i, have, not, a, lot, of, friends, away, from, the, courts], [when, she, said, she, is, not, really, close,...  \n",
       "1  [[basel, switzerland, ap, roger, federer, advanced, to, the, th, swiss, indoors, final, of, his, career, by, beating, seventhseeded, daniil, medvedev, on, saturday], [seeking, a, ninth, title, at, his, hometown, event, and, a, th, overall, federer, will, play, thranked, marius, copil, on, sunday], [federer, dominated, the, thranked, medvedev, and, had, his, first, matchpoint, chance, to, break, serve, again, at], [he, then, dropped, his, serve, to, love, and, let, another, match, point, slip, in, medvedev, s, next, service, game, by, netting, a, backhand], [he, clinched, on, his, fourth, chance, when, medvedev, netted, from, the, baseline], [copil, upset, expectations, of, a, federer, final, against, alexander, zverev, in, a, win, over, the, fifthranked, german, in, the, earlier, semifinal], [the, romanian, aims, for, a, first, title, after, arriving, at, basel, without, a, career, win, over, a, top, opponent], [copil, has, two, after, also, beating, no], [marin, cilic, in, the, se...  \n",
       "2  [[roger, federer, has, revealed, that, organisers, of, the, relaunched, and, condensed, davis, cup, gave, him, three, days, to, decide, if, he, would, commit, to, the, controversial, competition], [speaking, at, the, swiss, indoors, tournament, where, he, will, play, in, sundays, final, against, romanian, qualifier, marius, copil, the, world, number, three, said, that, given, the, impossibly, short, time, frame, to, make, a, decision, he, opted, out, of, any, commitment], [``, they, only, left, me, three, days, to, decide, federer, said], [``, i, did, not, to, have, time, to, consult, with, all, the, people, i, had, to, consult], [``, i, could, not, make, a, decision, in, that, time, so, i, told, them, to, do, what, they, wanted], [the, time, grand, slam, champion, has, voiced, doubts, about, the, wisdom, of, the, oneweek, format, to, be, introduced, by, organisers, kosmos, who, have, promised, the, international, tennis, federation, up, to, billion, in, prize, money, over, the, ne...  \n",
       "3  [[kei, nishikori, will, try, to, end, his, long, losing, streak, in, atp, finals, and, kevin, anderson, will, go, for, his, second, title, of, the, year, at, the, erste, bank, open, on, sunday], [the, fifthseeded, nishikori, reached, his, third, final, of, after, beating, mikhail, kukushkin, of, kazakhstan, in, the, semifinals], [a, winner, of, atp, events, nishikori, has, not, triumphed, since, winning, in, memphis, in, february], [he, has, lost, eight, straight, finals, since], [the, secondseeded, anderson, defeated, fernando, verdasco], [anderson, has, a, shot, at, a, fifth, career, title, and, second, of, the, year, after, winning, in, new, york, in, february], [nishikori, leads, anderson, on, career, matchups, but, the, south, african, won, their, only, previous, meeting, this, year], [with, a, victory, on, sunday, anderson, will, qualify, for, the, atp, finals], [currently, in, ninth, place, nishikori, with, a, win, could, move, to, within, points, of, the, cut, for, the, eig...  \n",
       "4  [[federer, first, broke, through, on, tour, over, two, decades, ago, and, he, has, since, gone, on, to, enjoy, a, glittering, career], [the, time, grand, slam, winner, is, chasing, his, th, atp, title, at, the, swiss, indoors, this, week, and, he, faces, janlennard, struff, in, the, second, round, on, thursday, pm, bst], [davenport, enjoyed, most, of, her, success, in, the, late, s, and, her, third, and, final, major, tournament, win, came, at, the, australian, open], [but, she, claims, the, mentality, of, professional, tennis, players, slowly, began, to, change, after, the, new, millennium], [``, it, seems, pretty, friendly, right, now, said, davenport], [``, i, think, there, is, a, really, nice, environment, and, a, great, atmosphere, especially, between, some, of, the, veteran, players, helping, some, of, the, younger, players, out], [``, it, is, a, very, pleasant, atmosphere, i, would, have, to, say, around, the, locker, rooms], [``, i, felt, like, the, best, weeks, that, i, ha...  "
      ]
     },
     "execution_count": 17,
     "metadata": {},
     "output_type": "execute_result"
    }
   ],
   "source": [
    "doc.head()"
   ]
  },
  {
   "cell_type": "markdown",
   "metadata": {},
   "source": [
    "Subset the articles"
   ]
  },
  {
   "cell_type": "code",
   "execution_count": 19,
   "metadata": {},
   "outputs": [],
   "source": [
    "articles=doc[['sentenceInArticle','WordInSentences']]"
   ]
  },
  {
   "cell_type": "code",
   "execution_count": 21,
   "metadata": {},
   "outputs": [
    {
     "data": {
      "text/html": [
       "<div>\n",
       "<style scoped>\n",
       "    .dataframe tbody tr th:only-of-type {\n",
       "        vertical-align: middle;\n",
       "    }\n",
       "\n",
       "    .dataframe tbody tr th {\n",
       "        vertical-align: top;\n",
       "    }\n",
       "\n",
       "    .dataframe thead th {\n",
       "        text-align: right;\n",
       "    }\n",
       "</style>\n",
       "<table border=\"1\" class=\"dataframe\">\n",
       "  <thead>\n",
       "    <tr style=\"text-align: right;\">\n",
       "      <th></th>\n",
       "      <th>sentenceInArticle</th>\n",
       "      <th>WordInSentences</th>\n",
       "    </tr>\n",
       "  </thead>\n",
       "  <tbody>\n",
       "    <tr>\n",
       "      <th>0</th>\n",
       "      <td>[Maria Sharapova has basically no friends as tennis players on the WTA Tour., The Russian player has no problems in openly speaking about it and in a recent interview she said: 'I don't really hide any feelings too much., I think everyone knows this is my job here., When I'm on the courts or when I'm on the court playing, I'm a competitor and I want to beat every single person whether they're in the locker room or across the net.So I'm not the one to strike up a conversation about the weather and know that in the next few minutes I have to go and try to win a tennis match., I'm a pretty competitive girl., I say my hellos, but I'm not sending any players flowers as well., Uhm, I'm not really friendly or close to many players., I have not a lot of friends away from the courts.', When she said she is not really close to a lot of players, is that something strategic that she is doing?, Is it different on the men's tour than the women's tour?, 'No, not at all., I think just because you'...</td>\n",
       "      <td>[[maria, sharapova, has, basically, no, friends, as, tennis, players, on, the, wta, tour], [the, russian, player, has, no, problems, in, openly, speaking, about, it, and, in, a, recent, interview, she, said, i, do, not, really, hide, any, feelings, too, much], [i, think, everyone, knows, this, is, my, job, here], [when, i, am, on, the, courts, or, when, i, am, on, the, court, playing, i, am, a, competitor, and, i, want, to, beat, every, single, person, whether, they, are, in, the, locker, room, or, across, the, netso, i, am, not, the, one, to, strike, up, a, conversation, about, the, weather, and, know, that, in, the, next, few, minutes, i, have, to, go, and, try, to, win, a, tennis, match], [i, am, a, pretty, competitive, girl], [i, say, my, hellos, but, i, am, not, sending, any, players, flowers, as, well], [uhm, i, am, not, really, friendly, or, close, to, many, players], [i, have, not, a, lot, of, friends, away, from, the, courts], [when, she, said, she, is, not, really, close,...</td>\n",
       "    </tr>\n",
       "    <tr>\n",
       "      <th>1</th>\n",
       "      <td>[BASEL, Switzerland (AP), Roger Federer advanced to the 14th Swiss Indoors final of his career by beating seventh-seeded Daniil Medvedev 6-1, 6-4 on Saturday., Seeking a ninth title at his hometown event, and a 99th overall, Federer will play 93th-ranked Marius Copil on Sunday., Federer dominated the 20th-ranked Medvedev and had his first match-point chance to break serve again at 5-1., He then dropped his serve to love, and let another match point slip in Medvedev's next service game by netting a backhand., He clinched on his fourth chance when Medvedev netted from the baseline., Copil upset expectations of a Federer final against Alexander Zverev in a 6-3, 6-7 (6), 6-4 win over the fifth-ranked German in the earlier semifinal., The Romanian aims for a first title after arriving at Basel without a career win over a top-10 opponent., Copil has two after also beating No., 6 Marin Cilic in the second round., Copil fired 26 aces past Zverev and never dropped serve, clinching after 2 1...</td>\n",
       "      <td>[[basel, switzerland, ap, roger, federer, advanced, to, the, th, swiss, indoors, final, of, his, career, by, beating, seventhseeded, daniil, medvedev, on, saturday], [seeking, a, ninth, title, at, his, hometown, event, and, a, th, overall, federer, will, play, thranked, marius, copil, on, sunday], [federer, dominated, the, thranked, medvedev, and, had, his, first, matchpoint, chance, to, break, serve, again, at], [he, then, dropped, his, serve, to, love, and, let, another, match, point, slip, in, medvedev, s, next, service, game, by, netting, a, backhand], [he, clinched, on, his, fourth, chance, when, medvedev, netted, from, the, baseline], [copil, upset, expectations, of, a, federer, final, against, alexander, zverev, in, a, win, over, the, fifthranked, german, in, the, earlier, semifinal], [the, romanian, aims, for, a, first, title, after, arriving, at, basel, without, a, career, win, over, a, top, opponent], [copil, has, two, after, also, beating, no], [marin, cilic, in, the, se...</td>\n",
       "    </tr>\n",
       "    <tr>\n",
       "      <th>2</th>\n",
       "      <td>[Roger Federer has revealed that organisers of the re-launched and condensed Davis Cup gave him three days to decide if he would commit to the controversial competition., Speaking at the Swiss Indoors tournament where he will play in Sundays final against Romanian qualifier Marius Copil, the world number three said that given the impossibly short time frame to make a decision, he opted out of any commitment., \"They only left me three days to decide\", Federer said., \"I didn't to have time to consult with all the people I had to consult., \"I could not make a decision in that time, so I told them to do what they wanted.\", The 20-time Grand Slam champion has voiced doubts about the wisdom of the one-week format to be introduced by organisers Kosmos, who have promised the International Tennis Federation up to $3 billion in prize money over the next quarter-century., The competition is set to feature 18 countries in the November 18-24 finals in Madrid next year, and will replace the clas...</td>\n",
       "      <td>[[roger, federer, has, revealed, that, organisers, of, the, relaunched, and, condensed, davis, cup, gave, him, three, days, to, decide, if, he, would, commit, to, the, controversial, competition], [speaking, at, the, swiss, indoors, tournament, where, he, will, play, in, sundays, final, against, romanian, qualifier, marius, copil, the, world, number, three, said, that, given, the, impossibly, short, time, frame, to, make, a, decision, he, opted, out, of, any, commitment], [``, they, only, left, me, three, days, to, decide, federer, said], [``, i, did, not, to, have, time, to, consult, with, all, the, people, i, had, to, consult], [``, i, could, not, make, a, decision, in, that, time, so, i, told, them, to, do, what, they, wanted], [the, time, grand, slam, champion, has, voiced, doubts, about, the, wisdom, of, the, oneweek, format, to, be, introduced, by, organisers, kosmos, who, have, promised, the, international, tennis, federation, up, to, billion, in, prize, money, over, the, ne...</td>\n",
       "    </tr>\n",
       "    <tr>\n",
       "      <th>3</th>\n",
       "      <td>[Kei Nishikori will try to end his long losing streak in ATP finals and Kevin Anderson will go for his second title of the year at the Erste Bank Open on Sunday., The fifth-seeded Nishikori reached his third final of 2018 after beating Mikhail Kukushkin of Kazakhstan 6-4, 6-3 in the semifinals., A winner of 11 ATP events, Nishikori hasn't triumphed since winning in Memphis in February 2016., He has lost eight straight finals since., The second-seeded Anderson defeated Fernando Verdasco 6-3, 3-6, 6-4., Anderson has a shot at a fifth career title and second of the year after winning in New York in February., Nishikori leads Anderson 4-2 on career matchups, but the South African won their only previous meeting this year., With a victory on Sunday, Anderson will qualify for the ATP Finals., Currently in ninth place, Nishikori with a win could move to within 125 points of the cut for the eight-man event in London next month., Nishikori held serve throughout against Kukushkin, who came t...</td>\n",
       "      <td>[[kei, nishikori, will, try, to, end, his, long, losing, streak, in, atp, finals, and, kevin, anderson, will, go, for, his, second, title, of, the, year, at, the, erste, bank, open, on, sunday], [the, fifthseeded, nishikori, reached, his, third, final, of, after, beating, mikhail, kukushkin, of, kazakhstan, in, the, semifinals], [a, winner, of, atp, events, nishikori, has, not, triumphed, since, winning, in, memphis, in, february], [he, has, lost, eight, straight, finals, since], [the, secondseeded, anderson, defeated, fernando, verdasco], [anderson, has, a, shot, at, a, fifth, career, title, and, second, of, the, year, after, winning, in, new, york, in, february], [nishikori, leads, anderson, on, career, matchups, but, the, south, african, won, their, only, previous, meeting, this, year], [with, a, victory, on, sunday, anderson, will, qualify, for, the, atp, finals], [currently, in, ninth, place, nishikori, with, a, win, could, move, to, within, points, of, the, cut, for, the, eig...</td>\n",
       "    </tr>\n",
       "    <tr>\n",
       "      <th>4</th>\n",
       "      <td>[Federer, 37, first broke through on tour over two decades ago and he has since gone on to enjoy a glittering career., The 20-time Grand Slam winner is chasing his 99th ATP title at the Swiss Indoors this week and he faces Jan-Lennard Struff in the second round on Thursday (6pm BST)., Davenport enjoyed most of her success in the late 1990s and her third and final major tournament win came at the 2000 Australian Open., But she claims the mentality of professional tennis players slowly began to change after the new millennium., \"It seems pretty friendly right now,\" said Davenport., \"I think there is a really nice environment and a great atmosphere, especially between some of the veteran players helping some of the younger players out., \"It's a very pleasant atmosphere, I'd have to say, around the locker rooms., \"I felt like the best weeks that I had to get to know players when I was playing were the Fed Cup weeks or the Olympic weeks, not necessarily during the tournaments., \"And eve...</td>\n",
       "      <td>[[federer, first, broke, through, on, tour, over, two, decades, ago, and, he, has, since, gone, on, to, enjoy, a, glittering, career], [the, time, grand, slam, winner, is, chasing, his, th, atp, title, at, the, swiss, indoors, this, week, and, he, faces, janlennard, struff, in, the, second, round, on, thursday, pm, bst], [davenport, enjoyed, most, of, her, success, in, the, late, s, and, her, third, and, final, major, tournament, win, came, at, the, australian, open], [but, she, claims, the, mentality, of, professional, tennis, players, slowly, began, to, change, after, the, new, millennium], [``, it, seems, pretty, friendly, right, now, said, davenport], [``, i, think, there, is, a, really, nice, environment, and, a, great, atmosphere, especially, between, some, of, the, veteran, players, helping, some, of, the, younger, players, out], [``, it, is, a, very, pleasant, atmosphere, i, would, have, to, say, around, the, locker, rooms], [``, i, felt, like, the, best, weeks, that, i, ha...</td>\n",
       "    </tr>\n",
       "  </tbody>\n",
       "</table>\n",
       "</div>"
      ],
      "text/plain": [
       "                                                                                                                                                                                                                                                                                                                                                                                                                                                                                                                                                                                                                                                                                                                                                                                                                                                                                                                                                                                                                         sentenceInArticle  \\\n",
       "0  [Maria Sharapova has basically no friends as tennis players on the WTA Tour., The Russian player has no problems in openly speaking about it and in a recent interview she said: 'I don't really hide any feelings too much., I think everyone knows this is my job here., When I'm on the courts or when I'm on the court playing, I'm a competitor and I want to beat every single person whether they're in the locker room or across the net.So I'm not the one to strike up a conversation about the weather and know that in the next few minutes I have to go and try to win a tennis match., I'm a pretty competitive girl., I say my hellos, but I'm not sending any players flowers as well., Uhm, I'm not really friendly or close to many players., I have not a lot of friends away from the courts.', When she said she is not really close to a lot of players, is that something strategic that she is doing?, Is it different on the men's tour than the women's tour?, 'No, not at all., I think just because you'...   \n",
       "1  [BASEL, Switzerland (AP), Roger Federer advanced to the 14th Swiss Indoors final of his career by beating seventh-seeded Daniil Medvedev 6-1, 6-4 on Saturday., Seeking a ninth title at his hometown event, and a 99th overall, Federer will play 93th-ranked Marius Copil on Sunday., Federer dominated the 20th-ranked Medvedev and had his first match-point chance to break serve again at 5-1., He then dropped his serve to love, and let another match point slip in Medvedev's next service game by netting a backhand., He clinched on his fourth chance when Medvedev netted from the baseline., Copil upset expectations of a Federer final against Alexander Zverev in a 6-3, 6-7 (6), 6-4 win over the fifth-ranked German in the earlier semifinal., The Romanian aims for a first title after arriving at Basel without a career win over a top-10 opponent., Copil has two after also beating No., 6 Marin Cilic in the second round., Copil fired 26 aces past Zverev and never dropped serve, clinching after 2 1...   \n",
       "2  [Roger Federer has revealed that organisers of the re-launched and condensed Davis Cup gave him three days to decide if he would commit to the controversial competition., Speaking at the Swiss Indoors tournament where he will play in Sundays final against Romanian qualifier Marius Copil, the world number three said that given the impossibly short time frame to make a decision, he opted out of any commitment., \"They only left me three days to decide\", Federer said., \"I didn't to have time to consult with all the people I had to consult., \"I could not make a decision in that time, so I told them to do what they wanted.\", The 20-time Grand Slam champion has voiced doubts about the wisdom of the one-week format to be introduced by organisers Kosmos, who have promised the International Tennis Federation up to $3 billion in prize money over the next quarter-century., The competition is set to feature 18 countries in the November 18-24 finals in Madrid next year, and will replace the clas...   \n",
       "3  [Kei Nishikori will try to end his long losing streak in ATP finals and Kevin Anderson will go for his second title of the year at the Erste Bank Open on Sunday., The fifth-seeded Nishikori reached his third final of 2018 after beating Mikhail Kukushkin of Kazakhstan 6-4, 6-3 in the semifinals., A winner of 11 ATP events, Nishikori hasn't triumphed since winning in Memphis in February 2016., He has lost eight straight finals since., The second-seeded Anderson defeated Fernando Verdasco 6-3, 3-6, 6-4., Anderson has a shot at a fifth career title and second of the year after winning in New York in February., Nishikori leads Anderson 4-2 on career matchups, but the South African won their only previous meeting this year., With a victory on Sunday, Anderson will qualify for the ATP Finals., Currently in ninth place, Nishikori with a win could move to within 125 points of the cut for the eight-man event in London next month., Nishikori held serve throughout against Kukushkin, who came t...   \n",
       "4  [Federer, 37, first broke through on tour over two decades ago and he has since gone on to enjoy a glittering career., The 20-time Grand Slam winner is chasing his 99th ATP title at the Swiss Indoors this week and he faces Jan-Lennard Struff in the second round on Thursday (6pm BST)., Davenport enjoyed most of her success in the late 1990s and her third and final major tournament win came at the 2000 Australian Open., But she claims the mentality of professional tennis players slowly began to change after the new millennium., \"It seems pretty friendly right now,\" said Davenport., \"I think there is a really nice environment and a great atmosphere, especially between some of the veteran players helping some of the younger players out., \"It's a very pleasant atmosphere, I'd have to say, around the locker rooms., \"I felt like the best weeks that I had to get to know players when I was playing were the Fed Cup weeks or the Olympic weeks, not necessarily during the tournaments., \"And eve...   \n",
       "\n",
       "                                                                                                                                                                                                                                                                                                                                                                                                                                                                                                                                                                                                                                                                                                                                                                                                                                                                                                                                                                                                                           WordInSentences  \n",
       "0  [[maria, sharapova, has, basically, no, friends, as, tennis, players, on, the, wta, tour], [the, russian, player, has, no, problems, in, openly, speaking, about, it, and, in, a, recent, interview, she, said, i, do, not, really, hide, any, feelings, too, much], [i, think, everyone, knows, this, is, my, job, here], [when, i, am, on, the, courts, or, when, i, am, on, the, court, playing, i, am, a, competitor, and, i, want, to, beat, every, single, person, whether, they, are, in, the, locker, room, or, across, the, netso, i, am, not, the, one, to, strike, up, a, conversation, about, the, weather, and, know, that, in, the, next, few, minutes, i, have, to, go, and, try, to, win, a, tennis, match], [i, am, a, pretty, competitive, girl], [i, say, my, hellos, but, i, am, not, sending, any, players, flowers, as, well], [uhm, i, am, not, really, friendly, or, close, to, many, players], [i, have, not, a, lot, of, friends, away, from, the, courts], [when, she, said, she, is, not, really, close,...  \n",
       "1  [[basel, switzerland, ap, roger, federer, advanced, to, the, th, swiss, indoors, final, of, his, career, by, beating, seventhseeded, daniil, medvedev, on, saturday], [seeking, a, ninth, title, at, his, hometown, event, and, a, th, overall, federer, will, play, thranked, marius, copil, on, sunday], [federer, dominated, the, thranked, medvedev, and, had, his, first, matchpoint, chance, to, break, serve, again, at], [he, then, dropped, his, serve, to, love, and, let, another, match, point, slip, in, medvedev, s, next, service, game, by, netting, a, backhand], [he, clinched, on, his, fourth, chance, when, medvedev, netted, from, the, baseline], [copil, upset, expectations, of, a, federer, final, against, alexander, zverev, in, a, win, over, the, fifthranked, german, in, the, earlier, semifinal], [the, romanian, aims, for, a, first, title, after, arriving, at, basel, without, a, career, win, over, a, top, opponent], [copil, has, two, after, also, beating, no], [marin, cilic, in, the, se...  \n",
       "2  [[roger, federer, has, revealed, that, organisers, of, the, relaunched, and, condensed, davis, cup, gave, him, three, days, to, decide, if, he, would, commit, to, the, controversial, competition], [speaking, at, the, swiss, indoors, tournament, where, he, will, play, in, sundays, final, against, romanian, qualifier, marius, copil, the, world, number, three, said, that, given, the, impossibly, short, time, frame, to, make, a, decision, he, opted, out, of, any, commitment], [``, they, only, left, me, three, days, to, decide, federer, said], [``, i, did, not, to, have, time, to, consult, with, all, the, people, i, had, to, consult], [``, i, could, not, make, a, decision, in, that, time, so, i, told, them, to, do, what, they, wanted], [the, time, grand, slam, champion, has, voiced, doubts, about, the, wisdom, of, the, oneweek, format, to, be, introduced, by, organisers, kosmos, who, have, promised, the, international, tennis, federation, up, to, billion, in, prize, money, over, the, ne...  \n",
       "3  [[kei, nishikori, will, try, to, end, his, long, losing, streak, in, atp, finals, and, kevin, anderson, will, go, for, his, second, title, of, the, year, at, the, erste, bank, open, on, sunday], [the, fifthseeded, nishikori, reached, his, third, final, of, after, beating, mikhail, kukushkin, of, kazakhstan, in, the, semifinals], [a, winner, of, atp, events, nishikori, has, not, triumphed, since, winning, in, memphis, in, february], [he, has, lost, eight, straight, finals, since], [the, secondseeded, anderson, defeated, fernando, verdasco], [anderson, has, a, shot, at, a, fifth, career, title, and, second, of, the, year, after, winning, in, new, york, in, february], [nishikori, leads, anderson, on, career, matchups, but, the, south, african, won, their, only, previous, meeting, this, year], [with, a, victory, on, sunday, anderson, will, qualify, for, the, atp, finals], [currently, in, ninth, place, nishikori, with, a, win, could, move, to, within, points, of, the, cut, for, the, eig...  \n",
       "4  [[federer, first, broke, through, on, tour, over, two, decades, ago, and, he, has, since, gone, on, to, enjoy, a, glittering, career], [the, time, grand, slam, winner, is, chasing, his, th, atp, title, at, the, swiss, indoors, this, week, and, he, faces, janlennard, struff, in, the, second, round, on, thursday, pm, bst], [davenport, enjoyed, most, of, her, success, in, the, late, s, and, her, third, and, final, major, tournament, win, came, at, the, australian, open], [but, she, claims, the, mentality, of, professional, tennis, players, slowly, began, to, change, after, the, new, millennium], [``, it, seems, pretty, friendly, right, now, said, davenport], [``, i, think, there, is, a, really, nice, environment, and, a, great, atmosphere, especially, between, some, of, the, veteran, players, helping, some, of, the, younger, players, out], [``, it, is, a, very, pleasant, atmosphere, i, would, have, to, say, around, the, locker, rooms], [``, i, felt, like, the, best, weeks, that, i, ha...  "
      ]
     },
     "execution_count": 21,
     "metadata": {},
     "output_type": "execute_result"
    }
   ],
   "source": [
    "articles.head()"
   ]
  },
  {
   "cell_type": "markdown",
   "metadata": {},
   "source": [
    "Create a sentence vectors"
   ]
  },
  {
   "cell_type": "code",
   "execution_count": 23,
   "metadata": {},
   "outputs": [],
   "source": [
    "vector_size=50\n",
    "empty_vector=np.zeros(vector_size)"
   ]
  },
  {
   "cell_type": "code",
   "execution_count": 24,
   "metadata": {},
   "outputs": [],
   "source": [
    "def sentence_vector(sent):\n",
    "    return sum([glove_vectors.get(word, empty_vector) for word in sent])/len(sent)\n",
    "\n",
    "def sentences_to_vectors(sentences):\n",
    "    return [sentence_vector(s) for s in sentences]"
   ]
  },
  {
   "cell_type": "code",
   "execution_count": 25,
   "metadata": {},
   "outputs": [
    {
     "name": "stderr",
     "output_type": "stream",
     "text": [
      "C:\\Users\\Raymond\\Anaconda3\\lib\\site-packages\\ipykernel_launcher.py:1: SettingWithCopyWarning: \n",
      "A value is trying to be set on a copy of a slice from a DataFrame.\n",
      "Try using .loc[row_indexer,col_indexer] = value instead\n",
      "\n",
      "See the caveats in the documentation: http://pandas.pydata.org/pandas-docs/stable/indexing.html#indexing-view-versus-copy\n",
      "  \"\"\"Entry point for launching an IPython kernel.\n"
     ]
    }
   ],
   "source": [
    "articles['SentenceVector']=articles['WordInSentences'].apply(sentences_to_vectors)"
   ]
  },
  {
   "cell_type": "markdown",
   "metadata": {},
   "source": [
    "Create a similiarity matrix captures the degree to which one sentence is similiart to another"
   ]
  },
  {
   "cell_type": "code",
   "execution_count": 26,
   "metadata": {},
   "outputs": [],
   "source": [
    "from sklearn.metrics.pairwise import cosine_similarity"
   ]
  },
  {
   "cell_type": "code",
   "execution_count": 27,
   "metadata": {},
   "outputs": [],
   "source": [
    "def similarity_matrix(sent_vectors):\n",
    "    sim_mat=np.zeros([len(sent_vectors), len(sent_vectors)])\n",
    "    for i in range(len(sent_vectors)):\n",
    "        for j in range(len(sent_vectors)):\n",
    "            elment_i = sent_vectors[i].reshape(1, vector_size)\n",
    "            elment_j = sent_vectors[j].reshape(1, vector_size)\n",
    "            sim_mat[i][j] = cosine_similarity(elment_i,elment_j)[0,0]\n",
    "            \n",
    "            return sim_mat"
   ]
  },
  {
   "cell_type": "code",
   "execution_count": 30,
   "metadata": {},
   "outputs": [
    {
     "name": "stderr",
     "output_type": "stream",
     "text": [
      "C:\\Users\\Raymond\\Anaconda3\\lib\\site-packages\\ipykernel_launcher.py:1: SettingWithCopyWarning: \n",
      "A value is trying to be set on a copy of a slice from a DataFrame.\n",
      "Try using .loc[row_indexer,col_indexer] = value instead\n",
      "\n",
      "See the caveats in the documentation: http://pandas.pydata.org/pandas-docs/stable/indexing.html#indexing-view-versus-copy\n",
      "  \"\"\"Entry point for launching an IPython kernel.\n"
     ]
    }
   ],
   "source": [
    "articles['SimMatrix']=articles['SimMatrix']=articles['SentenceVector'].apply(similarity_matrix)"
   ]
  },
  {
   "cell_type": "code",
   "execution_count": 37,
   "metadata": {},
   "outputs": [
    {
     "data": {
      "text/html": [
       "<div>\n",
       "<style scoped>\n",
       "    .dataframe tbody tr th:only-of-type {\n",
       "        vertical-align: middle;\n",
       "    }\n",
       "\n",
       "    .dataframe tbody tr th {\n",
       "        vertical-align: top;\n",
       "    }\n",
       "\n",
       "    .dataframe thead th {\n",
       "        text-align: right;\n",
       "    }\n",
       "</style>\n",
       "<table border=\"1\" class=\"dataframe\">\n",
       "  <thead>\n",
       "    <tr style=\"text-align: right;\">\n",
       "      <th></th>\n",
       "      <th>sentenceInArticle</th>\n",
       "      <th>WordInSentences</th>\n",
       "      <th>SentenceVector</th>\n",
       "      <th>SimMatrix</th>\n",
       "    </tr>\n",
       "  </thead>\n",
       "  <tbody>\n",
       "    <tr>\n",
       "      <th>0</th>\n",
       "      <td>[Maria Sharapova has basically no friends as tennis players on the WTA Tour., The Russian player has no problems in openly speaking about it and in a recent interview she said: 'I don't really hide any feelings too much., I think everyone knows this is my job here., When I'm on the courts or when I'm on the court playing, I'm a competitor and I want to beat every single person whether they're in the locker room or across the net.So I'm not the one to strike up a conversation about the weather and know that in the next few minutes I have to go and try to win a tennis match., I'm a pretty competitive girl., I say my hellos, but I'm not sending any players flowers as well., Uhm, I'm not really friendly or close to many players., I have not a lot of friends away from the courts.', When she said she is not really close to a lot of players, is that something strategic that she is doing?, Is it different on the men's tour than the women's tour?, 'No, not at all., I think just because you'...</td>\n",
       "      <td>[[maria, sharapova, has, basically, no, friends, as, tennis, players, on, the, wta, tour], [the, russian, player, has, no, problems, in, openly, speaking, about, it, and, in, a, recent, interview, she, said, i, do, not, really, hide, any, feelings, too, much], [i, think, everyone, knows, this, is, my, job, here], [when, i, am, on, the, courts, or, when, i, am, on, the, court, playing, i, am, a, competitor, and, i, want, to, beat, every, single, person, whether, they, are, in, the, locker, room, or, across, the, netso, i, am, not, the, one, to, strike, up, a, conversation, about, the, weather, and, know, that, in, the, next, few, minutes, i, have, to, go, and, try, to, win, a, tennis, match], [i, am, a, pretty, competitive, girl], [i, say, my, hellos, but, i, am, not, sending, any, players, flowers, as, well], [uhm, i, am, not, really, friendly, or, close, to, many, players], [i, have, not, a, lot, of, friends, away, from, the, courts], [when, she, said, she, is, not, really, close,...</td>\n",
       "      <td>[[0.07161230769230773, 0.5263353076923079, -0.22625407692307692, 0.4190584615384615, -0.0952153076923077, -0.10156600000000002, -0.40362538461538466, 0.400633476923077, -0.35831371000000006, -0.11500546153846154, 0.11607930769230769, -0.146259, -0.6847891923076924, 0.014327538461538456, 0.783284653846154, 0.046932615384615385, -0.10918245384615388, 0.054596461538461545, -0.29416438461538463, -0.1929796923076923, -0.2468181230769231, 0.3106658461538461, 0.011112153846153848, 0.30192715384615376, 0.12148384615384614, -1.328529230769231, -0.2920881538461539, -0.07721707692307692, -0.3258306923076923, -0.36910523076923074, 2.7283676923076925, 0.24652538461538465, -0.041018076923076914, 0.07203453846153846, 0.022849225384615382, -0.01111693076923078, 0.2808099230769231, 0.4716086153846154, -0.020941546153846143, -0.6126247692307694, -0.007031076923076909, -0.08967269230769231, 0.18087161538461535, 0.06510876923076923, 0.1128052307692308, -0.027662769230769227, -0.06883483846153847, -0.3...</td>\n",
       "      <td>[[1.0000000000000002, 0.0, 0.0, 0.0, 0.0, 0.0, 0.0, 0.0, 0.0, 0.0, 0.0, 0.0, 0.0, 0.0, 0.0, 0.0, 0.0], [0.0, 0.0, 0.0, 0.0, 0.0, 0.0, 0.0, 0.0, 0.0, 0.0, 0.0, 0.0, 0.0, 0.0, 0.0, 0.0, 0.0], [0.0, 0.0, 0.0, 0.0, 0.0, 0.0, 0.0, 0.0, 0.0, 0.0, 0.0, 0.0, 0.0, 0.0, 0.0, 0.0, 0.0], [0.0, 0.0, 0.0, 0.0, 0.0, 0.0, 0.0, 0.0, 0.0, 0.0, 0.0, 0.0, 0.0, 0.0, 0.0, 0.0, 0.0], [0.0, 0.0, 0.0, 0.0, 0.0, 0.0, 0.0, 0.0, 0.0, 0.0, 0.0, 0.0, 0.0, 0.0, 0.0, 0.0, 0.0], [0.0, 0.0, 0.0, 0.0, 0.0, 0.0, 0.0, 0.0, 0.0, 0.0, 0.0, 0.0, 0.0, 0.0, 0.0, 0.0, 0.0], [0.0, 0.0, 0.0, 0.0, 0.0, 0.0, 0.0, 0.0, 0.0, 0.0, 0.0, 0.0, 0.0, 0.0, 0.0, 0.0, 0.0], [0.0, 0.0, 0.0, 0.0, 0.0, 0.0, 0.0, 0.0, 0.0, 0.0, 0.0, 0.0, 0.0, 0.0, 0.0, 0.0, 0.0], [0.0, 0.0, 0.0, 0.0, 0.0, 0.0, 0.0, 0.0, 0.0, 0.0, 0.0, 0.0, 0.0, 0.0, 0.0, 0.0, 0.0], [0.0, 0.0, 0.0, 0.0, 0.0, 0.0, 0.0, 0.0, 0.0, 0.0, 0.0, 0.0, 0.0, 0.0, 0.0, 0.0, 0.0], [0.0, 0.0, 0.0, 0.0, 0.0, 0.0, 0.0, 0.0, 0.0, 0.0, 0.0, 0.0, 0.0, 0.0, 0.0, 0.0, 0.0], [0.0, 0.0, 0.0, 0.0, 0....</td>\n",
       "    </tr>\n",
       "    <tr>\n",
       "      <th>1</th>\n",
       "      <td>[BASEL, Switzerland (AP), Roger Federer advanced to the 14th Swiss Indoors final of his career by beating seventh-seeded Daniil Medvedev 6-1, 6-4 on Saturday., Seeking a ninth title at his hometown event, and a 99th overall, Federer will play 93th-ranked Marius Copil on Sunday., Federer dominated the 20th-ranked Medvedev and had his first match-point chance to break serve again at 5-1., He then dropped his serve to love, and let another match point slip in Medvedev's next service game by netting a backhand., He clinched on his fourth chance when Medvedev netted from the baseline., Copil upset expectations of a Federer final against Alexander Zverev in a 6-3, 6-7 (6), 6-4 win over the fifth-ranked German in the earlier semifinal., The Romanian aims for a first title after arriving at Basel without a career win over a top-10 opponent., Copil has two after also beating No., 6 Marin Cilic in the second round., Copil fired 26 aces past Zverev and never dropped serve, clinching after 2 1...</td>\n",
       "      <td>[[basel, switzerland, ap, roger, federer, advanced, to, the, th, swiss, indoors, final, of, his, career, by, beating, seventhseeded, daniil, medvedev, on, saturday], [seeking, a, ninth, title, at, his, hometown, event, and, a, th, overall, federer, will, play, thranked, marius, copil, on, sunday], [federer, dominated, the, thranked, medvedev, and, had, his, first, matchpoint, chance, to, break, serve, again, at], [he, then, dropped, his, serve, to, love, and, let, another, match, point, slip, in, medvedev, s, next, service, game, by, netting, a, backhand], [he, clinched, on, his, fourth, chance, when, medvedev, netted, from, the, baseline], [copil, upset, expectations, of, a, federer, final, against, alexander, zverev, in, a, win, over, the, fifthranked, german, in, the, earlier, semifinal], [the, romanian, aims, for, a, first, title, after, arriving, at, basel, without, a, career, win, over, a, top, opponent], [copil, has, two, after, also, beating, no], [marin, cilic, in, the, se...</td>\n",
       "      <td>[[-0.04118086363636363, 0.3783945909090909, -0.09865840909090907, 0.2834696363636364, 0.016647883181818177, -0.08658890909090906, -0.23910705000000004, 0.3978880909090909, -0.4083776922727273, -0.0862470909090909, 0.1902452272727273, -0.2986129545454545, -0.6385927272727273, -0.031250136363636376, 0.5444554772727271, -0.1095599090909091, -0.13976365909090907, -0.4376720772727273, -0.6052627727272726, 0.11610288409090913, -0.00404738636363637, -0.022918954545454527, -0.04588368181818183, -0.01739659090909088, -0.029735613636363633, -1.1522947090909093, 0.07495704545454546, -0.22785550000000002, -0.23360109090909092, -0.08926977272727274, 2.1310990909090908, 0.1533223181818182, -0.07642998636363636, 4.954545454545331e-05, -0.12957568500000002, -0.09078812272727271, 0.23761849999999998, 0.5697758181818182, 0.022155650000000006, -0.1867798181818182, 0.2605305909090909, -0.06329845454545456, 0.2951025909090909, -0.1664764681818182, 0.15181086363636365, 0.1326979090909091, -0.01367409545...</td>\n",
       "      <td>[[1.0000000000000004, 0.0, 0.0, 0.0, 0.0, 0.0, 0.0, 0.0, 0.0, 0.0, 0.0, 0.0], [0.0, 0.0, 0.0, 0.0, 0.0, 0.0, 0.0, 0.0, 0.0, 0.0, 0.0, 0.0], [0.0, 0.0, 0.0, 0.0, 0.0, 0.0, 0.0, 0.0, 0.0, 0.0, 0.0, 0.0], [0.0, 0.0, 0.0, 0.0, 0.0, 0.0, 0.0, 0.0, 0.0, 0.0, 0.0, 0.0], [0.0, 0.0, 0.0, 0.0, 0.0, 0.0, 0.0, 0.0, 0.0, 0.0, 0.0, 0.0], [0.0, 0.0, 0.0, 0.0, 0.0, 0.0, 0.0, 0.0, 0.0, 0.0, 0.0, 0.0], [0.0, 0.0, 0.0, 0.0, 0.0, 0.0, 0.0, 0.0, 0.0, 0.0, 0.0, 0.0], [0.0, 0.0, 0.0, 0.0, 0.0, 0.0, 0.0, 0.0, 0.0, 0.0, 0.0, 0.0], [0.0, 0.0, 0.0, 0.0, 0.0, 0.0, 0.0, 0.0, 0.0, 0.0, 0.0, 0.0], [0.0, 0.0, 0.0, 0.0, 0.0, 0.0, 0.0, 0.0, 0.0, 0.0, 0.0, 0.0], [0.0, 0.0, 0.0, 0.0, 0.0, 0.0, 0.0, 0.0, 0.0, 0.0, 0.0, 0.0], [0.0, 0.0, 0.0, 0.0, 0.0, 0.0, 0.0, 0.0, 0.0, 0.0, 0.0, 0.0]]</td>\n",
       "    </tr>\n",
       "    <tr>\n",
       "      <th>2</th>\n",
       "      <td>[Roger Federer has revealed that organisers of the re-launched and condensed Davis Cup gave him three days to decide if he would commit to the controversial competition., Speaking at the Swiss Indoors tournament where he will play in Sundays final against Romanian qualifier Marius Copil, the world number three said that given the impossibly short time frame to make a decision, he opted out of any commitment., \"They only left me three days to decide\", Federer said., \"I didn't to have time to consult with all the people I had to consult., \"I could not make a decision in that time, so I told them to do what they wanted.\", The 20-time Grand Slam champion has voiced doubts about the wisdom of the one-week format to be introduced by organisers Kosmos, who have promised the International Tennis Federation up to $3 billion in prize money over the next quarter-century., The competition is set to feature 18 countries in the November 18-24 finals in Madrid next year, and will replace the clas...</td>\n",
       "      <td>[[roger, federer, has, revealed, that, organisers, of, the, relaunched, and, condensed, davis, cup, gave, him, three, days, to, decide, if, he, would, commit, to, the, controversial, competition], [speaking, at, the, swiss, indoors, tournament, where, he, will, play, in, sundays, final, against, romanian, qualifier, marius, copil, the, world, number, three, said, that, given, the, impossibly, short, time, frame, to, make, a, decision, he, opted, out, of, any, commitment], [``, they, only, left, me, three, days, to, decide, federer, said], [``, i, did, not, to, have, time, to, consult, with, all, the, people, i, had, to, consult], [``, i, could, not, make, a, decision, in, that, time, so, i, told, them, to, do, what, they, wanted], [the, time, grand, slam, champion, has, voiced, doubts, about, the, wisdom, of, the, oneweek, format, to, be, introduced, by, organisers, kosmos, who, have, promised, the, international, tennis, federation, up, to, billion, in, prize, money, over, the, ne...</td>\n",
       "      <td>[[0.25328906296296294, 0.12198537037037037, -0.11345479181481483, 0.1446348814814815, 0.1525931851851852, 0.16861987777777784, -0.38139322592592595, 0.2617922222222222, -0.23743694296296297, -0.03473777777777776, 0.035870111111111116, 0.12096629629629627, -0.6220851851851853, -0.0933997037037037, 0.7065455925925925, 0.143282037037037, 0.12736662962962964, -0.19685677777777782, -0.4711523333333333, -0.31522065185185183, 0.1199826296296296, 0.054465311111111095, 0.31118688888888885, -0.10871659259259264, 0.014215555555555558, -1.5483337037037042, -0.10728948148148147, -0.04703542592592592, -0.1138865925925926, -0.21412614814814818, 2.7733540740740743, 0.15372562962962966, -0.41941892592592583, -0.25126889407407405, 0.026628517037037034, -0.11579138518518517, 0.22920711111111114, 0.3417279444444446, -0.09856985555555556, -0.39040711111111115, -0.08489601111111111, -0.02059985185185185, -0.0706187777777778, 0.04860455555555556, -0.06971725925925926, 0.09703904074074075, -0.217581044444...</td>\n",
       "      <td>[[1.0, 0.0, 0.0, 0.0, 0.0, 0.0, 0.0, 0.0, 0.0, 0.0, 0.0, 0.0, 0.0, 0.0, 0.0, 0.0, 0.0], [0.0, 0.0, 0.0, 0.0, 0.0, 0.0, 0.0, 0.0, 0.0, 0.0, 0.0, 0.0, 0.0, 0.0, 0.0, 0.0, 0.0], [0.0, 0.0, 0.0, 0.0, 0.0, 0.0, 0.0, 0.0, 0.0, 0.0, 0.0, 0.0, 0.0, 0.0, 0.0, 0.0, 0.0], [0.0, 0.0, 0.0, 0.0, 0.0, 0.0, 0.0, 0.0, 0.0, 0.0, 0.0, 0.0, 0.0, 0.0, 0.0, 0.0, 0.0], [0.0, 0.0, 0.0, 0.0, 0.0, 0.0, 0.0, 0.0, 0.0, 0.0, 0.0, 0.0, 0.0, 0.0, 0.0, 0.0, 0.0], [0.0, 0.0, 0.0, 0.0, 0.0, 0.0, 0.0, 0.0, 0.0, 0.0, 0.0, 0.0, 0.0, 0.0, 0.0, 0.0, 0.0], [0.0, 0.0, 0.0, 0.0, 0.0, 0.0, 0.0, 0.0, 0.0, 0.0, 0.0, 0.0, 0.0, 0.0, 0.0, 0.0, 0.0], [0.0, 0.0, 0.0, 0.0, 0.0, 0.0, 0.0, 0.0, 0.0, 0.0, 0.0, 0.0, 0.0, 0.0, 0.0, 0.0, 0.0], [0.0, 0.0, 0.0, 0.0, 0.0, 0.0, 0.0, 0.0, 0.0, 0.0, 0.0, 0.0, 0.0, 0.0, 0.0, 0.0, 0.0], [0.0, 0.0, 0.0, 0.0, 0.0, 0.0, 0.0, 0.0, 0.0, 0.0, 0.0, 0.0, 0.0, 0.0, 0.0, 0.0, 0.0], [0.0, 0.0, 0.0, 0.0, 0.0, 0.0, 0.0, 0.0, 0.0, 0.0, 0.0, 0.0, 0.0, 0.0, 0.0, 0.0, 0.0], [0.0, 0.0, 0.0, 0.0, 0.0, 0.0, 0.0, 0....</td>\n",
       "    </tr>\n",
       "    <tr>\n",
       "      <th>3</th>\n",
       "      <td>[Kei Nishikori will try to end his long losing streak in ATP finals and Kevin Anderson will go for his second title of the year at the Erste Bank Open on Sunday., The fifth-seeded Nishikori reached his third final of 2018 after beating Mikhail Kukushkin of Kazakhstan 6-4, 6-3 in the semifinals., A winner of 11 ATP events, Nishikori hasn't triumphed since winning in Memphis in February 2016., He has lost eight straight finals since., The second-seeded Anderson defeated Fernando Verdasco 6-3, 3-6, 6-4., Anderson has a shot at a fifth career title and second of the year after winning in New York in February., Nishikori leads Anderson 4-2 on career matchups, but the South African won their only previous meeting this year., With a victory on Sunday, Anderson will qualify for the ATP Finals., Currently in ninth place, Nishikori with a win could move to within 125 points of the cut for the eight-man event in London next month., Nishikori held serve throughout against Kukushkin, who came t...</td>\n",
       "      <td>[[kei, nishikori, will, try, to, end, his, long, losing, streak, in, atp, finals, and, kevin, anderson, will, go, for, his, second, title, of, the, year, at, the, erste, bank, open, on, sunday], [the, fifthseeded, nishikori, reached, his, third, final, of, after, beating, mikhail, kukushkin, of, kazakhstan, in, the, semifinals], [a, winner, of, atp, events, nishikori, has, not, triumphed, since, winning, in, memphis, in, february], [he, has, lost, eight, straight, finals, since], [the, secondseeded, anderson, defeated, fernando, verdasco], [anderson, has, a, shot, at, a, fifth, career, title, and, second, of, the, year, after, winning, in, new, york, in, february], [nishikori, leads, anderson, on, career, matchups, but, the, south, african, won, their, only, previous, meeting, this, year], [with, a, victory, on, sunday, anderson, will, qualify, for, the, atp, finals], [currently, in, ninth, place, nishikori, with, a, win, could, move, to, within, points, of, the, cut, for, the, eig...</td>\n",
       "      <td>[[-0.07639146874999997, 0.3170033437499999, -0.05655231249999998, 0.33123381250000006, 0.11854274999999999, -0.04550446874999999, -0.41850468749999997, 0.2692358625, -0.25405875718750004, -0.10351577749999999, 0.03690078124999999, -0.08491131562500001, -0.7030106250000001, 0.0020322187500000045, 0.4821976250000001, 0.15320184375, 0.038407875000000015, -0.26271625000000004, -0.6549773749999999, -0.08030978124999998, 0.05498265625000004, 0.035396353125, 0.010837625000000024, -0.04316790625000001, -0.06018543750000003, -1.4377952499999995, 0.05665375, -0.14137571874999993, -0.10342975000000001, -0.27637156250000006, 2.944246562499999, 0.3364460625, -0.16078259374999998, 0.04588156249999999, 0.12576624250000004, -0.1341709625, 0.17272203125000005, 0.2543388749999999, 0.10677622156249998, -0.45882850000000003, -0.2480130625, -0.054150100000000014, 0.0020541562499999944, -0.07792875625, -0.07798153124999999, 0.08807103125, 0.05978199375, -0.27529034375000005, 0.019644781249999993, -0.121...</td>\n",
       "      <td>[[0.9999999999999998, 0.0, 0.0, 0.0, 0.0, 0.0, 0.0, 0.0, 0.0, 0.0, 0.0, 0.0, 0.0], [0.0, 0.0, 0.0, 0.0, 0.0, 0.0, 0.0, 0.0, 0.0, 0.0, 0.0, 0.0, 0.0], [0.0, 0.0, 0.0, 0.0, 0.0, 0.0, 0.0, 0.0, 0.0, 0.0, 0.0, 0.0, 0.0], [0.0, 0.0, 0.0, 0.0, 0.0, 0.0, 0.0, 0.0, 0.0, 0.0, 0.0, 0.0, 0.0], [0.0, 0.0, 0.0, 0.0, 0.0, 0.0, 0.0, 0.0, 0.0, 0.0, 0.0, 0.0, 0.0], [0.0, 0.0, 0.0, 0.0, 0.0, 0.0, 0.0, 0.0, 0.0, 0.0, 0.0, 0.0, 0.0], [0.0, 0.0, 0.0, 0.0, 0.0, 0.0, 0.0, 0.0, 0.0, 0.0, 0.0, 0.0, 0.0], [0.0, 0.0, 0.0, 0.0, 0.0, 0.0, 0.0, 0.0, 0.0, 0.0, 0.0, 0.0, 0.0], [0.0, 0.0, 0.0, 0.0, 0.0, 0.0, 0.0, 0.0, 0.0, 0.0, 0.0, 0.0, 0.0], [0.0, 0.0, 0.0, 0.0, 0.0, 0.0, 0.0, 0.0, 0.0, 0.0, 0.0, 0.0, 0.0], [0.0, 0.0, 0.0, 0.0, 0.0, 0.0, 0.0, 0.0, 0.0, 0.0, 0.0, 0.0, 0.0], [0.0, 0.0, 0.0, 0.0, 0.0, 0.0, 0.0, 0.0, 0.0, 0.0, 0.0, 0.0, 0.0], [0.0, 0.0, 0.0, 0.0, 0.0, 0.0, 0.0, 0.0, 0.0, 0.0, 0.0, 0.0, 0.0]]</td>\n",
       "    </tr>\n",
       "    <tr>\n",
       "      <th>4</th>\n",
       "      <td>[Federer, 37, first broke through on tour over two decades ago and he has since gone on to enjoy a glittering career., The 20-time Grand Slam winner is chasing his 99th ATP title at the Swiss Indoors this week and he faces Jan-Lennard Struff in the second round on Thursday (6pm BST)., Davenport enjoyed most of her success in the late 1990s and her third and final major tournament win came at the 2000 Australian Open., But she claims the mentality of professional tennis players slowly began to change after the new millennium., \"It seems pretty friendly right now,\" said Davenport., \"I think there is a really nice environment and a great atmosphere, especially between some of the veteran players helping some of the younger players out., \"It's a very pleasant atmosphere, I'd have to say, around the locker rooms., \"I felt like the best weeks that I had to get to know players when I was playing were the Fed Cup weeks or the Olympic weeks, not necessarily during the tournaments., \"And eve...</td>\n",
       "      <td>[[federer, first, broke, through, on, tour, over, two, decades, ago, and, he, has, since, gone, on, to, enjoy, a, glittering, career], [the, time, grand, slam, winner, is, chasing, his, th, atp, title, at, the, swiss, indoors, this, week, and, he, faces, janlennard, struff, in, the, second, round, on, thursday, pm, bst], [davenport, enjoyed, most, of, her, success, in, the, late, s, and, her, third, and, final, major, tournament, win, came, at, the, australian, open], [but, she, claims, the, mentality, of, professional, tennis, players, slowly, began, to, change, after, the, new, millennium], [``, it, seems, pretty, friendly, right, now, said, davenport], [``, i, think, there, is, a, really, nice, environment, and, a, great, atmosphere, especially, between, some, of, the, veteran, players, helping, some, of, the, younger, players, out], [``, it, is, a, very, pleasant, atmosphere, i, would, have, to, say, around, the, locker, rooms], [``, i, felt, like, the, best, weeks, that, i, ha...</td>\n",
       "      <td>[[0.08898900000000001, 0.26611004761904766, -0.192052, 0.06671333333333333, 0.028799476190476233, 0.09485580952380952, -0.7151614285714287, 0.18457328571428572, -0.19910014285714284, -0.0065385238095237675, -0.0994645904761905, -0.25375309523809514, -0.6728928571428572, 0.07200021428571428, 0.5973166666666666, -0.07204279047619051, -0.084204, -0.14471214285714284, -0.630137619047619, -0.12544587142857144, 0.11530611428571426, 0.2953277142857143, 0.12353749047619043, -0.15412176190476187, 0.03485861904761905, -1.515292, -0.056055095238095216, 0.032189685714285717, 0.09830066666666666, -0.1126077142857143, 3.173791904761904, 0.2494000952380952, -0.12230876190476193, -0.060254952380952354, 0.0332806, 0.06226409523809525, -0.017406476190476177, 0.43230761904761905, -0.13516719047619047, -0.27663478095238103, -0.3494240952380953, 0.0450542619047619, -0.06251766666666667, 0.05574223809523809, -0.17952464285714287, 0.029179333333333328, -0.09026942857142857, -0.3474336666666667, -0.323819...</td>\n",
       "      <td>[[0.9999999999999999, 0.0, 0.0, 0.0, 0.0, 0.0, 0.0, 0.0, 0.0, 0.0, 0.0, 0.0, 0.0, 0.0, 0.0, 0.0, 0.0, 0.0], [0.0, 0.0, 0.0, 0.0, 0.0, 0.0, 0.0, 0.0, 0.0, 0.0, 0.0, 0.0, 0.0, 0.0, 0.0, 0.0, 0.0, 0.0], [0.0, 0.0, 0.0, 0.0, 0.0, 0.0, 0.0, 0.0, 0.0, 0.0, 0.0, 0.0, 0.0, 0.0, 0.0, 0.0, 0.0, 0.0], [0.0, 0.0, 0.0, 0.0, 0.0, 0.0, 0.0, 0.0, 0.0, 0.0, 0.0, 0.0, 0.0, 0.0, 0.0, 0.0, 0.0, 0.0], [0.0, 0.0, 0.0, 0.0, 0.0, 0.0, 0.0, 0.0, 0.0, 0.0, 0.0, 0.0, 0.0, 0.0, 0.0, 0.0, 0.0, 0.0], [0.0, 0.0, 0.0, 0.0, 0.0, 0.0, 0.0, 0.0, 0.0, 0.0, 0.0, 0.0, 0.0, 0.0, 0.0, 0.0, 0.0, 0.0], [0.0, 0.0, 0.0, 0.0, 0.0, 0.0, 0.0, 0.0, 0.0, 0.0, 0.0, 0.0, 0.0, 0.0, 0.0, 0.0, 0.0, 0.0], [0.0, 0.0, 0.0, 0.0, 0.0, 0.0, 0.0, 0.0, 0.0, 0.0, 0.0, 0.0, 0.0, 0.0, 0.0, 0.0, 0.0, 0.0], [0.0, 0.0, 0.0, 0.0, 0.0, 0.0, 0.0, 0.0, 0.0, 0.0, 0.0, 0.0, 0.0, 0.0, 0.0, 0.0, 0.0, 0.0], [0.0, 0.0, 0.0, 0.0, 0.0, 0.0, 0.0, 0.0, 0.0, 0.0, 0.0, 0.0, 0.0, 0.0, 0.0, 0.0, 0.0, 0.0], [0.0, 0.0, 0.0, 0.0, 0.0, 0.0, 0.0, 0.0, 0.0, 0.0, 0.0, 0.0,...</td>\n",
       "    </tr>\n",
       "    <tr>\n",
       "      <th>5</th>\n",
       "      <td>[Nadal has not played tennis since he was forced to retire from the US Open semi-finals against Juan Martin Del Porto with a knee injury., The world No 1 has been forced to miss Spain's Davis Cup clash with France and the Asian hard court season., But with the ATP World Tour Finals due to begin next month, Nadal is ready to prove his fitness before the season-ending event at the 02 Arena., Nadal flew to Paris on Friday and footage from the Paris Masters official Twitter account shows the Spaniard smiling as he strides onto court for practice., The Paris Masters draw has been made and Nadal will start his campaign on Tuesday or Wednesday against either Fernando Verdasco or Jeremy Chardy., Nadal could then play defending champion Jack Sock in the third round before a potential quarter-final with either Borna Coric or Dominic Thiem., Nadal's appearance in Paris is a big boost to the tournament organisers who could see Roger Federer withdraw., Federer is in action at the Swiss Indoors ...</td>\n",
       "      <td>[[nadal, has, not, played, tennis, since, he, was, forced, to, retire, from, the, us, open, semifinals, against, juan, martin, del, porto, with, a, knee, injury], [the, world, no, has, been, forced, to, miss, spain, s, davis, cup, clash, with, france, and, the, asian, hard, court, season], [but, with, the, atp, world, tour, finals, due, to, begin, next, month, nadal, is, ready, to, prove, his, fitness, before, the, seasonending, event, at, the, arena], [nadal, flew, to, paris, on, friday, and, footage, from, the, paris, masters, official, twitter, account, shows, the, spaniard, smiling, as, he, strides, onto, court, for, practice], [the, paris, masters, draw, has, been, made, and, nadal, will, start, his, campaign, on, tuesday, or, wednesday, against, either, fernando, verdasco, or, jeremy, chardy], [nadal, could, then, play, defending, champion, jack, sock, in, the, third, round, before, a, potential, quarterfinal, with, either, borna, coric, or, dominic, thiem], [nadal, s, appear...</td>\n",
       "      <td>[[0.0595728, 0.201008072, -0.174440024, 0.22917028000000003, -0.12055924000000001, -0.04422483999999999, -0.4168983200000001, 0.44218412, -0.4404146251999999, -0.03139444000000003, 0.21567708400000005, -0.04048592000000003, -0.8964412, -0.21785656, 0.6794646200000001, -0.0264624, -0.05577147999999999, -0.2603052, -0.648198, -0.0685732944, -0.50929012, 0.18059803999999996, 0.011125880000000008, -0.040934080000000005, -0.11462887999999997, -1.5034736000000002, 0.2519576399999999, -0.036819919999999985, -0.07394852000000003, -0.21660300799999999, 2.8490200000000003, 0.17051744000000002, -0.15560212, -0.05535267999999997, 0.0899166052, 0.025858156000000018, 0.29639499999999996, 0.47152568, 0.18968204, -0.4409168400000001, -0.09172443999999999, 0.1246372, 0.1678844, -0.0763804, -0.06714284, 0.08106043999999998, -0.12557168400000002, -0.37549888000000003, -0.04837851999999999, -0.09952616], [0.052012380952380984, 0.19167171428571425, -0.2584274285714286, 0.3418912857142858, 0.06931471428...</td>\n",
       "      <td>[[0.9999999999999999, 0.0, 0.0, 0.0, 0.0, 0.0, 0.0, 0.0, 0.0, 0.0, 0.0, 0.0], [0.0, 0.0, 0.0, 0.0, 0.0, 0.0, 0.0, 0.0, 0.0, 0.0, 0.0, 0.0], [0.0, 0.0, 0.0, 0.0, 0.0, 0.0, 0.0, 0.0, 0.0, 0.0, 0.0, 0.0], [0.0, 0.0, 0.0, 0.0, 0.0, 0.0, 0.0, 0.0, 0.0, 0.0, 0.0, 0.0], [0.0, 0.0, 0.0, 0.0, 0.0, 0.0, 0.0, 0.0, 0.0, 0.0, 0.0, 0.0], [0.0, 0.0, 0.0, 0.0, 0.0, 0.0, 0.0, 0.0, 0.0, 0.0, 0.0, 0.0], [0.0, 0.0, 0.0, 0.0, 0.0, 0.0, 0.0, 0.0, 0.0, 0.0, 0.0, 0.0], [0.0, 0.0, 0.0, 0.0, 0.0, 0.0, 0.0, 0.0, 0.0, 0.0, 0.0, 0.0], [0.0, 0.0, 0.0, 0.0, 0.0, 0.0, 0.0, 0.0, 0.0, 0.0, 0.0, 0.0], [0.0, 0.0, 0.0, 0.0, 0.0, 0.0, 0.0, 0.0, 0.0, 0.0, 0.0, 0.0], [0.0, 0.0, 0.0, 0.0, 0.0, 0.0, 0.0, 0.0, 0.0, 0.0, 0.0, 0.0], [0.0, 0.0, 0.0, 0.0, 0.0, 0.0, 0.0, 0.0, 0.0, 0.0, 0.0, 0.0]]</td>\n",
       "    </tr>\n",
       "    <tr>\n",
       "      <th>6</th>\n",
       "      <td>[Tennis giveth, and tennis taketh away., The end of the season is finally in sight, and with so many players defending,or losing,huge chunks of points in Singapore, Zhuhai and London, podcast co-hosts Nina Pantic and Irina Falconi discuss the art of defending points (02:14)., It's no secret that Jack Sock has struggled on the singles court this year (his record is 7-19)., He could lose 1,400 points in the next few weeks, but instead of focusing on the negative, it can all be about perspective (06:28)., Let's also not forget his two Grand Slam doubles triumphs this season., Two players, Stefanos Tsitsipas and Kyle Edmund, won their first career ATP titles last week (13:26)., It's a big deal because you never forget your first., Irina looks back at her WTA title win in Bogota in 2016, and tells an unforgettable story about her semifinal drama (14:04)., In Singapore, one of the biggest storylines (aside from the matches, of course) has been the on-court coaching debate., Nina and Irin...</td>\n",
       "      <td>[[tennis, giveth, and, tennis, taketh, away], [the, end, of, the, season, is, finally, in, sight, and, with, so, many, players, defending, or, losing, huge, chunks, of, points, in, singapore, zhuhai, and, london, podcast, cohosts, nina, pantic, and, irina, falconi, discuss, the, art, of, defending, points], [it, is, no, secret, that, jack, sock, has, struggled, on, the, singles, court, this, year, his, record, is], [he, could, lose, points, in, the, next, few, weeks, but, instead, of, focusing, on, the, negative, it, can, all, be, about, perspective], [let, us, also, not, forget, his, two, grand, slam, doubles, triumphs, this, season], [two, players, stefanos, tsitsipas, and, kyle, edmund, won, their, first, career, atp, titles, last, week], [it, is, a, big, deal, because, you, never, forget, your, first], [irina, looks, back, at, her, wta, title, win, in, bogota, in, and, tells, an, unforgettable, story, about, her, semifinal, drama], [in, singapore, one, of, the, biggest, storyli...</td>\n",
       "      <td>[[-0.2738933333333334, -0.14766500000000002, 0.014739999999999994, 0.4313566666666666, -0.10782000000000003, -0.7143983333333334, 0.009571666666666664, 0.163825, -0.011438333333333333, -0.23018566666666665, 0.003083333333333336, 0.27475999999999995, -0.794965, -0.347401, 0.31290000000000007, 0.5942041666666665, 0.3407908333333333, 0.17909333333333333, -0.39879016666666667, -0.36976516666666664, 0.18578166666666665, 0.3786366666666667, 0.049781666666666675, 0.6163573333333333, 0.34603333333333336, -0.9359263333333333, 0.05405500000000001, 0.022213333333333363, 0.1810331666666667, -0.6750083333333333, 1.3975833333333334, 0.8764633333333335, 0.1880766666666667, -0.02176761666666666, -0.31503433333333336, 0.48252999999999996, -0.4220633333333333, 0.6216483333333334, 0.15389483333333334, -0.5481733333333333, 0.44964116666666665, 0.089285, 0.31294933333333336, 0.521465, 0.060560000000000024, 0.4651075, 0.20726666666666663, -0.9754066666666668, 0.39751000000000003, -0.7827863333333333], [...</td>\n",
       "      <td>[[1.0000000000000002, 0.0, 0.0, 0.0, 0.0, 0.0, 0.0, 0.0, 0.0, 0.0], [0.0, 0.0, 0.0, 0.0, 0.0, 0.0, 0.0, 0.0, 0.0, 0.0], [0.0, 0.0, 0.0, 0.0, 0.0, 0.0, 0.0, 0.0, 0.0, 0.0], [0.0, 0.0, 0.0, 0.0, 0.0, 0.0, 0.0, 0.0, 0.0, 0.0], [0.0, 0.0, 0.0, 0.0, 0.0, 0.0, 0.0, 0.0, 0.0, 0.0], [0.0, 0.0, 0.0, 0.0, 0.0, 0.0, 0.0, 0.0, 0.0, 0.0], [0.0, 0.0, 0.0, 0.0, 0.0, 0.0, 0.0, 0.0, 0.0, 0.0], [0.0, 0.0, 0.0, 0.0, 0.0, 0.0, 0.0, 0.0, 0.0, 0.0], [0.0, 0.0, 0.0, 0.0, 0.0, 0.0, 0.0, 0.0, 0.0, 0.0], [0.0, 0.0, 0.0, 0.0, 0.0, 0.0, 0.0, 0.0, 0.0, 0.0]]</td>\n",
       "    </tr>\n",
       "    <tr>\n",
       "      <th>7</th>\n",
       "      <td>[Federer won the Swiss Indoors last week by beating Romanian qualifier Marius Copil in the final., The 37-year-old claimed his 99th ATP title and is hunting the century in the French capital this week., Federer has been handed a difficult draw where could could come across Kevin Anderson, Novak Djokovic and Rafael Nadal in the latter rounds., But first the 20-time Grand Slam winner wants to train on the Paris Masters court this afternoon before deciding whether to appear for his opening match against either Milos Raonic or Jo-Wilfried Tsonga., \"On Monday, I am free and will look how I feel,\" Federer said after winning the Swiss Indoors., \"On Tuesday I will fly to Paris and train in the afternoon to be ready for my first match on Wednesday night., \"I felt good all week and better every day., \"We also had the impression that at this stage it might be better to play matches than to train., \"And as long as I fear no injury, I play.\", Federer's success in Basel last week was the ninth t...</td>\n",
       "      <td>[[federer, won, the, swiss, indoors, last, week, by, beating, romanian, qualifier, marius, copil, in, the, final], [the, yearold, claimed, his, th, atp, title, and, is, hunting, the, century, in, the, french, capital, this, week], [federer, has, been, handed, a, difficult, draw, where, could, could, come, across, kevin, anderson, novak, djokovic, and, rafael, nadal, in, the, latter, rounds], [but, first, the, time, grand, slam, winner, wants, to, train, on, the, paris, masters, court, this, afternoon, before, deciding, whether, to, appear, for, his, opening, match, against, either, milos, raonic, or, jowilfried, tsonga], [``, on, monday, i, am, free, and, will, look, how, i, feel, federer, said, after, winning, the, swiss, indoors], [``, on, tuesday, i, will, fly, to, paris, and, train, in, the, afternoon, to, be, ready, for, my, first, match, on, wednesday, night], [``, i, felt, good, all, week, and, better, every, day], [``, we, also, had, the, impression, that, at, this, stage, ...</td>\n",
       "      <td>[[-0.30141324999999997, 0.06730712499999997, -0.14223993749999997, 0.32291, -0.23088052937499998, -0.03999387499999999, -0.2025685625, 0.441606875, -0.45983659125000004, -0.156066475, 0.2837608125, -0.3999737499999999, -0.5902606249999999, -0.18522750000000002, 0.735788125, -0.16050926249999997, 0.024010812499999985, -0.39441581249999996, -0.7018888125, 0.051694465625, -0.13095659375, -0.0295085125, 0.008837624999999984, -0.08340974999999999, 0.08927668749999998, -1.1624608500000002, 0.062329625000000013, -0.24477174999999998, -0.47939637500000004, -0.09328212500000001, 2.2202606250000003, 0.25550506250000005, -0.07176210624999999, 0.19559650000000003, -0.14562379625, 0.040529924999999994, 0.17200100000000001, 0.5040989375, 0.0416615, -0.48126675, 0.054543999999999974, 0.052405237500000014, 0.3988236875, -0.41746837499999995, 0.04448750000000004, 0.164671875, 0.0042931749999999685, -0.26917812500000005, 0.03127537500000001, -0.57515518125], [0.23087405555555554, 0.2889255000000001,...</td>\n",
       "      <td>[[1.0, 0.0, 0.0, 0.0, 0.0, 0.0, 0.0, 0.0, 0.0, 0.0, 0.0, 0.0, 0.0, 0.0, 0.0, 0.0, 0.0, 0.0, 0.0, 0.0], [0.0, 0.0, 0.0, 0.0, 0.0, 0.0, 0.0, 0.0, 0.0, 0.0, 0.0, 0.0, 0.0, 0.0, 0.0, 0.0, 0.0, 0.0, 0.0, 0.0], [0.0, 0.0, 0.0, 0.0, 0.0, 0.0, 0.0, 0.0, 0.0, 0.0, 0.0, 0.0, 0.0, 0.0, 0.0, 0.0, 0.0, 0.0, 0.0, 0.0], [0.0, 0.0, 0.0, 0.0, 0.0, 0.0, 0.0, 0.0, 0.0, 0.0, 0.0, 0.0, 0.0, 0.0, 0.0, 0.0, 0.0, 0.0, 0.0, 0.0], [0.0, 0.0, 0.0, 0.0, 0.0, 0.0, 0.0, 0.0, 0.0, 0.0, 0.0, 0.0, 0.0, 0.0, 0.0, 0.0, 0.0, 0.0, 0.0, 0.0], [0.0, 0.0, 0.0, 0.0, 0.0, 0.0, 0.0, 0.0, 0.0, 0.0, 0.0, 0.0, 0.0, 0.0, 0.0, 0.0, 0.0, 0.0, 0.0, 0.0], [0.0, 0.0, 0.0, 0.0, 0.0, 0.0, 0.0, 0.0, 0.0, 0.0, 0.0, 0.0, 0.0, 0.0, 0.0, 0.0, 0.0, 0.0, 0.0, 0.0], [0.0, 0.0, 0.0, 0.0, 0.0, 0.0, 0.0, 0.0, 0.0, 0.0, 0.0, 0.0, 0.0, 0.0, 0.0, 0.0, 0.0, 0.0, 0.0, 0.0], [0.0, 0.0, 0.0, 0.0, 0.0, 0.0, 0.0, 0.0, 0.0, 0.0, 0.0, 0.0, 0.0, 0.0, 0.0, 0.0, 0.0, 0.0, 0.0, 0.0], [0.0, 0.0, 0.0, 0.0, 0.0, 0.0, 0.0, 0.0, 0.0, 0.0, 0.0, 0.0, 0.0, 0.0, 0.0, 0...</td>\n",
       "    </tr>\n",
       "  </tbody>\n",
       "</table>\n",
       "</div>"
      ],
      "text/plain": [
       "                                                                                                                                                                                                                                                                                                                                                                                                                                                                                                                                                                                                                                                                                                                                                                                                                                                                                                                                                                                                                         sentenceInArticle  \\\n",
       "0  [Maria Sharapova has basically no friends as tennis players on the WTA Tour., The Russian player has no problems in openly speaking about it and in a recent interview she said: 'I don't really hide any feelings too much., I think everyone knows this is my job here., When I'm on the courts or when I'm on the court playing, I'm a competitor and I want to beat every single person whether they're in the locker room or across the net.So I'm not the one to strike up a conversation about the weather and know that in the next few minutes I have to go and try to win a tennis match., I'm a pretty competitive girl., I say my hellos, but I'm not sending any players flowers as well., Uhm, I'm not really friendly or close to many players., I have not a lot of friends away from the courts.', When she said she is not really close to a lot of players, is that something strategic that she is doing?, Is it different on the men's tour than the women's tour?, 'No, not at all., I think just because you'...   \n",
       "1  [BASEL, Switzerland (AP), Roger Federer advanced to the 14th Swiss Indoors final of his career by beating seventh-seeded Daniil Medvedev 6-1, 6-4 on Saturday., Seeking a ninth title at his hometown event, and a 99th overall, Federer will play 93th-ranked Marius Copil on Sunday., Federer dominated the 20th-ranked Medvedev and had his first match-point chance to break serve again at 5-1., He then dropped his serve to love, and let another match point slip in Medvedev's next service game by netting a backhand., He clinched on his fourth chance when Medvedev netted from the baseline., Copil upset expectations of a Federer final against Alexander Zverev in a 6-3, 6-7 (6), 6-4 win over the fifth-ranked German in the earlier semifinal., The Romanian aims for a first title after arriving at Basel without a career win over a top-10 opponent., Copil has two after also beating No., 6 Marin Cilic in the second round., Copil fired 26 aces past Zverev and never dropped serve, clinching after 2 1...   \n",
       "2  [Roger Federer has revealed that organisers of the re-launched and condensed Davis Cup gave him three days to decide if he would commit to the controversial competition., Speaking at the Swiss Indoors tournament where he will play in Sundays final against Romanian qualifier Marius Copil, the world number three said that given the impossibly short time frame to make a decision, he opted out of any commitment., \"They only left me three days to decide\", Federer said., \"I didn't to have time to consult with all the people I had to consult., \"I could not make a decision in that time, so I told them to do what they wanted.\", The 20-time Grand Slam champion has voiced doubts about the wisdom of the one-week format to be introduced by organisers Kosmos, who have promised the International Tennis Federation up to $3 billion in prize money over the next quarter-century., The competition is set to feature 18 countries in the November 18-24 finals in Madrid next year, and will replace the clas...   \n",
       "3  [Kei Nishikori will try to end his long losing streak in ATP finals and Kevin Anderson will go for his second title of the year at the Erste Bank Open on Sunday., The fifth-seeded Nishikori reached his third final of 2018 after beating Mikhail Kukushkin of Kazakhstan 6-4, 6-3 in the semifinals., A winner of 11 ATP events, Nishikori hasn't triumphed since winning in Memphis in February 2016., He has lost eight straight finals since., The second-seeded Anderson defeated Fernando Verdasco 6-3, 3-6, 6-4., Anderson has a shot at a fifth career title and second of the year after winning in New York in February., Nishikori leads Anderson 4-2 on career matchups, but the South African won their only previous meeting this year., With a victory on Sunday, Anderson will qualify for the ATP Finals., Currently in ninth place, Nishikori with a win could move to within 125 points of the cut for the eight-man event in London next month., Nishikori held serve throughout against Kukushkin, who came t...   \n",
       "4  [Federer, 37, first broke through on tour over two decades ago and he has since gone on to enjoy a glittering career., The 20-time Grand Slam winner is chasing his 99th ATP title at the Swiss Indoors this week and he faces Jan-Lennard Struff in the second round on Thursday (6pm BST)., Davenport enjoyed most of her success in the late 1990s and her third and final major tournament win came at the 2000 Australian Open., But she claims the mentality of professional tennis players slowly began to change after the new millennium., \"It seems pretty friendly right now,\" said Davenport., \"I think there is a really nice environment and a great atmosphere, especially between some of the veteran players helping some of the younger players out., \"It's a very pleasant atmosphere, I'd have to say, around the locker rooms., \"I felt like the best weeks that I had to get to know players when I was playing were the Fed Cup weeks or the Olympic weeks, not necessarily during the tournaments., \"And eve...   \n",
       "5  [Nadal has not played tennis since he was forced to retire from the US Open semi-finals against Juan Martin Del Porto with a knee injury., The world No 1 has been forced to miss Spain's Davis Cup clash with France and the Asian hard court season., But with the ATP World Tour Finals due to begin next month, Nadal is ready to prove his fitness before the season-ending event at the 02 Arena., Nadal flew to Paris on Friday and footage from the Paris Masters official Twitter account shows the Spaniard smiling as he strides onto court for practice., The Paris Masters draw has been made and Nadal will start his campaign on Tuesday or Wednesday against either Fernando Verdasco or Jeremy Chardy., Nadal could then play defending champion Jack Sock in the third round before a potential quarter-final with either Borna Coric or Dominic Thiem., Nadal's appearance in Paris is a big boost to the tournament organisers who could see Roger Federer withdraw., Federer is in action at the Swiss Indoors ...   \n",
       "6  [Tennis giveth, and tennis taketh away., The end of the season is finally in sight, and with so many players defending,or losing,huge chunks of points in Singapore, Zhuhai and London, podcast co-hosts Nina Pantic and Irina Falconi discuss the art of defending points (02:14)., It's no secret that Jack Sock has struggled on the singles court this year (his record is 7-19)., He could lose 1,400 points in the next few weeks, but instead of focusing on the negative, it can all be about perspective (06:28)., Let's also not forget his two Grand Slam doubles triumphs this season., Two players, Stefanos Tsitsipas and Kyle Edmund, won their first career ATP titles last week (13:26)., It's a big deal because you never forget your first., Irina looks back at her WTA title win in Bogota in 2016, and tells an unforgettable story about her semifinal drama (14:04)., In Singapore, one of the biggest storylines (aside from the matches, of course) has been the on-court coaching debate., Nina and Irin...   \n",
       "7  [Federer won the Swiss Indoors last week by beating Romanian qualifier Marius Copil in the final., The 37-year-old claimed his 99th ATP title and is hunting the century in the French capital this week., Federer has been handed a difficult draw where could could come across Kevin Anderson, Novak Djokovic and Rafael Nadal in the latter rounds., But first the 20-time Grand Slam winner wants to train on the Paris Masters court this afternoon before deciding whether to appear for his opening match against either Milos Raonic or Jo-Wilfried Tsonga., \"On Monday, I am free and will look how I feel,\" Federer said after winning the Swiss Indoors., \"On Tuesday I will fly to Paris and train in the afternoon to be ready for my first match on Wednesday night., \"I felt good all week and better every day., \"We also had the impression that at this stage it might be better to play matches than to train., \"And as long as I fear no injury, I play.\", Federer's success in Basel last week was the ninth t...   \n",
       "\n",
       "                                                                                                                                                                                                                                                                                                                                                                                                                                                                                                                                                                                                                                                                                                                                                                                                                                                                                                                                                                                                                           WordInSentences  \\\n",
       "0  [[maria, sharapova, has, basically, no, friends, as, tennis, players, on, the, wta, tour], [the, russian, player, has, no, problems, in, openly, speaking, about, it, and, in, a, recent, interview, she, said, i, do, not, really, hide, any, feelings, too, much], [i, think, everyone, knows, this, is, my, job, here], [when, i, am, on, the, courts, or, when, i, am, on, the, court, playing, i, am, a, competitor, and, i, want, to, beat, every, single, person, whether, they, are, in, the, locker, room, or, across, the, netso, i, am, not, the, one, to, strike, up, a, conversation, about, the, weather, and, know, that, in, the, next, few, minutes, i, have, to, go, and, try, to, win, a, tennis, match], [i, am, a, pretty, competitive, girl], [i, say, my, hellos, but, i, am, not, sending, any, players, flowers, as, well], [uhm, i, am, not, really, friendly, or, close, to, many, players], [i, have, not, a, lot, of, friends, away, from, the, courts], [when, she, said, she, is, not, really, close,...   \n",
       "1  [[basel, switzerland, ap, roger, federer, advanced, to, the, th, swiss, indoors, final, of, his, career, by, beating, seventhseeded, daniil, medvedev, on, saturday], [seeking, a, ninth, title, at, his, hometown, event, and, a, th, overall, federer, will, play, thranked, marius, copil, on, sunday], [federer, dominated, the, thranked, medvedev, and, had, his, first, matchpoint, chance, to, break, serve, again, at], [he, then, dropped, his, serve, to, love, and, let, another, match, point, slip, in, medvedev, s, next, service, game, by, netting, a, backhand], [he, clinched, on, his, fourth, chance, when, medvedev, netted, from, the, baseline], [copil, upset, expectations, of, a, federer, final, against, alexander, zverev, in, a, win, over, the, fifthranked, german, in, the, earlier, semifinal], [the, romanian, aims, for, a, first, title, after, arriving, at, basel, without, a, career, win, over, a, top, opponent], [copil, has, two, after, also, beating, no], [marin, cilic, in, the, se...   \n",
       "2  [[roger, federer, has, revealed, that, organisers, of, the, relaunched, and, condensed, davis, cup, gave, him, three, days, to, decide, if, he, would, commit, to, the, controversial, competition], [speaking, at, the, swiss, indoors, tournament, where, he, will, play, in, sundays, final, against, romanian, qualifier, marius, copil, the, world, number, three, said, that, given, the, impossibly, short, time, frame, to, make, a, decision, he, opted, out, of, any, commitment], [``, they, only, left, me, three, days, to, decide, federer, said], [``, i, did, not, to, have, time, to, consult, with, all, the, people, i, had, to, consult], [``, i, could, not, make, a, decision, in, that, time, so, i, told, them, to, do, what, they, wanted], [the, time, grand, slam, champion, has, voiced, doubts, about, the, wisdom, of, the, oneweek, format, to, be, introduced, by, organisers, kosmos, who, have, promised, the, international, tennis, federation, up, to, billion, in, prize, money, over, the, ne...   \n",
       "3  [[kei, nishikori, will, try, to, end, his, long, losing, streak, in, atp, finals, and, kevin, anderson, will, go, for, his, second, title, of, the, year, at, the, erste, bank, open, on, sunday], [the, fifthseeded, nishikori, reached, his, third, final, of, after, beating, mikhail, kukushkin, of, kazakhstan, in, the, semifinals], [a, winner, of, atp, events, nishikori, has, not, triumphed, since, winning, in, memphis, in, february], [he, has, lost, eight, straight, finals, since], [the, secondseeded, anderson, defeated, fernando, verdasco], [anderson, has, a, shot, at, a, fifth, career, title, and, second, of, the, year, after, winning, in, new, york, in, february], [nishikori, leads, anderson, on, career, matchups, but, the, south, african, won, their, only, previous, meeting, this, year], [with, a, victory, on, sunday, anderson, will, qualify, for, the, atp, finals], [currently, in, ninth, place, nishikori, with, a, win, could, move, to, within, points, of, the, cut, for, the, eig...   \n",
       "4  [[federer, first, broke, through, on, tour, over, two, decades, ago, and, he, has, since, gone, on, to, enjoy, a, glittering, career], [the, time, grand, slam, winner, is, chasing, his, th, atp, title, at, the, swiss, indoors, this, week, and, he, faces, janlennard, struff, in, the, second, round, on, thursday, pm, bst], [davenport, enjoyed, most, of, her, success, in, the, late, s, and, her, third, and, final, major, tournament, win, came, at, the, australian, open], [but, she, claims, the, mentality, of, professional, tennis, players, slowly, began, to, change, after, the, new, millennium], [``, it, seems, pretty, friendly, right, now, said, davenport], [``, i, think, there, is, a, really, nice, environment, and, a, great, atmosphere, especially, between, some, of, the, veteran, players, helping, some, of, the, younger, players, out], [``, it, is, a, very, pleasant, atmosphere, i, would, have, to, say, around, the, locker, rooms], [``, i, felt, like, the, best, weeks, that, i, ha...   \n",
       "5  [[nadal, has, not, played, tennis, since, he, was, forced, to, retire, from, the, us, open, semifinals, against, juan, martin, del, porto, with, a, knee, injury], [the, world, no, has, been, forced, to, miss, spain, s, davis, cup, clash, with, france, and, the, asian, hard, court, season], [but, with, the, atp, world, tour, finals, due, to, begin, next, month, nadal, is, ready, to, prove, his, fitness, before, the, seasonending, event, at, the, arena], [nadal, flew, to, paris, on, friday, and, footage, from, the, paris, masters, official, twitter, account, shows, the, spaniard, smiling, as, he, strides, onto, court, for, practice], [the, paris, masters, draw, has, been, made, and, nadal, will, start, his, campaign, on, tuesday, or, wednesday, against, either, fernando, verdasco, or, jeremy, chardy], [nadal, could, then, play, defending, champion, jack, sock, in, the, third, round, before, a, potential, quarterfinal, with, either, borna, coric, or, dominic, thiem], [nadal, s, appear...   \n",
       "6  [[tennis, giveth, and, tennis, taketh, away], [the, end, of, the, season, is, finally, in, sight, and, with, so, many, players, defending, or, losing, huge, chunks, of, points, in, singapore, zhuhai, and, london, podcast, cohosts, nina, pantic, and, irina, falconi, discuss, the, art, of, defending, points], [it, is, no, secret, that, jack, sock, has, struggled, on, the, singles, court, this, year, his, record, is], [he, could, lose, points, in, the, next, few, weeks, but, instead, of, focusing, on, the, negative, it, can, all, be, about, perspective], [let, us, also, not, forget, his, two, grand, slam, doubles, triumphs, this, season], [two, players, stefanos, tsitsipas, and, kyle, edmund, won, their, first, career, atp, titles, last, week], [it, is, a, big, deal, because, you, never, forget, your, first], [irina, looks, back, at, her, wta, title, win, in, bogota, in, and, tells, an, unforgettable, story, about, her, semifinal, drama], [in, singapore, one, of, the, biggest, storyli...   \n",
       "7  [[federer, won, the, swiss, indoors, last, week, by, beating, romanian, qualifier, marius, copil, in, the, final], [the, yearold, claimed, his, th, atp, title, and, is, hunting, the, century, in, the, french, capital, this, week], [federer, has, been, handed, a, difficult, draw, where, could, could, come, across, kevin, anderson, novak, djokovic, and, rafael, nadal, in, the, latter, rounds], [but, first, the, time, grand, slam, winner, wants, to, train, on, the, paris, masters, court, this, afternoon, before, deciding, whether, to, appear, for, his, opening, match, against, either, milos, raonic, or, jowilfried, tsonga], [``, on, monday, i, am, free, and, will, look, how, i, feel, federer, said, after, winning, the, swiss, indoors], [``, on, tuesday, i, will, fly, to, paris, and, train, in, the, afternoon, to, be, ready, for, my, first, match, on, wednesday, night], [``, i, felt, good, all, week, and, better, every, day], [``, we, also, had, the, impression, that, at, this, stage, ...   \n",
       "\n",
       "                                                                                                                                                                                                                                                                                                                                                                                                                                                                                                                                                                                                                                                                                                                                                                                                                                                                                                                                                                                                                            SentenceVector  \\\n",
       "0  [[0.07161230769230773, 0.5263353076923079, -0.22625407692307692, 0.4190584615384615, -0.0952153076923077, -0.10156600000000002, -0.40362538461538466, 0.400633476923077, -0.35831371000000006, -0.11500546153846154, 0.11607930769230769, -0.146259, -0.6847891923076924, 0.014327538461538456, 0.783284653846154, 0.046932615384615385, -0.10918245384615388, 0.054596461538461545, -0.29416438461538463, -0.1929796923076923, -0.2468181230769231, 0.3106658461538461, 0.011112153846153848, 0.30192715384615376, 0.12148384615384614, -1.328529230769231, -0.2920881538461539, -0.07721707692307692, -0.3258306923076923, -0.36910523076923074, 2.7283676923076925, 0.24652538461538465, -0.041018076923076914, 0.07203453846153846, 0.022849225384615382, -0.01111693076923078, 0.2808099230769231, 0.4716086153846154, -0.020941546153846143, -0.6126247692307694, -0.007031076923076909, -0.08967269230769231, 0.18087161538461535, 0.06510876923076923, 0.1128052307692308, -0.027662769230769227, -0.06883483846153847, -0.3...   \n",
       "1  [[-0.04118086363636363, 0.3783945909090909, -0.09865840909090907, 0.2834696363636364, 0.016647883181818177, -0.08658890909090906, -0.23910705000000004, 0.3978880909090909, -0.4083776922727273, -0.0862470909090909, 0.1902452272727273, -0.2986129545454545, -0.6385927272727273, -0.031250136363636376, 0.5444554772727271, -0.1095599090909091, -0.13976365909090907, -0.4376720772727273, -0.6052627727272726, 0.11610288409090913, -0.00404738636363637, -0.022918954545454527, -0.04588368181818183, -0.01739659090909088, -0.029735613636363633, -1.1522947090909093, 0.07495704545454546, -0.22785550000000002, -0.23360109090909092, -0.08926977272727274, 2.1310990909090908, 0.1533223181818182, -0.07642998636363636, 4.954545454545331e-05, -0.12957568500000002, -0.09078812272727271, 0.23761849999999998, 0.5697758181818182, 0.022155650000000006, -0.1867798181818182, 0.2605305909090909, -0.06329845454545456, 0.2951025909090909, -0.1664764681818182, 0.15181086363636365, 0.1326979090909091, -0.01367409545...   \n",
       "2  [[0.25328906296296294, 0.12198537037037037, -0.11345479181481483, 0.1446348814814815, 0.1525931851851852, 0.16861987777777784, -0.38139322592592595, 0.2617922222222222, -0.23743694296296297, -0.03473777777777776, 0.035870111111111116, 0.12096629629629627, -0.6220851851851853, -0.0933997037037037, 0.7065455925925925, 0.143282037037037, 0.12736662962962964, -0.19685677777777782, -0.4711523333333333, -0.31522065185185183, 0.1199826296296296, 0.054465311111111095, 0.31118688888888885, -0.10871659259259264, 0.014215555555555558, -1.5483337037037042, -0.10728948148148147, -0.04703542592592592, -0.1138865925925926, -0.21412614814814818, 2.7733540740740743, 0.15372562962962966, -0.41941892592592583, -0.25126889407407405, 0.026628517037037034, -0.11579138518518517, 0.22920711111111114, 0.3417279444444446, -0.09856985555555556, -0.39040711111111115, -0.08489601111111111, -0.02059985185185185, -0.0706187777777778, 0.04860455555555556, -0.06971725925925926, 0.09703904074074075, -0.217581044444...   \n",
       "3  [[-0.07639146874999997, 0.3170033437499999, -0.05655231249999998, 0.33123381250000006, 0.11854274999999999, -0.04550446874999999, -0.41850468749999997, 0.2692358625, -0.25405875718750004, -0.10351577749999999, 0.03690078124999999, -0.08491131562500001, -0.7030106250000001, 0.0020322187500000045, 0.4821976250000001, 0.15320184375, 0.038407875000000015, -0.26271625000000004, -0.6549773749999999, -0.08030978124999998, 0.05498265625000004, 0.035396353125, 0.010837625000000024, -0.04316790625000001, -0.06018543750000003, -1.4377952499999995, 0.05665375, -0.14137571874999993, -0.10342975000000001, -0.27637156250000006, 2.944246562499999, 0.3364460625, -0.16078259374999998, 0.04588156249999999, 0.12576624250000004, -0.1341709625, 0.17272203125000005, 0.2543388749999999, 0.10677622156249998, -0.45882850000000003, -0.2480130625, -0.054150100000000014, 0.0020541562499999944, -0.07792875625, -0.07798153124999999, 0.08807103125, 0.05978199375, -0.27529034375000005, 0.019644781249999993, -0.121...   \n",
       "4  [[0.08898900000000001, 0.26611004761904766, -0.192052, 0.06671333333333333, 0.028799476190476233, 0.09485580952380952, -0.7151614285714287, 0.18457328571428572, -0.19910014285714284, -0.0065385238095237675, -0.0994645904761905, -0.25375309523809514, -0.6728928571428572, 0.07200021428571428, 0.5973166666666666, -0.07204279047619051, -0.084204, -0.14471214285714284, -0.630137619047619, -0.12544587142857144, 0.11530611428571426, 0.2953277142857143, 0.12353749047619043, -0.15412176190476187, 0.03485861904761905, -1.515292, -0.056055095238095216, 0.032189685714285717, 0.09830066666666666, -0.1126077142857143, 3.173791904761904, 0.2494000952380952, -0.12230876190476193, -0.060254952380952354, 0.0332806, 0.06226409523809525, -0.017406476190476177, 0.43230761904761905, -0.13516719047619047, -0.27663478095238103, -0.3494240952380953, 0.0450542619047619, -0.06251766666666667, 0.05574223809523809, -0.17952464285714287, 0.029179333333333328, -0.09026942857142857, -0.3474336666666667, -0.323819...   \n",
       "5  [[0.0595728, 0.201008072, -0.174440024, 0.22917028000000003, -0.12055924000000001, -0.04422483999999999, -0.4168983200000001, 0.44218412, -0.4404146251999999, -0.03139444000000003, 0.21567708400000005, -0.04048592000000003, -0.8964412, -0.21785656, 0.6794646200000001, -0.0264624, -0.05577147999999999, -0.2603052, -0.648198, -0.0685732944, -0.50929012, 0.18059803999999996, 0.011125880000000008, -0.040934080000000005, -0.11462887999999997, -1.5034736000000002, 0.2519576399999999, -0.036819919999999985, -0.07394852000000003, -0.21660300799999999, 2.8490200000000003, 0.17051744000000002, -0.15560212, -0.05535267999999997, 0.0899166052, 0.025858156000000018, 0.29639499999999996, 0.47152568, 0.18968204, -0.4409168400000001, -0.09172443999999999, 0.1246372, 0.1678844, -0.0763804, -0.06714284, 0.08106043999999998, -0.12557168400000002, -0.37549888000000003, -0.04837851999999999, -0.09952616], [0.052012380952380984, 0.19167171428571425, -0.2584274285714286, 0.3418912857142858, 0.06931471428...   \n",
       "6  [[-0.2738933333333334, -0.14766500000000002, 0.014739999999999994, 0.4313566666666666, -0.10782000000000003, -0.7143983333333334, 0.009571666666666664, 0.163825, -0.011438333333333333, -0.23018566666666665, 0.003083333333333336, 0.27475999999999995, -0.794965, -0.347401, 0.31290000000000007, 0.5942041666666665, 0.3407908333333333, 0.17909333333333333, -0.39879016666666667, -0.36976516666666664, 0.18578166666666665, 0.3786366666666667, 0.049781666666666675, 0.6163573333333333, 0.34603333333333336, -0.9359263333333333, 0.05405500000000001, 0.022213333333333363, 0.1810331666666667, -0.6750083333333333, 1.3975833333333334, 0.8764633333333335, 0.1880766666666667, -0.02176761666666666, -0.31503433333333336, 0.48252999999999996, -0.4220633333333333, 0.6216483333333334, 0.15389483333333334, -0.5481733333333333, 0.44964116666666665, 0.089285, 0.31294933333333336, 0.521465, 0.060560000000000024, 0.4651075, 0.20726666666666663, -0.9754066666666668, 0.39751000000000003, -0.7827863333333333], [...   \n",
       "7  [[-0.30141324999999997, 0.06730712499999997, -0.14223993749999997, 0.32291, -0.23088052937499998, -0.03999387499999999, -0.2025685625, 0.441606875, -0.45983659125000004, -0.156066475, 0.2837608125, -0.3999737499999999, -0.5902606249999999, -0.18522750000000002, 0.735788125, -0.16050926249999997, 0.024010812499999985, -0.39441581249999996, -0.7018888125, 0.051694465625, -0.13095659375, -0.0295085125, 0.008837624999999984, -0.08340974999999999, 0.08927668749999998, -1.1624608500000002, 0.062329625000000013, -0.24477174999999998, -0.47939637500000004, -0.09328212500000001, 2.2202606250000003, 0.25550506250000005, -0.07176210624999999, 0.19559650000000003, -0.14562379625, 0.040529924999999994, 0.17200100000000001, 0.5040989375, 0.0416615, -0.48126675, 0.054543999999999974, 0.052405237500000014, 0.3988236875, -0.41746837499999995, 0.04448750000000004, 0.164671875, 0.0042931749999999685, -0.26917812500000005, 0.03127537500000001, -0.57515518125], [0.23087405555555554, 0.2889255000000001,...   \n",
       "\n",
       "                                                                                                                                                                                                                                                                                                                                                                                                                                                                                                                                                                                                                                                                                                                                                                                                                                                                                                                                                                                                                                 SimMatrix  \n",
       "0  [[1.0000000000000002, 0.0, 0.0, 0.0, 0.0, 0.0, 0.0, 0.0, 0.0, 0.0, 0.0, 0.0, 0.0, 0.0, 0.0, 0.0, 0.0], [0.0, 0.0, 0.0, 0.0, 0.0, 0.0, 0.0, 0.0, 0.0, 0.0, 0.0, 0.0, 0.0, 0.0, 0.0, 0.0, 0.0], [0.0, 0.0, 0.0, 0.0, 0.0, 0.0, 0.0, 0.0, 0.0, 0.0, 0.0, 0.0, 0.0, 0.0, 0.0, 0.0, 0.0], [0.0, 0.0, 0.0, 0.0, 0.0, 0.0, 0.0, 0.0, 0.0, 0.0, 0.0, 0.0, 0.0, 0.0, 0.0, 0.0, 0.0], [0.0, 0.0, 0.0, 0.0, 0.0, 0.0, 0.0, 0.0, 0.0, 0.0, 0.0, 0.0, 0.0, 0.0, 0.0, 0.0, 0.0], [0.0, 0.0, 0.0, 0.0, 0.0, 0.0, 0.0, 0.0, 0.0, 0.0, 0.0, 0.0, 0.0, 0.0, 0.0, 0.0, 0.0], [0.0, 0.0, 0.0, 0.0, 0.0, 0.0, 0.0, 0.0, 0.0, 0.0, 0.0, 0.0, 0.0, 0.0, 0.0, 0.0, 0.0], [0.0, 0.0, 0.0, 0.0, 0.0, 0.0, 0.0, 0.0, 0.0, 0.0, 0.0, 0.0, 0.0, 0.0, 0.0, 0.0, 0.0], [0.0, 0.0, 0.0, 0.0, 0.0, 0.0, 0.0, 0.0, 0.0, 0.0, 0.0, 0.0, 0.0, 0.0, 0.0, 0.0, 0.0], [0.0, 0.0, 0.0, 0.0, 0.0, 0.0, 0.0, 0.0, 0.0, 0.0, 0.0, 0.0, 0.0, 0.0, 0.0, 0.0, 0.0], [0.0, 0.0, 0.0, 0.0, 0.0, 0.0, 0.0, 0.0, 0.0, 0.0, 0.0, 0.0, 0.0, 0.0, 0.0, 0.0, 0.0], [0.0, 0.0, 0.0, 0.0, 0....  \n",
       "1                                                                                                                                                                                                                                                  [[1.0000000000000004, 0.0, 0.0, 0.0, 0.0, 0.0, 0.0, 0.0, 0.0, 0.0, 0.0, 0.0], [0.0, 0.0, 0.0, 0.0, 0.0, 0.0, 0.0, 0.0, 0.0, 0.0, 0.0, 0.0], [0.0, 0.0, 0.0, 0.0, 0.0, 0.0, 0.0, 0.0, 0.0, 0.0, 0.0, 0.0], [0.0, 0.0, 0.0, 0.0, 0.0, 0.0, 0.0, 0.0, 0.0, 0.0, 0.0, 0.0], [0.0, 0.0, 0.0, 0.0, 0.0, 0.0, 0.0, 0.0, 0.0, 0.0, 0.0, 0.0], [0.0, 0.0, 0.0, 0.0, 0.0, 0.0, 0.0, 0.0, 0.0, 0.0, 0.0, 0.0], [0.0, 0.0, 0.0, 0.0, 0.0, 0.0, 0.0, 0.0, 0.0, 0.0, 0.0, 0.0], [0.0, 0.0, 0.0, 0.0, 0.0, 0.0, 0.0, 0.0, 0.0, 0.0, 0.0, 0.0], [0.0, 0.0, 0.0, 0.0, 0.0, 0.0, 0.0, 0.0, 0.0, 0.0, 0.0, 0.0], [0.0, 0.0, 0.0, 0.0, 0.0, 0.0, 0.0, 0.0, 0.0, 0.0, 0.0, 0.0], [0.0, 0.0, 0.0, 0.0, 0.0, 0.0, 0.0, 0.0, 0.0, 0.0, 0.0, 0.0], [0.0, 0.0, 0.0, 0.0, 0.0, 0.0, 0.0, 0.0, 0.0, 0.0, 0.0, 0.0]]  \n",
       "2  [[1.0, 0.0, 0.0, 0.0, 0.0, 0.0, 0.0, 0.0, 0.0, 0.0, 0.0, 0.0, 0.0, 0.0, 0.0, 0.0, 0.0], [0.0, 0.0, 0.0, 0.0, 0.0, 0.0, 0.0, 0.0, 0.0, 0.0, 0.0, 0.0, 0.0, 0.0, 0.0, 0.0, 0.0], [0.0, 0.0, 0.0, 0.0, 0.0, 0.0, 0.0, 0.0, 0.0, 0.0, 0.0, 0.0, 0.0, 0.0, 0.0, 0.0, 0.0], [0.0, 0.0, 0.0, 0.0, 0.0, 0.0, 0.0, 0.0, 0.0, 0.0, 0.0, 0.0, 0.0, 0.0, 0.0, 0.0, 0.0], [0.0, 0.0, 0.0, 0.0, 0.0, 0.0, 0.0, 0.0, 0.0, 0.0, 0.0, 0.0, 0.0, 0.0, 0.0, 0.0, 0.0], [0.0, 0.0, 0.0, 0.0, 0.0, 0.0, 0.0, 0.0, 0.0, 0.0, 0.0, 0.0, 0.0, 0.0, 0.0, 0.0, 0.0], [0.0, 0.0, 0.0, 0.0, 0.0, 0.0, 0.0, 0.0, 0.0, 0.0, 0.0, 0.0, 0.0, 0.0, 0.0, 0.0, 0.0], [0.0, 0.0, 0.0, 0.0, 0.0, 0.0, 0.0, 0.0, 0.0, 0.0, 0.0, 0.0, 0.0, 0.0, 0.0, 0.0, 0.0], [0.0, 0.0, 0.0, 0.0, 0.0, 0.0, 0.0, 0.0, 0.0, 0.0, 0.0, 0.0, 0.0, 0.0, 0.0, 0.0, 0.0], [0.0, 0.0, 0.0, 0.0, 0.0, 0.0, 0.0, 0.0, 0.0, 0.0, 0.0, 0.0, 0.0, 0.0, 0.0, 0.0, 0.0], [0.0, 0.0, 0.0, 0.0, 0.0, 0.0, 0.0, 0.0, 0.0, 0.0, 0.0, 0.0, 0.0, 0.0, 0.0, 0.0, 0.0], [0.0, 0.0, 0.0, 0.0, 0.0, 0.0, 0.0, 0....  \n",
       "3                                                                                                                   [[0.9999999999999998, 0.0, 0.0, 0.0, 0.0, 0.0, 0.0, 0.0, 0.0, 0.0, 0.0, 0.0, 0.0], [0.0, 0.0, 0.0, 0.0, 0.0, 0.0, 0.0, 0.0, 0.0, 0.0, 0.0, 0.0, 0.0], [0.0, 0.0, 0.0, 0.0, 0.0, 0.0, 0.0, 0.0, 0.0, 0.0, 0.0, 0.0, 0.0], [0.0, 0.0, 0.0, 0.0, 0.0, 0.0, 0.0, 0.0, 0.0, 0.0, 0.0, 0.0, 0.0], [0.0, 0.0, 0.0, 0.0, 0.0, 0.0, 0.0, 0.0, 0.0, 0.0, 0.0, 0.0, 0.0], [0.0, 0.0, 0.0, 0.0, 0.0, 0.0, 0.0, 0.0, 0.0, 0.0, 0.0, 0.0, 0.0], [0.0, 0.0, 0.0, 0.0, 0.0, 0.0, 0.0, 0.0, 0.0, 0.0, 0.0, 0.0, 0.0], [0.0, 0.0, 0.0, 0.0, 0.0, 0.0, 0.0, 0.0, 0.0, 0.0, 0.0, 0.0, 0.0], [0.0, 0.0, 0.0, 0.0, 0.0, 0.0, 0.0, 0.0, 0.0, 0.0, 0.0, 0.0, 0.0], [0.0, 0.0, 0.0, 0.0, 0.0, 0.0, 0.0, 0.0, 0.0, 0.0, 0.0, 0.0, 0.0], [0.0, 0.0, 0.0, 0.0, 0.0, 0.0, 0.0, 0.0, 0.0, 0.0, 0.0, 0.0, 0.0], [0.0, 0.0, 0.0, 0.0, 0.0, 0.0, 0.0, 0.0, 0.0, 0.0, 0.0, 0.0, 0.0], [0.0, 0.0, 0.0, 0.0, 0.0, 0.0, 0.0, 0.0, 0.0, 0.0, 0.0, 0.0, 0.0]]  \n",
       "4  [[0.9999999999999999, 0.0, 0.0, 0.0, 0.0, 0.0, 0.0, 0.0, 0.0, 0.0, 0.0, 0.0, 0.0, 0.0, 0.0, 0.0, 0.0, 0.0], [0.0, 0.0, 0.0, 0.0, 0.0, 0.0, 0.0, 0.0, 0.0, 0.0, 0.0, 0.0, 0.0, 0.0, 0.0, 0.0, 0.0, 0.0], [0.0, 0.0, 0.0, 0.0, 0.0, 0.0, 0.0, 0.0, 0.0, 0.0, 0.0, 0.0, 0.0, 0.0, 0.0, 0.0, 0.0, 0.0], [0.0, 0.0, 0.0, 0.0, 0.0, 0.0, 0.0, 0.0, 0.0, 0.0, 0.0, 0.0, 0.0, 0.0, 0.0, 0.0, 0.0, 0.0], [0.0, 0.0, 0.0, 0.0, 0.0, 0.0, 0.0, 0.0, 0.0, 0.0, 0.0, 0.0, 0.0, 0.0, 0.0, 0.0, 0.0, 0.0], [0.0, 0.0, 0.0, 0.0, 0.0, 0.0, 0.0, 0.0, 0.0, 0.0, 0.0, 0.0, 0.0, 0.0, 0.0, 0.0, 0.0, 0.0], [0.0, 0.0, 0.0, 0.0, 0.0, 0.0, 0.0, 0.0, 0.0, 0.0, 0.0, 0.0, 0.0, 0.0, 0.0, 0.0, 0.0, 0.0], [0.0, 0.0, 0.0, 0.0, 0.0, 0.0, 0.0, 0.0, 0.0, 0.0, 0.0, 0.0, 0.0, 0.0, 0.0, 0.0, 0.0, 0.0], [0.0, 0.0, 0.0, 0.0, 0.0, 0.0, 0.0, 0.0, 0.0, 0.0, 0.0, 0.0, 0.0, 0.0, 0.0, 0.0, 0.0, 0.0], [0.0, 0.0, 0.0, 0.0, 0.0, 0.0, 0.0, 0.0, 0.0, 0.0, 0.0, 0.0, 0.0, 0.0, 0.0, 0.0, 0.0, 0.0], [0.0, 0.0, 0.0, 0.0, 0.0, 0.0, 0.0, 0.0, 0.0, 0.0, 0.0, 0.0,...  \n",
       "5                                                                                                                                                                                                                                                  [[0.9999999999999999, 0.0, 0.0, 0.0, 0.0, 0.0, 0.0, 0.0, 0.0, 0.0, 0.0, 0.0], [0.0, 0.0, 0.0, 0.0, 0.0, 0.0, 0.0, 0.0, 0.0, 0.0, 0.0, 0.0], [0.0, 0.0, 0.0, 0.0, 0.0, 0.0, 0.0, 0.0, 0.0, 0.0, 0.0, 0.0], [0.0, 0.0, 0.0, 0.0, 0.0, 0.0, 0.0, 0.0, 0.0, 0.0, 0.0, 0.0], [0.0, 0.0, 0.0, 0.0, 0.0, 0.0, 0.0, 0.0, 0.0, 0.0, 0.0, 0.0], [0.0, 0.0, 0.0, 0.0, 0.0, 0.0, 0.0, 0.0, 0.0, 0.0, 0.0, 0.0], [0.0, 0.0, 0.0, 0.0, 0.0, 0.0, 0.0, 0.0, 0.0, 0.0, 0.0, 0.0], [0.0, 0.0, 0.0, 0.0, 0.0, 0.0, 0.0, 0.0, 0.0, 0.0, 0.0, 0.0], [0.0, 0.0, 0.0, 0.0, 0.0, 0.0, 0.0, 0.0, 0.0, 0.0, 0.0, 0.0], [0.0, 0.0, 0.0, 0.0, 0.0, 0.0, 0.0, 0.0, 0.0, 0.0, 0.0, 0.0], [0.0, 0.0, 0.0, 0.0, 0.0, 0.0, 0.0, 0.0, 0.0, 0.0, 0.0, 0.0], [0.0, 0.0, 0.0, 0.0, 0.0, 0.0, 0.0, 0.0, 0.0, 0.0, 0.0, 0.0]]  \n",
       "6                                                                                                                                                                                                                                                                                                                                                                                                                                                                                  [[1.0000000000000002, 0.0, 0.0, 0.0, 0.0, 0.0, 0.0, 0.0, 0.0, 0.0], [0.0, 0.0, 0.0, 0.0, 0.0, 0.0, 0.0, 0.0, 0.0, 0.0], [0.0, 0.0, 0.0, 0.0, 0.0, 0.0, 0.0, 0.0, 0.0, 0.0], [0.0, 0.0, 0.0, 0.0, 0.0, 0.0, 0.0, 0.0, 0.0, 0.0], [0.0, 0.0, 0.0, 0.0, 0.0, 0.0, 0.0, 0.0, 0.0, 0.0], [0.0, 0.0, 0.0, 0.0, 0.0, 0.0, 0.0, 0.0, 0.0, 0.0], [0.0, 0.0, 0.0, 0.0, 0.0, 0.0, 0.0, 0.0, 0.0, 0.0], [0.0, 0.0, 0.0, 0.0, 0.0, 0.0, 0.0, 0.0, 0.0, 0.0], [0.0, 0.0, 0.0, 0.0, 0.0, 0.0, 0.0, 0.0, 0.0, 0.0], [0.0, 0.0, 0.0, 0.0, 0.0, 0.0, 0.0, 0.0, 0.0, 0.0]]  \n",
       "7  [[1.0, 0.0, 0.0, 0.0, 0.0, 0.0, 0.0, 0.0, 0.0, 0.0, 0.0, 0.0, 0.0, 0.0, 0.0, 0.0, 0.0, 0.0, 0.0, 0.0], [0.0, 0.0, 0.0, 0.0, 0.0, 0.0, 0.0, 0.0, 0.0, 0.0, 0.0, 0.0, 0.0, 0.0, 0.0, 0.0, 0.0, 0.0, 0.0, 0.0], [0.0, 0.0, 0.0, 0.0, 0.0, 0.0, 0.0, 0.0, 0.0, 0.0, 0.0, 0.0, 0.0, 0.0, 0.0, 0.0, 0.0, 0.0, 0.0, 0.0], [0.0, 0.0, 0.0, 0.0, 0.0, 0.0, 0.0, 0.0, 0.0, 0.0, 0.0, 0.0, 0.0, 0.0, 0.0, 0.0, 0.0, 0.0, 0.0, 0.0], [0.0, 0.0, 0.0, 0.0, 0.0, 0.0, 0.0, 0.0, 0.0, 0.0, 0.0, 0.0, 0.0, 0.0, 0.0, 0.0, 0.0, 0.0, 0.0, 0.0], [0.0, 0.0, 0.0, 0.0, 0.0, 0.0, 0.0, 0.0, 0.0, 0.0, 0.0, 0.0, 0.0, 0.0, 0.0, 0.0, 0.0, 0.0, 0.0, 0.0], [0.0, 0.0, 0.0, 0.0, 0.0, 0.0, 0.0, 0.0, 0.0, 0.0, 0.0, 0.0, 0.0, 0.0, 0.0, 0.0, 0.0, 0.0, 0.0, 0.0], [0.0, 0.0, 0.0, 0.0, 0.0, 0.0, 0.0, 0.0, 0.0, 0.0, 0.0, 0.0, 0.0, 0.0, 0.0, 0.0, 0.0, 0.0, 0.0, 0.0], [0.0, 0.0, 0.0, 0.0, 0.0, 0.0, 0.0, 0.0, 0.0, 0.0, 0.0, 0.0, 0.0, 0.0, 0.0, 0.0, 0.0, 0.0, 0.0, 0.0], [0.0, 0.0, 0.0, 0.0, 0.0, 0.0, 0.0, 0.0, 0.0, 0.0, 0.0, 0.0, 0.0, 0.0, 0.0, 0...  "
      ]
     },
     "execution_count": 37,
     "metadata": {},
     "output_type": "execute_result"
    }
   ],
   "source": [
    "articles"
   ]
  },
  {
   "cell_type": "markdown",
   "metadata": {},
   "source": [
    "Next step is to create similarity matrices with graph from matrix."
   ]
  },
  {
   "cell_type": "code",
   "execution_count": 31,
   "metadata": {},
   "outputs": [],
   "source": [
    "import networkx as nx"
   ]
  },
  {
   "cell_type": "code",
   "execution_count": 38,
   "metadata": {},
   "outputs": [],
   "source": [
    "def matrix_graph(sim_mat):\n",
    "    nx_graph=nx.from_numpy_array(sim_mat)\n",
    "    scores=nx.pagerank(nx_graph)\n",
    "    return scores"
   ]
  },
  {
   "cell_type": "code",
   "execution_count": 39,
   "metadata": {},
   "outputs": [],
   "source": [
    "articles['graph']=articles['SimMatrix'].apply(matrix_graph)"
   ]
  },
  {
   "cell_type": "code",
   "execution_count": 40,
   "metadata": {},
   "outputs": [
    {
     "data": {
      "text/html": [
       "<div>\n",
       "<style scoped>\n",
       "    .dataframe tbody tr th:only-of-type {\n",
       "        vertical-align: middle;\n",
       "    }\n",
       "\n",
       "    .dataframe tbody tr th {\n",
       "        vertical-align: top;\n",
       "    }\n",
       "\n",
       "    .dataframe thead th {\n",
       "        text-align: right;\n",
       "    }\n",
       "</style>\n",
       "<table border=\"1\" class=\"dataframe\">\n",
       "  <thead>\n",
       "    <tr style=\"text-align: right;\">\n",
       "      <th></th>\n",
       "      <th>sentenceInArticle</th>\n",
       "      <th>WordInSentences</th>\n",
       "      <th>SentenceVector</th>\n",
       "      <th>SimMatrix</th>\n",
       "      <th>graph</th>\n",
       "    </tr>\n",
       "  </thead>\n",
       "  <tbody>\n",
       "    <tr>\n",
       "      <th>0</th>\n",
       "      <td>[Maria Sharapova has basically no friends as tennis players on the WTA Tour., The Russian player has no problems in openly speaking about it and in a recent interview she said: 'I don't really hide any feelings too much., I think everyone knows this is my job here., When I'm on the courts or when I'm on the court playing, I'm a competitor and I want to beat every single person whether they're in the locker room or across the net.So I'm not the one to strike up a conversation about the weather and know that in the next few minutes I have to go and try to win a tennis match., I'm a pretty competitive girl., I say my hellos, but I'm not sending any players flowers as well., Uhm, I'm not really friendly or close to many players., I have not a lot of friends away from the courts.', When she said she is not really close to a lot of players, is that something strategic that she is doing?, Is it different on the men's tour than the women's tour?, 'No, not at all., I think just because you'...</td>\n",
       "      <td>[[maria, sharapova, has, basically, no, friends, as, tennis, players, on, the, wta, tour], [the, russian, player, has, no, problems, in, openly, speaking, about, it, and, in, a, recent, interview, she, said, i, do, not, really, hide, any, feelings, too, much], [i, think, everyone, knows, this, is, my, job, here], [when, i, am, on, the, courts, or, when, i, am, on, the, court, playing, i, am, a, competitor, and, i, want, to, beat, every, single, person, whether, they, are, in, the, locker, room, or, across, the, netso, i, am, not, the, one, to, strike, up, a, conversation, about, the, weather, and, know, that, in, the, next, few, minutes, i, have, to, go, and, try, to, win, a, tennis, match], [i, am, a, pretty, competitive, girl], [i, say, my, hellos, but, i, am, not, sending, any, players, flowers, as, well], [uhm, i, am, not, really, friendly, or, close, to, many, players], [i, have, not, a, lot, of, friends, away, from, the, courts], [when, she, said, she, is, not, really, close,...</td>\n",
       "      <td>[[0.07161230769230773, 0.5263353076923079, -0.22625407692307692, 0.4190584615384615, -0.0952153076923077, -0.10156600000000002, -0.40362538461538466, 0.400633476923077, -0.35831371000000006, -0.11500546153846154, 0.11607930769230769, -0.146259, -0.6847891923076924, 0.014327538461538456, 0.783284653846154, 0.046932615384615385, -0.10918245384615388, 0.054596461538461545, -0.29416438461538463, -0.1929796923076923, -0.2468181230769231, 0.3106658461538461, 0.011112153846153848, 0.30192715384615376, 0.12148384615384614, -1.328529230769231, -0.2920881538461539, -0.07721707692307692, -0.3258306923076923, -0.36910523076923074, 2.7283676923076925, 0.24652538461538465, -0.041018076923076914, 0.07203453846153846, 0.022849225384615382, -0.01111693076923078, 0.2808099230769231, 0.4716086153846154, -0.020941546153846143, -0.6126247692307694, -0.007031076923076909, -0.08967269230769231, 0.18087161538461535, 0.06510876923076923, 0.1128052307692308, -0.027662769230769227, -0.06883483846153847, -0.3...</td>\n",
       "      <td>[[1.0000000000000002, 0.0, 0.0, 0.0, 0.0, 0.0, 0.0, 0.0, 0.0, 0.0, 0.0, 0.0, 0.0, 0.0, 0.0, 0.0, 0.0], [0.0, 0.0, 0.0, 0.0, 0.0, 0.0, 0.0, 0.0, 0.0, 0.0, 0.0, 0.0, 0.0, 0.0, 0.0, 0.0, 0.0], [0.0, 0.0, 0.0, 0.0, 0.0, 0.0, 0.0, 0.0, 0.0, 0.0, 0.0, 0.0, 0.0, 0.0, 0.0, 0.0, 0.0], [0.0, 0.0, 0.0, 0.0, 0.0, 0.0, 0.0, 0.0, 0.0, 0.0, 0.0, 0.0, 0.0, 0.0, 0.0, 0.0, 0.0], [0.0, 0.0, 0.0, 0.0, 0.0, 0.0, 0.0, 0.0, 0.0, 0.0, 0.0, 0.0, 0.0, 0.0, 0.0, 0.0, 0.0], [0.0, 0.0, 0.0, 0.0, 0.0, 0.0, 0.0, 0.0, 0.0, 0.0, 0.0, 0.0, 0.0, 0.0, 0.0, 0.0, 0.0], [0.0, 0.0, 0.0, 0.0, 0.0, 0.0, 0.0, 0.0, 0.0, 0.0, 0.0, 0.0, 0.0, 0.0, 0.0, 0.0, 0.0], [0.0, 0.0, 0.0, 0.0, 0.0, 0.0, 0.0, 0.0, 0.0, 0.0, 0.0, 0.0, 0.0, 0.0, 0.0, 0.0, 0.0], [0.0, 0.0, 0.0, 0.0, 0.0, 0.0, 0.0, 0.0, 0.0, 0.0, 0.0, 0.0, 0.0, 0.0, 0.0, 0.0, 0.0], [0.0, 0.0, 0.0, 0.0, 0.0, 0.0, 0.0, 0.0, 0.0, 0.0, 0.0, 0.0, 0.0, 0.0, 0.0, 0.0, 0.0], [0.0, 0.0, 0.0, 0.0, 0.0, 0.0, 0.0, 0.0, 0.0, 0.0, 0.0, 0.0, 0.0, 0.0, 0.0, 0.0, 0.0], [0.0, 0.0, 0.0, 0.0, 0....</td>\n",
       "      <td>{0: 0.29408637110598146, 1: 0.04411960180587616, 2: 0.04411960180587616, 3: 0.04411960180587616, 4: 0.04411960180587616, 5: 0.04411960180587616, 6: 0.04411960180587616, 7: 0.04411960180587616, 8: 0.04411960180587616, 9: 0.04411960180587616, 10: 0.04411960180587616, 11: 0.04411960180587616, 12: 0.04411960180587616, 13: 0.04411960180587616, 14: 0.04411960180587616, 15: 0.04411960180587616, 16: 0.04411960180587616}</td>\n",
       "    </tr>\n",
       "    <tr>\n",
       "      <th>1</th>\n",
       "      <td>[BASEL, Switzerland (AP), Roger Federer advanced to the 14th Swiss Indoors final of his career by beating seventh-seeded Daniil Medvedev 6-1, 6-4 on Saturday., Seeking a ninth title at his hometown event, and a 99th overall, Federer will play 93th-ranked Marius Copil on Sunday., Federer dominated the 20th-ranked Medvedev and had his first match-point chance to break serve again at 5-1., He then dropped his serve to love, and let another match point slip in Medvedev's next service game by netting a backhand., He clinched on his fourth chance when Medvedev netted from the baseline., Copil upset expectations of a Federer final against Alexander Zverev in a 6-3, 6-7 (6), 6-4 win over the fifth-ranked German in the earlier semifinal., The Romanian aims for a first title after arriving at Basel without a career win over a top-10 opponent., Copil has two after also beating No., 6 Marin Cilic in the second round., Copil fired 26 aces past Zverev and never dropped serve, clinching after 2 1...</td>\n",
       "      <td>[[basel, switzerland, ap, roger, federer, advanced, to, the, th, swiss, indoors, final, of, his, career, by, beating, seventhseeded, daniil, medvedev, on, saturday], [seeking, a, ninth, title, at, his, hometown, event, and, a, th, overall, federer, will, play, thranked, marius, copil, on, sunday], [federer, dominated, the, thranked, medvedev, and, had, his, first, matchpoint, chance, to, break, serve, again, at], [he, then, dropped, his, serve, to, love, and, let, another, match, point, slip, in, medvedev, s, next, service, game, by, netting, a, backhand], [he, clinched, on, his, fourth, chance, when, medvedev, netted, from, the, baseline], [copil, upset, expectations, of, a, federer, final, against, alexander, zverev, in, a, win, over, the, fifthranked, german, in, the, earlier, semifinal], [the, romanian, aims, for, a, first, title, after, arriving, at, basel, without, a, career, win, over, a, top, opponent], [copil, has, two, after, also, beating, no], [marin, cilic, in, the, se...</td>\n",
       "      <td>[[-0.04118086363636363, 0.3783945909090909, -0.09865840909090907, 0.2834696363636364, 0.016647883181818177, -0.08658890909090906, -0.23910705000000004, 0.3978880909090909, -0.4083776922727273, -0.0862470909090909, 0.1902452272727273, -0.2986129545454545, -0.6385927272727273, -0.031250136363636376, 0.5444554772727271, -0.1095599090909091, -0.13976365909090907, -0.4376720772727273, -0.6052627727272726, 0.11610288409090913, -0.00404738636363637, -0.022918954545454527, -0.04588368181818183, -0.01739659090909088, -0.029735613636363633, -1.1522947090909093, 0.07495704545454546, -0.22785550000000002, -0.23360109090909092, -0.08926977272727274, 2.1310990909090908, 0.1533223181818182, -0.07642998636363636, 4.954545454545331e-05, -0.12957568500000002, -0.09078812272727271, 0.23761849999999998, 0.5697758181818182, 0.022155650000000006, -0.1867798181818182, 0.2605305909090909, -0.06329845454545456, 0.2951025909090909, -0.1664764681818182, 0.15181086363636365, 0.1326979090909091, -0.01367409545...</td>\n",
       "      <td>[[1.0000000000000004, 0.0, 0.0, 0.0, 0.0, 0.0, 0.0, 0.0, 0.0, 0.0, 0.0, 0.0], [0.0, 0.0, 0.0, 0.0, 0.0, 0.0, 0.0, 0.0, 0.0, 0.0, 0.0, 0.0], [0.0, 0.0, 0.0, 0.0, 0.0, 0.0, 0.0, 0.0, 0.0, 0.0, 0.0, 0.0], [0.0, 0.0, 0.0, 0.0, 0.0, 0.0, 0.0, 0.0, 0.0, 0.0, 0.0, 0.0], [0.0, 0.0, 0.0, 0.0, 0.0, 0.0, 0.0, 0.0, 0.0, 0.0, 0.0, 0.0], [0.0, 0.0, 0.0, 0.0, 0.0, 0.0, 0.0, 0.0, 0.0, 0.0, 0.0, 0.0], [0.0, 0.0, 0.0, 0.0, 0.0, 0.0, 0.0, 0.0, 0.0, 0.0, 0.0, 0.0], [0.0, 0.0, 0.0, 0.0, 0.0, 0.0, 0.0, 0.0, 0.0, 0.0, 0.0, 0.0], [0.0, 0.0, 0.0, 0.0, 0.0, 0.0, 0.0, 0.0, 0.0, 0.0, 0.0, 0.0], [0.0, 0.0, 0.0, 0.0, 0.0, 0.0, 0.0, 0.0, 0.0, 0.0, 0.0, 0.0], [0.0, 0.0, 0.0, 0.0, 0.0, 0.0, 0.0, 0.0, 0.0, 0.0, 0.0, 0.0], [0.0, 0.0, 0.0, 0.0, 0.0, 0.0, 0.0, 0.0, 0.0, 0.0, 0.0, 0.0]]</td>\n",
       "      <td>{0: 0.3773410336019268, 1: 0.05660536058164296, 2: 0.05660536058164296, 3: 0.05660536058164296, 4: 0.05660536058164296, 5: 0.05660536058164296, 6: 0.05660536058164296, 7: 0.05660536058164296, 8: 0.05660536058164296, 9: 0.05660536058164296, 10: 0.05660536058164296, 11: 0.05660536058164296}</td>\n",
       "    </tr>\n",
       "    <tr>\n",
       "      <th>2</th>\n",
       "      <td>[Roger Federer has revealed that organisers of the re-launched and condensed Davis Cup gave him three days to decide if he would commit to the controversial competition., Speaking at the Swiss Indoors tournament where he will play in Sundays final against Romanian qualifier Marius Copil, the world number three said that given the impossibly short time frame to make a decision, he opted out of any commitment., \"They only left me three days to decide\", Federer said., \"I didn't to have time to consult with all the people I had to consult., \"I could not make a decision in that time, so I told them to do what they wanted.\", The 20-time Grand Slam champion has voiced doubts about the wisdom of the one-week format to be introduced by organisers Kosmos, who have promised the International Tennis Federation up to $3 billion in prize money over the next quarter-century., The competition is set to feature 18 countries in the November 18-24 finals in Madrid next year, and will replace the clas...</td>\n",
       "      <td>[[roger, federer, has, revealed, that, organisers, of, the, relaunched, and, condensed, davis, cup, gave, him, three, days, to, decide, if, he, would, commit, to, the, controversial, competition], [speaking, at, the, swiss, indoors, tournament, where, he, will, play, in, sundays, final, against, romanian, qualifier, marius, copil, the, world, number, three, said, that, given, the, impossibly, short, time, frame, to, make, a, decision, he, opted, out, of, any, commitment], [``, they, only, left, me, three, days, to, decide, federer, said], [``, i, did, not, to, have, time, to, consult, with, all, the, people, i, had, to, consult], [``, i, could, not, make, a, decision, in, that, time, so, i, told, them, to, do, what, they, wanted], [the, time, grand, slam, champion, has, voiced, doubts, about, the, wisdom, of, the, oneweek, format, to, be, introduced, by, organisers, kosmos, who, have, promised, the, international, tennis, federation, up, to, billion, in, prize, money, over, the, ne...</td>\n",
       "      <td>[[0.25328906296296294, 0.12198537037037037, -0.11345479181481483, 0.1446348814814815, 0.1525931851851852, 0.16861987777777784, -0.38139322592592595, 0.2617922222222222, -0.23743694296296297, -0.03473777777777776, 0.035870111111111116, 0.12096629629629627, -0.6220851851851853, -0.0933997037037037, 0.7065455925925925, 0.143282037037037, 0.12736662962962964, -0.19685677777777782, -0.4711523333333333, -0.31522065185185183, 0.1199826296296296, 0.054465311111111095, 0.31118688888888885, -0.10871659259259264, 0.014215555555555558, -1.5483337037037042, -0.10728948148148147, -0.04703542592592592, -0.1138865925925926, -0.21412614814814818, 2.7733540740740743, 0.15372562962962966, -0.41941892592592583, -0.25126889407407405, 0.026628517037037034, -0.11579138518518517, 0.22920711111111114, 0.3417279444444446, -0.09856985555555556, -0.39040711111111115, -0.08489601111111111, -0.02059985185185185, -0.0706187777777778, 0.04860455555555556, -0.06971725925925926, 0.09703904074074075, -0.217581044444...</td>\n",
       "      <td>[[1.0, 0.0, 0.0, 0.0, 0.0, 0.0, 0.0, 0.0, 0.0, 0.0, 0.0, 0.0, 0.0, 0.0, 0.0, 0.0, 0.0], [0.0, 0.0, 0.0, 0.0, 0.0, 0.0, 0.0, 0.0, 0.0, 0.0, 0.0, 0.0, 0.0, 0.0, 0.0, 0.0, 0.0], [0.0, 0.0, 0.0, 0.0, 0.0, 0.0, 0.0, 0.0, 0.0, 0.0, 0.0, 0.0, 0.0, 0.0, 0.0, 0.0, 0.0], [0.0, 0.0, 0.0, 0.0, 0.0, 0.0, 0.0, 0.0, 0.0, 0.0, 0.0, 0.0, 0.0, 0.0, 0.0, 0.0, 0.0], [0.0, 0.0, 0.0, 0.0, 0.0, 0.0, 0.0, 0.0, 0.0, 0.0, 0.0, 0.0, 0.0, 0.0, 0.0, 0.0, 0.0], [0.0, 0.0, 0.0, 0.0, 0.0, 0.0, 0.0, 0.0, 0.0, 0.0, 0.0, 0.0, 0.0, 0.0, 0.0, 0.0, 0.0], [0.0, 0.0, 0.0, 0.0, 0.0, 0.0, 0.0, 0.0, 0.0, 0.0, 0.0, 0.0, 0.0, 0.0, 0.0, 0.0, 0.0], [0.0, 0.0, 0.0, 0.0, 0.0, 0.0, 0.0, 0.0, 0.0, 0.0, 0.0, 0.0, 0.0, 0.0, 0.0, 0.0, 0.0], [0.0, 0.0, 0.0, 0.0, 0.0, 0.0, 0.0, 0.0, 0.0, 0.0, 0.0, 0.0, 0.0, 0.0, 0.0, 0.0, 0.0], [0.0, 0.0, 0.0, 0.0, 0.0, 0.0, 0.0, 0.0, 0.0, 0.0, 0.0, 0.0, 0.0, 0.0, 0.0, 0.0, 0.0], [0.0, 0.0, 0.0, 0.0, 0.0, 0.0, 0.0, 0.0, 0.0, 0.0, 0.0, 0.0, 0.0, 0.0, 0.0, 0.0, 0.0], [0.0, 0.0, 0.0, 0.0, 0.0, 0.0, 0.0, 0....</td>\n",
       "      <td>{0: 0.29408637110598146, 1: 0.04411960180587616, 2: 0.04411960180587616, 3: 0.04411960180587616, 4: 0.04411960180587616, 5: 0.04411960180587616, 6: 0.04411960180587616, 7: 0.04411960180587616, 8: 0.04411960180587616, 9: 0.04411960180587616, 10: 0.04411960180587616, 11: 0.04411960180587616, 12: 0.04411960180587616, 13: 0.04411960180587616, 14: 0.04411960180587616, 15: 0.04411960180587616, 16: 0.04411960180587616}</td>\n",
       "    </tr>\n",
       "    <tr>\n",
       "      <th>3</th>\n",
       "      <td>[Kei Nishikori will try to end his long losing streak in ATP finals and Kevin Anderson will go for his second title of the year at the Erste Bank Open on Sunday., The fifth-seeded Nishikori reached his third final of 2018 after beating Mikhail Kukushkin of Kazakhstan 6-4, 6-3 in the semifinals., A winner of 11 ATP events, Nishikori hasn't triumphed since winning in Memphis in February 2016., He has lost eight straight finals since., The second-seeded Anderson defeated Fernando Verdasco 6-3, 3-6, 6-4., Anderson has a shot at a fifth career title and second of the year after winning in New York in February., Nishikori leads Anderson 4-2 on career matchups, but the South African won their only previous meeting this year., With a victory on Sunday, Anderson will qualify for the ATP Finals., Currently in ninth place, Nishikori with a win could move to within 125 points of the cut for the eight-man event in London next month., Nishikori held serve throughout against Kukushkin, who came t...</td>\n",
       "      <td>[[kei, nishikori, will, try, to, end, his, long, losing, streak, in, atp, finals, and, kevin, anderson, will, go, for, his, second, title, of, the, year, at, the, erste, bank, open, on, sunday], [the, fifthseeded, nishikori, reached, his, third, final, of, after, beating, mikhail, kukushkin, of, kazakhstan, in, the, semifinals], [a, winner, of, atp, events, nishikori, has, not, triumphed, since, winning, in, memphis, in, february], [he, has, lost, eight, straight, finals, since], [the, secondseeded, anderson, defeated, fernando, verdasco], [anderson, has, a, shot, at, a, fifth, career, title, and, second, of, the, year, after, winning, in, new, york, in, february], [nishikori, leads, anderson, on, career, matchups, but, the, south, african, won, their, only, previous, meeting, this, year], [with, a, victory, on, sunday, anderson, will, qualify, for, the, atp, finals], [currently, in, ninth, place, nishikori, with, a, win, could, move, to, within, points, of, the, cut, for, the, eig...</td>\n",
       "      <td>[[-0.07639146874999997, 0.3170033437499999, -0.05655231249999998, 0.33123381250000006, 0.11854274999999999, -0.04550446874999999, -0.41850468749999997, 0.2692358625, -0.25405875718750004, -0.10351577749999999, 0.03690078124999999, -0.08491131562500001, -0.7030106250000001, 0.0020322187500000045, 0.4821976250000001, 0.15320184375, 0.038407875000000015, -0.26271625000000004, -0.6549773749999999, -0.08030978124999998, 0.05498265625000004, 0.035396353125, 0.010837625000000024, -0.04316790625000001, -0.06018543750000003, -1.4377952499999995, 0.05665375, -0.14137571874999993, -0.10342975000000001, -0.27637156250000006, 2.944246562499999, 0.3364460625, -0.16078259374999998, 0.04588156249999999, 0.12576624250000004, -0.1341709625, 0.17272203125000005, 0.2543388749999999, 0.10677622156249998, -0.45882850000000003, -0.2480130625, -0.054150100000000014, 0.0020541562499999944, -0.07792875625, -0.07798153124999999, 0.08807103125, 0.05978199375, -0.27529034375000005, 0.019644781249999993, -0.121...</td>\n",
       "      <td>[[0.9999999999999998, 0.0, 0.0, 0.0, 0.0, 0.0, 0.0, 0.0, 0.0, 0.0, 0.0, 0.0, 0.0], [0.0, 0.0, 0.0, 0.0, 0.0, 0.0, 0.0, 0.0, 0.0, 0.0, 0.0, 0.0, 0.0], [0.0, 0.0, 0.0, 0.0, 0.0, 0.0, 0.0, 0.0, 0.0, 0.0, 0.0, 0.0, 0.0], [0.0, 0.0, 0.0, 0.0, 0.0, 0.0, 0.0, 0.0, 0.0, 0.0, 0.0, 0.0, 0.0], [0.0, 0.0, 0.0, 0.0, 0.0, 0.0, 0.0, 0.0, 0.0, 0.0, 0.0, 0.0, 0.0], [0.0, 0.0, 0.0, 0.0, 0.0, 0.0, 0.0, 0.0, 0.0, 0.0, 0.0, 0.0, 0.0], [0.0, 0.0, 0.0, 0.0, 0.0, 0.0, 0.0, 0.0, 0.0, 0.0, 0.0, 0.0, 0.0], [0.0, 0.0, 0.0, 0.0, 0.0, 0.0, 0.0, 0.0, 0.0, 0.0, 0.0, 0.0, 0.0], [0.0, 0.0, 0.0, 0.0, 0.0, 0.0, 0.0, 0.0, 0.0, 0.0, 0.0, 0.0, 0.0], [0.0, 0.0, 0.0, 0.0, 0.0, 0.0, 0.0, 0.0, 0.0, 0.0, 0.0, 0.0, 0.0], [0.0, 0.0, 0.0, 0.0, 0.0, 0.0, 0.0, 0.0, 0.0, 0.0, 0.0, 0.0, 0.0], [0.0, 0.0, 0.0, 0.0, 0.0, 0.0, 0.0, 0.0, 0.0, 0.0, 0.0, 0.0, 0.0], [0.0, 0.0, 0.0, 0.0, 0.0, 0.0, 0.0, 0.0, 0.0, 0.0, 0.0, 0.0, 0.0]]</td>\n",
       "      <td>{0: 0.3571210240758898, 1: 0.053573247993675854, 2: 0.053573247993675854, 3: 0.053573247993675854, 4: 0.053573247993675854, 5: 0.053573247993675854, 6: 0.053573247993675854, 7: 0.053573247993675854, 8: 0.053573247993675854, 9: 0.053573247993675854, 10: 0.053573247993675854, 11: 0.053573247993675854, 12: 0.053573247993675854}</td>\n",
       "    </tr>\n",
       "    <tr>\n",
       "      <th>4</th>\n",
       "      <td>[Federer, 37, first broke through on tour over two decades ago and he has since gone on to enjoy a glittering career., The 20-time Grand Slam winner is chasing his 99th ATP title at the Swiss Indoors this week and he faces Jan-Lennard Struff in the second round on Thursday (6pm BST)., Davenport enjoyed most of her success in the late 1990s and her third and final major tournament win came at the 2000 Australian Open., But she claims the mentality of professional tennis players slowly began to change after the new millennium., \"It seems pretty friendly right now,\" said Davenport., \"I think there is a really nice environment and a great atmosphere, especially between some of the veteran players helping some of the younger players out., \"It's a very pleasant atmosphere, I'd have to say, around the locker rooms., \"I felt like the best weeks that I had to get to know players when I was playing were the Fed Cup weeks or the Olympic weeks, not necessarily during the tournaments., \"And eve...</td>\n",
       "      <td>[[federer, first, broke, through, on, tour, over, two, decades, ago, and, he, has, since, gone, on, to, enjoy, a, glittering, career], [the, time, grand, slam, winner, is, chasing, his, th, atp, title, at, the, swiss, indoors, this, week, and, he, faces, janlennard, struff, in, the, second, round, on, thursday, pm, bst], [davenport, enjoyed, most, of, her, success, in, the, late, s, and, her, third, and, final, major, tournament, win, came, at, the, australian, open], [but, she, claims, the, mentality, of, professional, tennis, players, slowly, began, to, change, after, the, new, millennium], [``, it, seems, pretty, friendly, right, now, said, davenport], [``, i, think, there, is, a, really, nice, environment, and, a, great, atmosphere, especially, between, some, of, the, veteran, players, helping, some, of, the, younger, players, out], [``, it, is, a, very, pleasant, atmosphere, i, would, have, to, say, around, the, locker, rooms], [``, i, felt, like, the, best, weeks, that, i, ha...</td>\n",
       "      <td>[[0.08898900000000001, 0.26611004761904766, -0.192052, 0.06671333333333333, 0.028799476190476233, 0.09485580952380952, -0.7151614285714287, 0.18457328571428572, -0.19910014285714284, -0.0065385238095237675, -0.0994645904761905, -0.25375309523809514, -0.6728928571428572, 0.07200021428571428, 0.5973166666666666, -0.07204279047619051, -0.084204, -0.14471214285714284, -0.630137619047619, -0.12544587142857144, 0.11530611428571426, 0.2953277142857143, 0.12353749047619043, -0.15412176190476187, 0.03485861904761905, -1.515292, -0.056055095238095216, 0.032189685714285717, 0.09830066666666666, -0.1126077142857143, 3.173791904761904, 0.2494000952380952, -0.12230876190476193, -0.060254952380952354, 0.0332806, 0.06226409523809525, -0.017406476190476177, 0.43230761904761905, -0.13516719047619047, -0.27663478095238103, -0.3494240952380953, 0.0450542619047619, -0.06251766666666667, 0.05574223809523809, -0.17952464285714287, 0.029179333333333328, -0.09026942857142857, -0.3474336666666667, -0.323819...</td>\n",
       "      <td>[[0.9999999999999999, 0.0, 0.0, 0.0, 0.0, 0.0, 0.0, 0.0, 0.0, 0.0, 0.0, 0.0, 0.0, 0.0, 0.0, 0.0, 0.0, 0.0], [0.0, 0.0, 0.0, 0.0, 0.0, 0.0, 0.0, 0.0, 0.0, 0.0, 0.0, 0.0, 0.0, 0.0, 0.0, 0.0, 0.0, 0.0], [0.0, 0.0, 0.0, 0.0, 0.0, 0.0, 0.0, 0.0, 0.0, 0.0, 0.0, 0.0, 0.0, 0.0, 0.0, 0.0, 0.0, 0.0], [0.0, 0.0, 0.0, 0.0, 0.0, 0.0, 0.0, 0.0, 0.0, 0.0, 0.0, 0.0, 0.0, 0.0, 0.0, 0.0, 0.0, 0.0], [0.0, 0.0, 0.0, 0.0, 0.0, 0.0, 0.0, 0.0, 0.0, 0.0, 0.0, 0.0, 0.0, 0.0, 0.0, 0.0, 0.0, 0.0], [0.0, 0.0, 0.0, 0.0, 0.0, 0.0, 0.0, 0.0, 0.0, 0.0, 0.0, 0.0, 0.0, 0.0, 0.0, 0.0, 0.0, 0.0], [0.0, 0.0, 0.0, 0.0, 0.0, 0.0, 0.0, 0.0, 0.0, 0.0, 0.0, 0.0, 0.0, 0.0, 0.0, 0.0, 0.0, 0.0], [0.0, 0.0, 0.0, 0.0, 0.0, 0.0, 0.0, 0.0, 0.0, 0.0, 0.0, 0.0, 0.0, 0.0, 0.0, 0.0, 0.0, 0.0], [0.0, 0.0, 0.0, 0.0, 0.0, 0.0, 0.0, 0.0, 0.0, 0.0, 0.0, 0.0, 0.0, 0.0, 0.0, 0.0, 0.0, 0.0], [0.0, 0.0, 0.0, 0.0, 0.0, 0.0, 0.0, 0.0, 0.0, 0.0, 0.0, 0.0, 0.0, 0.0, 0.0, 0.0, 0.0, 0.0], [0.0, 0.0, 0.0, 0.0, 0.0, 0.0, 0.0, 0.0, 0.0, 0.0, 0.0, 0.0,...</td>\n",
       "      <td>{0: 0.28165561211001133, 1: 0.042255552228822865, 2: 0.042255552228822865, 3: 0.042255552228822865, 4: 0.042255552228822865, 5: 0.042255552228822865, 6: 0.042255552228822865, 7: 0.042255552228822865, 8: 0.042255552228822865, 9: 0.042255552228822865, 10: 0.042255552228822865, 11: 0.042255552228822865, 12: 0.042255552228822865, 13: 0.042255552228822865, 14: 0.042255552228822865, 15: 0.042255552228822865, 16: 0.042255552228822865, 17: 0.042255552228822865}</td>\n",
       "    </tr>\n",
       "  </tbody>\n",
       "</table>\n",
       "</div>"
      ],
      "text/plain": [
       "                                                                                                                                                                                                                                                                                                                                                                                                                                                                                                                                                                                                                                                                                                                                                                                                                                                                                                                                                                                                                         sentenceInArticle  \\\n",
       "0  [Maria Sharapova has basically no friends as tennis players on the WTA Tour., The Russian player has no problems in openly speaking about it and in a recent interview she said: 'I don't really hide any feelings too much., I think everyone knows this is my job here., When I'm on the courts or when I'm on the court playing, I'm a competitor and I want to beat every single person whether they're in the locker room or across the net.So I'm not the one to strike up a conversation about the weather and know that in the next few minutes I have to go and try to win a tennis match., I'm a pretty competitive girl., I say my hellos, but I'm not sending any players flowers as well., Uhm, I'm not really friendly or close to many players., I have not a lot of friends away from the courts.', When she said she is not really close to a lot of players, is that something strategic that she is doing?, Is it different on the men's tour than the women's tour?, 'No, not at all., I think just because you'...   \n",
       "1  [BASEL, Switzerland (AP), Roger Federer advanced to the 14th Swiss Indoors final of his career by beating seventh-seeded Daniil Medvedev 6-1, 6-4 on Saturday., Seeking a ninth title at his hometown event, and a 99th overall, Federer will play 93th-ranked Marius Copil on Sunday., Federer dominated the 20th-ranked Medvedev and had his first match-point chance to break serve again at 5-1., He then dropped his serve to love, and let another match point slip in Medvedev's next service game by netting a backhand., He clinched on his fourth chance when Medvedev netted from the baseline., Copil upset expectations of a Federer final against Alexander Zverev in a 6-3, 6-7 (6), 6-4 win over the fifth-ranked German in the earlier semifinal., The Romanian aims for a first title after arriving at Basel without a career win over a top-10 opponent., Copil has two after also beating No., 6 Marin Cilic in the second round., Copil fired 26 aces past Zverev and never dropped serve, clinching after 2 1...   \n",
       "2  [Roger Federer has revealed that organisers of the re-launched and condensed Davis Cup gave him three days to decide if he would commit to the controversial competition., Speaking at the Swiss Indoors tournament where he will play in Sundays final against Romanian qualifier Marius Copil, the world number three said that given the impossibly short time frame to make a decision, he opted out of any commitment., \"They only left me three days to decide\", Federer said., \"I didn't to have time to consult with all the people I had to consult., \"I could not make a decision in that time, so I told them to do what they wanted.\", The 20-time Grand Slam champion has voiced doubts about the wisdom of the one-week format to be introduced by organisers Kosmos, who have promised the International Tennis Federation up to $3 billion in prize money over the next quarter-century., The competition is set to feature 18 countries in the November 18-24 finals in Madrid next year, and will replace the clas...   \n",
       "3  [Kei Nishikori will try to end his long losing streak in ATP finals and Kevin Anderson will go for his second title of the year at the Erste Bank Open on Sunday., The fifth-seeded Nishikori reached his third final of 2018 after beating Mikhail Kukushkin of Kazakhstan 6-4, 6-3 in the semifinals., A winner of 11 ATP events, Nishikori hasn't triumphed since winning in Memphis in February 2016., He has lost eight straight finals since., The second-seeded Anderson defeated Fernando Verdasco 6-3, 3-6, 6-4., Anderson has a shot at a fifth career title and second of the year after winning in New York in February., Nishikori leads Anderson 4-2 on career matchups, but the South African won their only previous meeting this year., With a victory on Sunday, Anderson will qualify for the ATP Finals., Currently in ninth place, Nishikori with a win could move to within 125 points of the cut for the eight-man event in London next month., Nishikori held serve throughout against Kukushkin, who came t...   \n",
       "4  [Federer, 37, first broke through on tour over two decades ago and he has since gone on to enjoy a glittering career., The 20-time Grand Slam winner is chasing his 99th ATP title at the Swiss Indoors this week and he faces Jan-Lennard Struff in the second round on Thursday (6pm BST)., Davenport enjoyed most of her success in the late 1990s and her third and final major tournament win came at the 2000 Australian Open., But she claims the mentality of professional tennis players slowly began to change after the new millennium., \"It seems pretty friendly right now,\" said Davenport., \"I think there is a really nice environment and a great atmosphere, especially between some of the veteran players helping some of the younger players out., \"It's a very pleasant atmosphere, I'd have to say, around the locker rooms., \"I felt like the best weeks that I had to get to know players when I was playing were the Fed Cup weeks or the Olympic weeks, not necessarily during the tournaments., \"And eve...   \n",
       "\n",
       "                                                                                                                                                                                                                                                                                                                                                                                                                                                                                                                                                                                                                                                                                                                                                                                                                                                                                                                                                                                                                           WordInSentences  \\\n",
       "0  [[maria, sharapova, has, basically, no, friends, as, tennis, players, on, the, wta, tour], [the, russian, player, has, no, problems, in, openly, speaking, about, it, and, in, a, recent, interview, she, said, i, do, not, really, hide, any, feelings, too, much], [i, think, everyone, knows, this, is, my, job, here], [when, i, am, on, the, courts, or, when, i, am, on, the, court, playing, i, am, a, competitor, and, i, want, to, beat, every, single, person, whether, they, are, in, the, locker, room, or, across, the, netso, i, am, not, the, one, to, strike, up, a, conversation, about, the, weather, and, know, that, in, the, next, few, minutes, i, have, to, go, and, try, to, win, a, tennis, match], [i, am, a, pretty, competitive, girl], [i, say, my, hellos, but, i, am, not, sending, any, players, flowers, as, well], [uhm, i, am, not, really, friendly, or, close, to, many, players], [i, have, not, a, lot, of, friends, away, from, the, courts], [when, she, said, she, is, not, really, close,...   \n",
       "1  [[basel, switzerland, ap, roger, federer, advanced, to, the, th, swiss, indoors, final, of, his, career, by, beating, seventhseeded, daniil, medvedev, on, saturday], [seeking, a, ninth, title, at, his, hometown, event, and, a, th, overall, federer, will, play, thranked, marius, copil, on, sunday], [federer, dominated, the, thranked, medvedev, and, had, his, first, matchpoint, chance, to, break, serve, again, at], [he, then, dropped, his, serve, to, love, and, let, another, match, point, slip, in, medvedev, s, next, service, game, by, netting, a, backhand], [he, clinched, on, his, fourth, chance, when, medvedev, netted, from, the, baseline], [copil, upset, expectations, of, a, federer, final, against, alexander, zverev, in, a, win, over, the, fifthranked, german, in, the, earlier, semifinal], [the, romanian, aims, for, a, first, title, after, arriving, at, basel, without, a, career, win, over, a, top, opponent], [copil, has, two, after, also, beating, no], [marin, cilic, in, the, se...   \n",
       "2  [[roger, federer, has, revealed, that, organisers, of, the, relaunched, and, condensed, davis, cup, gave, him, three, days, to, decide, if, he, would, commit, to, the, controversial, competition], [speaking, at, the, swiss, indoors, tournament, where, he, will, play, in, sundays, final, against, romanian, qualifier, marius, copil, the, world, number, three, said, that, given, the, impossibly, short, time, frame, to, make, a, decision, he, opted, out, of, any, commitment], [``, they, only, left, me, three, days, to, decide, federer, said], [``, i, did, not, to, have, time, to, consult, with, all, the, people, i, had, to, consult], [``, i, could, not, make, a, decision, in, that, time, so, i, told, them, to, do, what, they, wanted], [the, time, grand, slam, champion, has, voiced, doubts, about, the, wisdom, of, the, oneweek, format, to, be, introduced, by, organisers, kosmos, who, have, promised, the, international, tennis, federation, up, to, billion, in, prize, money, over, the, ne...   \n",
       "3  [[kei, nishikori, will, try, to, end, his, long, losing, streak, in, atp, finals, and, kevin, anderson, will, go, for, his, second, title, of, the, year, at, the, erste, bank, open, on, sunday], [the, fifthseeded, nishikori, reached, his, third, final, of, after, beating, mikhail, kukushkin, of, kazakhstan, in, the, semifinals], [a, winner, of, atp, events, nishikori, has, not, triumphed, since, winning, in, memphis, in, february], [he, has, lost, eight, straight, finals, since], [the, secondseeded, anderson, defeated, fernando, verdasco], [anderson, has, a, shot, at, a, fifth, career, title, and, second, of, the, year, after, winning, in, new, york, in, february], [nishikori, leads, anderson, on, career, matchups, but, the, south, african, won, their, only, previous, meeting, this, year], [with, a, victory, on, sunday, anderson, will, qualify, for, the, atp, finals], [currently, in, ninth, place, nishikori, with, a, win, could, move, to, within, points, of, the, cut, for, the, eig...   \n",
       "4  [[federer, first, broke, through, on, tour, over, two, decades, ago, and, he, has, since, gone, on, to, enjoy, a, glittering, career], [the, time, grand, slam, winner, is, chasing, his, th, atp, title, at, the, swiss, indoors, this, week, and, he, faces, janlennard, struff, in, the, second, round, on, thursday, pm, bst], [davenport, enjoyed, most, of, her, success, in, the, late, s, and, her, third, and, final, major, tournament, win, came, at, the, australian, open], [but, she, claims, the, mentality, of, professional, tennis, players, slowly, began, to, change, after, the, new, millennium], [``, it, seems, pretty, friendly, right, now, said, davenport], [``, i, think, there, is, a, really, nice, environment, and, a, great, atmosphere, especially, between, some, of, the, veteran, players, helping, some, of, the, younger, players, out], [``, it, is, a, very, pleasant, atmosphere, i, would, have, to, say, around, the, locker, rooms], [``, i, felt, like, the, best, weeks, that, i, ha...   \n",
       "\n",
       "                                                                                                                                                                                                                                                                                                                                                                                                                                                                                                                                                                                                                                                                                                                                                                                                                                                                                                                                                                                                                            SentenceVector  \\\n",
       "0  [[0.07161230769230773, 0.5263353076923079, -0.22625407692307692, 0.4190584615384615, -0.0952153076923077, -0.10156600000000002, -0.40362538461538466, 0.400633476923077, -0.35831371000000006, -0.11500546153846154, 0.11607930769230769, -0.146259, -0.6847891923076924, 0.014327538461538456, 0.783284653846154, 0.046932615384615385, -0.10918245384615388, 0.054596461538461545, -0.29416438461538463, -0.1929796923076923, -0.2468181230769231, 0.3106658461538461, 0.011112153846153848, 0.30192715384615376, 0.12148384615384614, -1.328529230769231, -0.2920881538461539, -0.07721707692307692, -0.3258306923076923, -0.36910523076923074, 2.7283676923076925, 0.24652538461538465, -0.041018076923076914, 0.07203453846153846, 0.022849225384615382, -0.01111693076923078, 0.2808099230769231, 0.4716086153846154, -0.020941546153846143, -0.6126247692307694, -0.007031076923076909, -0.08967269230769231, 0.18087161538461535, 0.06510876923076923, 0.1128052307692308, -0.027662769230769227, -0.06883483846153847, -0.3...   \n",
       "1  [[-0.04118086363636363, 0.3783945909090909, -0.09865840909090907, 0.2834696363636364, 0.016647883181818177, -0.08658890909090906, -0.23910705000000004, 0.3978880909090909, -0.4083776922727273, -0.0862470909090909, 0.1902452272727273, -0.2986129545454545, -0.6385927272727273, -0.031250136363636376, 0.5444554772727271, -0.1095599090909091, -0.13976365909090907, -0.4376720772727273, -0.6052627727272726, 0.11610288409090913, -0.00404738636363637, -0.022918954545454527, -0.04588368181818183, -0.01739659090909088, -0.029735613636363633, -1.1522947090909093, 0.07495704545454546, -0.22785550000000002, -0.23360109090909092, -0.08926977272727274, 2.1310990909090908, 0.1533223181818182, -0.07642998636363636, 4.954545454545331e-05, -0.12957568500000002, -0.09078812272727271, 0.23761849999999998, 0.5697758181818182, 0.022155650000000006, -0.1867798181818182, 0.2605305909090909, -0.06329845454545456, 0.2951025909090909, -0.1664764681818182, 0.15181086363636365, 0.1326979090909091, -0.01367409545...   \n",
       "2  [[0.25328906296296294, 0.12198537037037037, -0.11345479181481483, 0.1446348814814815, 0.1525931851851852, 0.16861987777777784, -0.38139322592592595, 0.2617922222222222, -0.23743694296296297, -0.03473777777777776, 0.035870111111111116, 0.12096629629629627, -0.6220851851851853, -0.0933997037037037, 0.7065455925925925, 0.143282037037037, 0.12736662962962964, -0.19685677777777782, -0.4711523333333333, -0.31522065185185183, 0.1199826296296296, 0.054465311111111095, 0.31118688888888885, -0.10871659259259264, 0.014215555555555558, -1.5483337037037042, -0.10728948148148147, -0.04703542592592592, -0.1138865925925926, -0.21412614814814818, 2.7733540740740743, 0.15372562962962966, -0.41941892592592583, -0.25126889407407405, 0.026628517037037034, -0.11579138518518517, 0.22920711111111114, 0.3417279444444446, -0.09856985555555556, -0.39040711111111115, -0.08489601111111111, -0.02059985185185185, -0.0706187777777778, 0.04860455555555556, -0.06971725925925926, 0.09703904074074075, -0.217581044444...   \n",
       "3  [[-0.07639146874999997, 0.3170033437499999, -0.05655231249999998, 0.33123381250000006, 0.11854274999999999, -0.04550446874999999, -0.41850468749999997, 0.2692358625, -0.25405875718750004, -0.10351577749999999, 0.03690078124999999, -0.08491131562500001, -0.7030106250000001, 0.0020322187500000045, 0.4821976250000001, 0.15320184375, 0.038407875000000015, -0.26271625000000004, -0.6549773749999999, -0.08030978124999998, 0.05498265625000004, 0.035396353125, 0.010837625000000024, -0.04316790625000001, -0.06018543750000003, -1.4377952499999995, 0.05665375, -0.14137571874999993, -0.10342975000000001, -0.27637156250000006, 2.944246562499999, 0.3364460625, -0.16078259374999998, 0.04588156249999999, 0.12576624250000004, -0.1341709625, 0.17272203125000005, 0.2543388749999999, 0.10677622156249998, -0.45882850000000003, -0.2480130625, -0.054150100000000014, 0.0020541562499999944, -0.07792875625, -0.07798153124999999, 0.08807103125, 0.05978199375, -0.27529034375000005, 0.019644781249999993, -0.121...   \n",
       "4  [[0.08898900000000001, 0.26611004761904766, -0.192052, 0.06671333333333333, 0.028799476190476233, 0.09485580952380952, -0.7151614285714287, 0.18457328571428572, -0.19910014285714284, -0.0065385238095237675, -0.0994645904761905, -0.25375309523809514, -0.6728928571428572, 0.07200021428571428, 0.5973166666666666, -0.07204279047619051, -0.084204, -0.14471214285714284, -0.630137619047619, -0.12544587142857144, 0.11530611428571426, 0.2953277142857143, 0.12353749047619043, -0.15412176190476187, 0.03485861904761905, -1.515292, -0.056055095238095216, 0.032189685714285717, 0.09830066666666666, -0.1126077142857143, 3.173791904761904, 0.2494000952380952, -0.12230876190476193, -0.060254952380952354, 0.0332806, 0.06226409523809525, -0.017406476190476177, 0.43230761904761905, -0.13516719047619047, -0.27663478095238103, -0.3494240952380953, 0.0450542619047619, -0.06251766666666667, 0.05574223809523809, -0.17952464285714287, 0.029179333333333328, -0.09026942857142857, -0.3474336666666667, -0.323819...   \n",
       "\n",
       "                                                                                                                                                                                                                                                                                                                                                                                                                                                                                                                                                                                                                                                                                                                                                                                                                                                                                                                                                                                                                                 SimMatrix  \\\n",
       "0  [[1.0000000000000002, 0.0, 0.0, 0.0, 0.0, 0.0, 0.0, 0.0, 0.0, 0.0, 0.0, 0.0, 0.0, 0.0, 0.0, 0.0, 0.0], [0.0, 0.0, 0.0, 0.0, 0.0, 0.0, 0.0, 0.0, 0.0, 0.0, 0.0, 0.0, 0.0, 0.0, 0.0, 0.0, 0.0], [0.0, 0.0, 0.0, 0.0, 0.0, 0.0, 0.0, 0.0, 0.0, 0.0, 0.0, 0.0, 0.0, 0.0, 0.0, 0.0, 0.0], [0.0, 0.0, 0.0, 0.0, 0.0, 0.0, 0.0, 0.0, 0.0, 0.0, 0.0, 0.0, 0.0, 0.0, 0.0, 0.0, 0.0], [0.0, 0.0, 0.0, 0.0, 0.0, 0.0, 0.0, 0.0, 0.0, 0.0, 0.0, 0.0, 0.0, 0.0, 0.0, 0.0, 0.0], [0.0, 0.0, 0.0, 0.0, 0.0, 0.0, 0.0, 0.0, 0.0, 0.0, 0.0, 0.0, 0.0, 0.0, 0.0, 0.0, 0.0], [0.0, 0.0, 0.0, 0.0, 0.0, 0.0, 0.0, 0.0, 0.0, 0.0, 0.0, 0.0, 0.0, 0.0, 0.0, 0.0, 0.0], [0.0, 0.0, 0.0, 0.0, 0.0, 0.0, 0.0, 0.0, 0.0, 0.0, 0.0, 0.0, 0.0, 0.0, 0.0, 0.0, 0.0], [0.0, 0.0, 0.0, 0.0, 0.0, 0.0, 0.0, 0.0, 0.0, 0.0, 0.0, 0.0, 0.0, 0.0, 0.0, 0.0, 0.0], [0.0, 0.0, 0.0, 0.0, 0.0, 0.0, 0.0, 0.0, 0.0, 0.0, 0.0, 0.0, 0.0, 0.0, 0.0, 0.0, 0.0], [0.0, 0.0, 0.0, 0.0, 0.0, 0.0, 0.0, 0.0, 0.0, 0.0, 0.0, 0.0, 0.0, 0.0, 0.0, 0.0, 0.0], [0.0, 0.0, 0.0, 0.0, 0....   \n",
       "1                                                                                                                                                                                                                                                  [[1.0000000000000004, 0.0, 0.0, 0.0, 0.0, 0.0, 0.0, 0.0, 0.0, 0.0, 0.0, 0.0], [0.0, 0.0, 0.0, 0.0, 0.0, 0.0, 0.0, 0.0, 0.0, 0.0, 0.0, 0.0], [0.0, 0.0, 0.0, 0.0, 0.0, 0.0, 0.0, 0.0, 0.0, 0.0, 0.0, 0.0], [0.0, 0.0, 0.0, 0.0, 0.0, 0.0, 0.0, 0.0, 0.0, 0.0, 0.0, 0.0], [0.0, 0.0, 0.0, 0.0, 0.0, 0.0, 0.0, 0.0, 0.0, 0.0, 0.0, 0.0], [0.0, 0.0, 0.0, 0.0, 0.0, 0.0, 0.0, 0.0, 0.0, 0.0, 0.0, 0.0], [0.0, 0.0, 0.0, 0.0, 0.0, 0.0, 0.0, 0.0, 0.0, 0.0, 0.0, 0.0], [0.0, 0.0, 0.0, 0.0, 0.0, 0.0, 0.0, 0.0, 0.0, 0.0, 0.0, 0.0], [0.0, 0.0, 0.0, 0.0, 0.0, 0.0, 0.0, 0.0, 0.0, 0.0, 0.0, 0.0], [0.0, 0.0, 0.0, 0.0, 0.0, 0.0, 0.0, 0.0, 0.0, 0.0, 0.0, 0.0], [0.0, 0.0, 0.0, 0.0, 0.0, 0.0, 0.0, 0.0, 0.0, 0.0, 0.0, 0.0], [0.0, 0.0, 0.0, 0.0, 0.0, 0.0, 0.0, 0.0, 0.0, 0.0, 0.0, 0.0]]   \n",
       "2  [[1.0, 0.0, 0.0, 0.0, 0.0, 0.0, 0.0, 0.0, 0.0, 0.0, 0.0, 0.0, 0.0, 0.0, 0.0, 0.0, 0.0], [0.0, 0.0, 0.0, 0.0, 0.0, 0.0, 0.0, 0.0, 0.0, 0.0, 0.0, 0.0, 0.0, 0.0, 0.0, 0.0, 0.0], [0.0, 0.0, 0.0, 0.0, 0.0, 0.0, 0.0, 0.0, 0.0, 0.0, 0.0, 0.0, 0.0, 0.0, 0.0, 0.0, 0.0], [0.0, 0.0, 0.0, 0.0, 0.0, 0.0, 0.0, 0.0, 0.0, 0.0, 0.0, 0.0, 0.0, 0.0, 0.0, 0.0, 0.0], [0.0, 0.0, 0.0, 0.0, 0.0, 0.0, 0.0, 0.0, 0.0, 0.0, 0.0, 0.0, 0.0, 0.0, 0.0, 0.0, 0.0], [0.0, 0.0, 0.0, 0.0, 0.0, 0.0, 0.0, 0.0, 0.0, 0.0, 0.0, 0.0, 0.0, 0.0, 0.0, 0.0, 0.0], [0.0, 0.0, 0.0, 0.0, 0.0, 0.0, 0.0, 0.0, 0.0, 0.0, 0.0, 0.0, 0.0, 0.0, 0.0, 0.0, 0.0], [0.0, 0.0, 0.0, 0.0, 0.0, 0.0, 0.0, 0.0, 0.0, 0.0, 0.0, 0.0, 0.0, 0.0, 0.0, 0.0, 0.0], [0.0, 0.0, 0.0, 0.0, 0.0, 0.0, 0.0, 0.0, 0.0, 0.0, 0.0, 0.0, 0.0, 0.0, 0.0, 0.0, 0.0], [0.0, 0.0, 0.0, 0.0, 0.0, 0.0, 0.0, 0.0, 0.0, 0.0, 0.0, 0.0, 0.0, 0.0, 0.0, 0.0, 0.0], [0.0, 0.0, 0.0, 0.0, 0.0, 0.0, 0.0, 0.0, 0.0, 0.0, 0.0, 0.0, 0.0, 0.0, 0.0, 0.0, 0.0], [0.0, 0.0, 0.0, 0.0, 0.0, 0.0, 0.0, 0....   \n",
       "3                                                                                                                   [[0.9999999999999998, 0.0, 0.0, 0.0, 0.0, 0.0, 0.0, 0.0, 0.0, 0.0, 0.0, 0.0, 0.0], [0.0, 0.0, 0.0, 0.0, 0.0, 0.0, 0.0, 0.0, 0.0, 0.0, 0.0, 0.0, 0.0], [0.0, 0.0, 0.0, 0.0, 0.0, 0.0, 0.0, 0.0, 0.0, 0.0, 0.0, 0.0, 0.0], [0.0, 0.0, 0.0, 0.0, 0.0, 0.0, 0.0, 0.0, 0.0, 0.0, 0.0, 0.0, 0.0], [0.0, 0.0, 0.0, 0.0, 0.0, 0.0, 0.0, 0.0, 0.0, 0.0, 0.0, 0.0, 0.0], [0.0, 0.0, 0.0, 0.0, 0.0, 0.0, 0.0, 0.0, 0.0, 0.0, 0.0, 0.0, 0.0], [0.0, 0.0, 0.0, 0.0, 0.0, 0.0, 0.0, 0.0, 0.0, 0.0, 0.0, 0.0, 0.0], [0.0, 0.0, 0.0, 0.0, 0.0, 0.0, 0.0, 0.0, 0.0, 0.0, 0.0, 0.0, 0.0], [0.0, 0.0, 0.0, 0.0, 0.0, 0.0, 0.0, 0.0, 0.0, 0.0, 0.0, 0.0, 0.0], [0.0, 0.0, 0.0, 0.0, 0.0, 0.0, 0.0, 0.0, 0.0, 0.0, 0.0, 0.0, 0.0], [0.0, 0.0, 0.0, 0.0, 0.0, 0.0, 0.0, 0.0, 0.0, 0.0, 0.0, 0.0, 0.0], [0.0, 0.0, 0.0, 0.0, 0.0, 0.0, 0.0, 0.0, 0.0, 0.0, 0.0, 0.0, 0.0], [0.0, 0.0, 0.0, 0.0, 0.0, 0.0, 0.0, 0.0, 0.0, 0.0, 0.0, 0.0, 0.0]]   \n",
       "4  [[0.9999999999999999, 0.0, 0.0, 0.0, 0.0, 0.0, 0.0, 0.0, 0.0, 0.0, 0.0, 0.0, 0.0, 0.0, 0.0, 0.0, 0.0, 0.0], [0.0, 0.0, 0.0, 0.0, 0.0, 0.0, 0.0, 0.0, 0.0, 0.0, 0.0, 0.0, 0.0, 0.0, 0.0, 0.0, 0.0, 0.0], [0.0, 0.0, 0.0, 0.0, 0.0, 0.0, 0.0, 0.0, 0.0, 0.0, 0.0, 0.0, 0.0, 0.0, 0.0, 0.0, 0.0, 0.0], [0.0, 0.0, 0.0, 0.0, 0.0, 0.0, 0.0, 0.0, 0.0, 0.0, 0.0, 0.0, 0.0, 0.0, 0.0, 0.0, 0.0, 0.0], [0.0, 0.0, 0.0, 0.0, 0.0, 0.0, 0.0, 0.0, 0.0, 0.0, 0.0, 0.0, 0.0, 0.0, 0.0, 0.0, 0.0, 0.0], [0.0, 0.0, 0.0, 0.0, 0.0, 0.0, 0.0, 0.0, 0.0, 0.0, 0.0, 0.0, 0.0, 0.0, 0.0, 0.0, 0.0, 0.0], [0.0, 0.0, 0.0, 0.0, 0.0, 0.0, 0.0, 0.0, 0.0, 0.0, 0.0, 0.0, 0.0, 0.0, 0.0, 0.0, 0.0, 0.0], [0.0, 0.0, 0.0, 0.0, 0.0, 0.0, 0.0, 0.0, 0.0, 0.0, 0.0, 0.0, 0.0, 0.0, 0.0, 0.0, 0.0, 0.0], [0.0, 0.0, 0.0, 0.0, 0.0, 0.0, 0.0, 0.0, 0.0, 0.0, 0.0, 0.0, 0.0, 0.0, 0.0, 0.0, 0.0, 0.0], [0.0, 0.0, 0.0, 0.0, 0.0, 0.0, 0.0, 0.0, 0.0, 0.0, 0.0, 0.0, 0.0, 0.0, 0.0, 0.0, 0.0, 0.0], [0.0, 0.0, 0.0, 0.0, 0.0, 0.0, 0.0, 0.0, 0.0, 0.0, 0.0, 0.0,...   \n",
       "\n",
       "                                                                                                                                                                                                                                                                                                                                                                                                                                                                       graph  \n",
       "0                                            {0: 0.29408637110598146, 1: 0.04411960180587616, 2: 0.04411960180587616, 3: 0.04411960180587616, 4: 0.04411960180587616, 5: 0.04411960180587616, 6: 0.04411960180587616, 7: 0.04411960180587616, 8: 0.04411960180587616, 9: 0.04411960180587616, 10: 0.04411960180587616, 11: 0.04411960180587616, 12: 0.04411960180587616, 13: 0.04411960180587616, 14: 0.04411960180587616, 15: 0.04411960180587616, 16: 0.04411960180587616}  \n",
       "1                                                                                                                                                                          {0: 0.3773410336019268, 1: 0.05660536058164296, 2: 0.05660536058164296, 3: 0.05660536058164296, 4: 0.05660536058164296, 5: 0.05660536058164296, 6: 0.05660536058164296, 7: 0.05660536058164296, 8: 0.05660536058164296, 9: 0.05660536058164296, 10: 0.05660536058164296, 11: 0.05660536058164296}  \n",
       "2                                            {0: 0.29408637110598146, 1: 0.04411960180587616, 2: 0.04411960180587616, 3: 0.04411960180587616, 4: 0.04411960180587616, 5: 0.04411960180587616, 6: 0.04411960180587616, 7: 0.04411960180587616, 8: 0.04411960180587616, 9: 0.04411960180587616, 10: 0.04411960180587616, 11: 0.04411960180587616, 12: 0.04411960180587616, 13: 0.04411960180587616, 14: 0.04411960180587616, 15: 0.04411960180587616, 16: 0.04411960180587616}  \n",
       "3                                                                                                                                     {0: 0.3571210240758898, 1: 0.053573247993675854, 2: 0.053573247993675854, 3: 0.053573247993675854, 4: 0.053573247993675854, 5: 0.053573247993675854, 6: 0.053573247993675854, 7: 0.053573247993675854, 8: 0.053573247993675854, 9: 0.053573247993675854, 10: 0.053573247993675854, 11: 0.053573247993675854, 12: 0.053573247993675854}  \n",
       "4  {0: 0.28165561211001133, 1: 0.042255552228822865, 2: 0.042255552228822865, 3: 0.042255552228822865, 4: 0.042255552228822865, 5: 0.042255552228822865, 6: 0.042255552228822865, 7: 0.042255552228822865, 8: 0.042255552228822865, 9: 0.042255552228822865, 10: 0.042255552228822865, 11: 0.042255552228822865, 12: 0.042255552228822865, 13: 0.042255552228822865, 14: 0.042255552228822865, 15: 0.042255552228822865, 16: 0.042255552228822865, 17: 0.042255552228822865}  "
      ]
     },
     "execution_count": 40,
     "metadata": {},
     "output_type": "execute_result"
    }
   ],
   "source": [
    "articles.head()"
   ]
  },
  {
   "cell_type": "markdown",
   "metadata": {},
   "source": [
    "The graph contains a score and numeric index to a sentence\n",
    "Next create a func that will rank the scores and return the top n sentencesby graph scores"
   ]
  },
  {
   "cell_type": "code",
   "execution_count": 43,
   "metadata": {},
   "outputs": [],
   "source": [
    "def get_ranks(sent, scores, n=3):\n",
    "    top_scores=sorted(((scores[i], s) for i,s in enumerate(sent)), reverse=True)\n",
    "    top_n_sent=[s for score,s in top_scores[:n] ]\n",
    "    \n",
    "    return ' '.join(top_n_sent)"
   ]
  },
  {
   "cell_type": "code",
   "execution_count": 45,
   "metadata": {},
   "outputs": [],
   "source": [
    "articles['summary']=articles.apply(lambda d: get_ranks(d.sentenceInArticle, d.graph),axis=1)"
   ]
  },
  {
   "cell_type": "code",
   "execution_count": 46,
   "metadata": {},
   "outputs": [
    {
     "data": {
      "text/plain": [
       "\"Maria Sharapova has basically no friends as tennis players on the WTA Tour. When she said she is not really close to a lot of players, is that something strategic that she is doing? When I'm on the courts or when I'm on the court playing, I'm a competitor and I want to beat every single person whether they're in the locker room or across the net.So I'm not the one to strike up a conversation about the weather and know that in the next few minutes I have to go and try to win a tennis match.\""
      ]
     },
     "execution_count": 46,
     "metadata": {},
     "output_type": "execute_result"
    }
   ],
   "source": [
    "# summary article\n",
    "articles.loc[0].summary"
   ]
  },
  {
   "cell_type": "code",
   "execution_count": 48,
   "metadata": {},
   "outputs": [
    {
     "data": {
      "text/plain": [
       "['Maria Sharapova has basically no friends as tennis players on the WTA Tour.',\n",
       " \"The Russian player has no problems in openly speaking about it and in a recent interview she said: 'I don't really hide any feelings too much.\",\n",
       " 'I think everyone knows this is my job here.',\n",
       " \"When I'm on the courts or when I'm on the court playing, I'm a competitor and I want to beat every single person whether they're in the locker room or across the net.So I'm not the one to strike up a conversation about the weather and know that in the next few minutes I have to go and try to win a tennis match.\",\n",
       " \"I'm a pretty competitive girl.\",\n",
       " \"I say my hellos, but I'm not sending any players flowers as well.\",\n",
       " \"Uhm, I'm not really friendly or close to many players.\",\n",
       " \"I have not a lot of friends away from the courts.'\",\n",
       " 'When she said she is not really close to a lot of players, is that something strategic that she is doing?',\n",
       " \"Is it different on the men's tour than the women's tour?\",\n",
       " \"'No, not at all.\",\n",
       " \"I think just because you're in the same sport doesn't mean that you have to be friends with everyone just because you're categorized, you're a tennis player, so you're going to get along with tennis players.\",\n",
       " 'I think every person has different interests.',\n",
       " \"I have friends that have completely different jobs and interests, and I've met them in very different parts of my life.\",\n",
       " \"I think everyone just thinks because we're tennis players we should be the greatest of friends.\",\n",
       " 'But ultimately tennis is just a very small part of what we do.',\n",
       " \"There are so many other things that we're interested in, that we do.'\"]"
      ]
     },
     "execution_count": 48,
     "metadata": {},
     "output_type": "execute_result"
    }
   ],
   "source": [
    "# compare to original article\n",
    "articles.loc[0].sentenceInArticle"
   ]
  },
  {
   "cell_type": "code",
   "execution_count": 49,
   "metadata": {},
   "outputs": [
    {
     "data": {
      "text/plain": [
       "'Roger Federer has revealed that organisers of the re-launched and condensed Davis Cup gave him three days to decide if he would commit to the controversial competition. We will see what happens,\" he said. This was designed for the future generation of players.\"'"
      ]
     },
     "execution_count": 49,
     "metadata": {},
     "output_type": "execute_result"
    }
   ],
   "source": [
    "# summary article\n",
    "articles.loc[2].summary"
   ]
  },
  {
   "cell_type": "code",
   "execution_count": 50,
   "metadata": {},
   "outputs": [
    {
     "data": {
      "text/plain": [
       "['Roger Federer has revealed that organisers of the re-launched and condensed Davis Cup gave him three days to decide if he would commit to the controversial competition.',\n",
       " 'Speaking at the Swiss Indoors tournament where he will play in Sundays final against Romanian qualifier Marius Copil, the world number three said that given the impossibly short time frame to make a decision, he opted out of any commitment.',\n",
       " '\"They only left me three days to decide\", Federer said.',\n",
       " '\"I didn\\'t to have time to consult with all the people I had to consult.',\n",
       " '\"I could not make a decision in that time, so I told them to do what they wanted.\"',\n",
       " 'The 20-time Grand Slam champion has voiced doubts about the wisdom of the one-week format to be introduced by organisers Kosmos, who have promised the International Tennis Federation up to $3 billion in prize money over the next quarter-century.',\n",
       " 'The competition is set to feature 18 countries in the November 18-24 finals in Madrid next year, and will replace the classic home-and-away ties played four times per year for decades.',\n",
       " 'Kosmos is headed by Barcelona footballer Gerard Pique, who is hoping fellow Spaniard Rafael Nadal will play in the upcoming event.',\n",
       " \"Novak Djokovic has said he will give precedence to the ATP's intended re-launch of the defunct World Team Cup in January 2020, at various Australian venues.\",\n",
       " 'Major players feel that a big event in late November combined with one in January before the Australian Open will mean too much tennis and too little rest.',\n",
       " 'Federer said earlier this month in Shanghai in that his chances of playing the Davis Cup were all but non-existent.',\n",
       " '\"I highly doubt it, of course.',\n",
       " 'We will see what happens,\" he said.',\n",
       " '\"I do not think this was designed for me, anyhow.',\n",
       " 'This was designed for the future generation of players.\"',\n",
       " 'Argentina and Britain received wild cards to the new-look event, and will compete along with the four 2018 semi-finalists and the 12 teams who win qualifying rounds next February.',\n",
       " '\"I don\\'t like being under that kind of pressure,\" Federer said of the deadline Kosmos handed him.']"
      ]
     },
     "execution_count": 50,
     "metadata": {},
     "output_type": "execute_result"
    }
   ],
   "source": [
    "# summary article\n",
    "# compare to original article\n",
    "articles.loc[2].sentenceInArticle"
   ]
  },
  {
   "cell_type": "markdown",
   "metadata": {},
   "source": [
    "# Text summary using gensim"
   ]
  },
  {
   "cell_type": "code",
   "execution_count": 53,
   "metadata": {},
   "outputs": [],
   "source": [
    "from gensim.summarization import summarize\n",
    "import requests\n",
    "from bs4 import BeautifulSoup\n",
    "import pandas as pd\n"
   ]
  },
  {
   "cell_type": "code",
   "execution_count": 52,
   "metadata": {},
   "outputs": [],
   "source": [
    "r=requests.get('https://click.palletsprojects.com/en/7.x/why')\n",
    "r.encoding='utf-8'\n",
    "soup=BeautifulSoup(r.text)\n",
    "click=soup.find(id='why-click').text.replace('\\n',' ')"
   ]
  },
  {
   "cell_type": "code",
   "execution_count": 54,
   "metadata": {},
   "outputs": [],
   "source": [
    "pd.set_option('display.max_colwidth', 500)"
   ]
  },
  {
   "cell_type": "code",
   "execution_count": 56,
   "metadata": {},
   "outputs": [],
   "source": [
    "def show_sentences(text):\n",
    "    return pd.DataFrame({'sentence': sent_tokenize(text)})"
   ]
  },
  {
   "cell_type": "code",
   "execution_count": 57,
   "metadata": {},
   "outputs": [
    {
     "data": {
      "text/plain": [
       "' Why Click?¶ There are so many libraries out there for writing command line utilities; why does Click exist? This question is easy to answer: because there is not a single command line utility for Python out there which ticks the following boxes:  is lazily composable without restrictions supports implementation of Unix/POSIX command line conventions supports loading values from environment variables out of the box supports for prompting of custom values is fully nestable and composable works the same in Python 2 and 3 supports file handling out of the box comes with useful common helpers (getting terminal dimensions, ANSI colors, fetching direct keyboard input, screen clearing, finding config paths, launching apps and editors, etc.)  There are many alternatives to Click and you can have a look at them if you enjoy them better.  The obvious ones are optparse and argparse from the standard library. Click actually implements its own parsing of arguments and does not use optparse or argparse following the optparse parsing behavior. The reason it’s not based on argparse is that argparse does not allow proper nesting of commands by design and has some deficiencies when it comes to POSIX compliant argument handling. Click is designed to be fun to work with and at the same time not stand in your way.  It’s not overly flexible either.  Currently, for instance, it does not allow you to customize the help pages too much. This is intentional because Click is designed to allow you to nest command line utilities.  The idea is that you can have a system that works together with another system by tacking two Click instances together and they will continue working as they should. Too much customizability would break this promise. Click was written to support the Flask microframework ecosystem because no tool could provide it with the functionality it needed. To get an understanding of what Click is all about, I strongly recommend looking at the Complex Applications chapter to see what it’s useful for.  Why not Argparse?¶ Click is internally based on optparse instead of argparse.  This however is an implementation detail that a user does not have to be concerned with.  The reason however Click is not using argparse is that it has some problematic behaviors that make handling arbitrary command line interfaces hard:  argparse has built-in magic behavior to guess if something is an argument or an option.  This becomes a problem when dealing with incomplete command lines as it’s not possible to know without having a full understanding of the command line how the parser is going to behave.  This goes against Click’s ambitions of dispatching to subparsers. argparse currently does not support disabling of interspersed arguments.  Without this feature it’s not possible to safely implement Click’s nested parsing nature.    Why not Docopt etc.?¶ Docopt and many tools like it are cool in how they work, but very few of these tools deal with nesting of commands and composability in a way like Click.  To the best of the developer’s knowledge, Click is the first Python library that aims to create a level of composability of applications that goes beyond what the system itself supports. Docopt, for instance, acts by parsing your help pages and then parsing according to those rules.  The side effect of this is that docopt is quite rigid in how it handles the command line interface.  The upside of docopt is that it gives you strong control over your help page; the downside is that due to this it cannot rewrap your output for the current terminal width and it makes translations hard.  On top of that docopt is restricted to basic parsing.  It does not handle argument dispatching and callback invocation or types.  This means there is a lot of code that needs to be written in addition to the basic help page to handle the parsing results. Most of all, however, it makes composability hard.  While docopt does support dispatching to subcommands, it for instance does not directly support any kind of automatic subcommand enumeration based on what’s available or it does not enforce subcommands to work in a consistent way. This is fine, but it’s different from how Click wants to work.  Click aims to support fully composable command line user interfaces by doing the following:  Click does not just parse, it also dispatches to the appropriate code. Click has a strong concept of an invocation context that allows subcommands to respond to data from the parent command. Click has strong information available for all parameters and commands so that it can generate unified help pages for the full CLI and to assist the user in converting the input data as necessary. Click has a strong understanding of what types are and can give the user consistent error messages if something goes wrong.  A subcommand written by a different developer will not suddenly die with a different error message because it’s manually handled. Click has enough meta information available for its whole program that it can evolve over time to improve the user experience without forcing developers to adjust their programs.  For instance, if Click decides to change how help pages are formatted, all Click programs will automatically benefit from this.  The aim of Click is to make composable systems, whereas the aim of docopt is to build the most beautiful and hand-crafted command line interfaces. These two goals conflict with one another in subtle ways.  Click actively prevents people from implementing certain patterns in order to achieve unified command line interfaces.  You have very little input on reformatting your help pages for instance.   Why Hardcoded Behaviors?¶ The other question is why Click goes away from optparse and hardcodes certain behaviors instead of staying configurable.  There are multiple reasons for this.  The biggest one is that too much configurability makes it hard to achieve a consistent command line experience. The best example for this is optparse’s callback functionality for accepting an arbitrary number of arguments.  Due to syntactical ambiguities on the command line, there is no way to implement fully variadic arguments. There are always tradeoffs that need to be made and in case of argparse these tradeoffs have been critical enough, that a system like Click cannot even be implemented on top of it. In this particular case, Click attempts to stay with a handful of accepted paradigms for building command line interfaces that can be well documented and tested.   Why No Auto Correction?¶ The question came up why Click does not auto correct parameters given that even optparse and argparse support automatic expansion of long arguments. The reason for this is that it’s a liability for backwards compatibility. If people start relying on automatically modified parameters and someone adds a new parameter in the future, the script might stop working.  These kinds of problems are hard to find so Click does not attempt to be magical about this. This sort of behavior however can be implemented on a higher level to support things such as explicit aliases.  For more information see Command Aliases.  '"
      ]
     },
     "execution_count": 57,
     "metadata": {},
     "output_type": "execute_result"
    }
   ],
   "source": [
    "click"
   ]
  },
  {
   "cell_type": "markdown",
   "metadata": {},
   "source": [
    "Note that there are lost the formatting of the originak article since we extracted text from web. We use the show_sentences() func to show sentences."
   ]
  },
  {
   "cell_type": "code",
   "execution_count": 60,
   "metadata": {},
   "outputs": [],
   "source": [
    "click_df=show_sentences(click)"
   ]
  },
  {
   "cell_type": "code",
   "execution_count": 61,
   "metadata": {},
   "outputs": [
    {
     "data": {
      "text/html": [
       "<div>\n",
       "<style scoped>\n",
       "    .dataframe tbody tr th:only-of-type {\n",
       "        vertical-align: middle;\n",
       "    }\n",
       "\n",
       "    .dataframe tbody tr th {\n",
       "        vertical-align: top;\n",
       "    }\n",
       "\n",
       "    .dataframe thead th {\n",
       "        text-align: right;\n",
       "    }\n",
       "</style>\n",
       "<table border=\"1\" class=\"dataframe\">\n",
       "  <thead>\n",
       "    <tr style=\"text-align: right;\">\n",
       "      <th></th>\n",
       "      <th>sentence</th>\n",
       "    </tr>\n",
       "  </thead>\n",
       "  <tbody>\n",
       "    <tr>\n",
       "      <th>0</th>\n",
       "      <td>Why Click?¶ There are so many libraries out there for writing command line utilities; why does Click exist?</td>\n",
       "    </tr>\n",
       "    <tr>\n",
       "      <th>1</th>\n",
       "      <td>This question is easy to answer: because there is not a single command line utility for Python out there which ticks the following boxes:  is lazily composable without restrictions supports implementation of Unix/POSIX command line conventions supports loading values from environment variables out of the box supports for prompting of custom values is fully nestable and composable works the same in Python 2 and 3 supports file handling out of the box comes with useful common helpers (getting ...</td>\n",
       "    </tr>\n",
       "    <tr>\n",
       "      <th>2</th>\n",
       "      <td>There are many alternatives to Click and you can have a look at them if you enjoy them better.</td>\n",
       "    </tr>\n",
       "    <tr>\n",
       "      <th>3</th>\n",
       "      <td>The obvious ones are optparse and argparse from the standard library.</td>\n",
       "    </tr>\n",
       "    <tr>\n",
       "      <th>4</th>\n",
       "      <td>Click actually implements its own parsing of arguments and does not use optparse or argparse following the optparse parsing behavior.</td>\n",
       "    </tr>\n",
       "  </tbody>\n",
       "</table>\n",
       "</div>"
      ],
      "text/plain": [
       "                                                                                                                                                                                                                                                                                                                                                                                                                                                                                                              sentence\n",
       "0                                                                                                                                                                                                                                                                                                                                                                                                          Why Click?¶ There are so many libraries out there for writing command line utilities; why does Click exist?\n",
       "1  This question is easy to answer: because there is not a single command line utility for Python out there which ticks the following boxes:  is lazily composable without restrictions supports implementation of Unix/POSIX command line conventions supports loading values from environment variables out of the box supports for prompting of custom values is fully nestable and composable works the same in Python 2 and 3 supports file handling out of the box comes with useful common helpers (getting ...\n",
       "2                                                                                                                                                                                                                                                                                                                                                                                                                       There are many alternatives to Click and you can have a look at them if you enjoy them better.\n",
       "3                                                                                                                                                                                                                                                                                                                                                                                                                                                The obvious ones are optparse and argparse from the standard library.\n",
       "4                                                                                                                                                                                                                                                                                                                                                                                Click actually implements its own parsing of arguments and does not use optparse or argparse following the optparse parsing behavior."
      ]
     },
     "execution_count": 61,
     "metadata": {},
     "output_type": "execute_result"
    }
   ],
   "source": [
    "click_df.head()"
   ]
  },
  {
   "cell_type": "code",
   "execution_count": 63,
   "metadata": {},
   "outputs": [],
   "source": [
    "summary=summarize(click)"
   ]
  },
  {
   "cell_type": "code",
   "execution_count": 64,
   "metadata": {},
   "outputs": [
    {
     "data": {
      "text/plain": [
       "'This question is easy to answer: because there is not a single command line utility for Python out there which ticks the following boxes:  is lazily composable without restrictions supports implementation of Unix/POSIX command line conventions supports loading values from environment variables out of the box supports for prompting of custom values is fully nestable and composable works the same in Python 2 and 3 supports file handling out of the box comes with useful common helpers (getting terminal dimensions, ANSI colors, fetching direct keyboard input, screen clearing, finding config paths, launching apps and editors, etc.)  There are many alternatives to Click and you can have a look at them if you enjoy them better.\\nClick actually implements its own parsing of arguments and does not use optparse or argparse following the optparse parsing behavior.\\nThe reason it’s not based on argparse is that argparse does not allow proper nesting of commands by design and has some deficiencies when it comes to POSIX compliant argument handling.\\nThe reason however Click is not using argparse is that it has some problematic behaviors that make handling arbitrary command line interfaces hard:  argparse has built-in magic behavior to guess if something is an argument or an option.\\nWhy not Docopt etc.?¶ Docopt and many tools like it are cool in how they work, but very few of these tools deal with nesting of commands and composability in a way like Click.\\nWhile docopt does support dispatching to subcommands, it for instance does not directly support any kind of automatic subcommand enumeration based on what’s available or it does not enforce subcommands to work in a consistent way.\\nClick aims to support fully composable command line user interfaces by doing the following:  Click does not just parse, it also dispatches to the appropriate code.\\nClick has strong information available for all parameters and commands so that it can generate unified help pages for the full CLI and to assist the user in converting the input data as necessary.\\nThe aim of Click is to make composable systems, whereas the aim of docopt is to build the most beautiful and hand-crafted command line interfaces.\\nClick actively prevents people from implementing certain patterns in order to achieve unified command line interfaces.\\nDue to syntactical ambiguities on the command line, there is no way to implement fully variadic arguments.'"
      ]
     },
     "execution_count": 64,
     "metadata": {},
     "output_type": "execute_result"
    }
   ],
   "source": [
    "summary"
   ]
  },
  {
   "cell_type": "markdown",
   "metadata": {},
   "source": [
    "# Summarizing Text Using Word Frequency\n",
    "One of the simple ways to do text summarization is to compute word frquency and extract sentences that contain the words that are most common in the text. Below are processings:\n",
    "* Ignore stop words\n",
    "* Determione top words\n",
    "* Select top words\n",
    "* Select top sentences\n"
   ]
  },
  {
   "cell_type": "code",
   "execution_count": 14,
   "metadata": {},
   "outputs": [],
   "source": [
    "from collections import Counter\n",
    "from nltk.tokenize import sent_tokenize, word_tokenize\n",
    "from nltk.corpus import stopwords\n",
    "from string import punctuation\n",
    "from heapq import nlargest"
   ]
  },
  {
   "cell_type": "code",
   "execution_count": 15,
   "metadata": {},
   "outputs": [],
   "source": [
    "stopword_punc=set(stopwords.words('english') + list(punctuation))\n",
    "min_word_prop, max_word_prop=0.1, 0.9\n"
   ]
  },
  {
   "cell_type": "markdown",
   "metadata": {},
   "source": [
    "Compute the word frequencies"
   ]
  },
  {
   "cell_type": "code",
   "execution_count": 26,
   "metadata": {},
   "outputs": [],
   "source": [
    "def word_freqencies(ws):\n",
    "    words=[word for sentence in ws for word in sentence if word not in stopword_punc]\n",
    "    counter=Counter(words)\n",
    "    limit=float(max(counter.values()))\n",
    "    word_fq={word: freq/limit for word, freq in counter.items()}\n",
    "# Drop words if too common or too uncommon\n",
    "    word_fq = {word: freq for word, freq in word_fq.items() if freq > min_word_prop and freq > max_word_prop}\n",
    "    return word_fq\n",
    "\n",
    "# score each sentence by how frequent the words\n",
    "def sentence_score(word_sent, word_fq):\n",
    "    return sum([word_fq.get(word,0) for word in word_sent])"
   ]
  },
  {
   "cell_type": "code",
   "execution_count": 27,
   "metadata": {},
   "outputs": [],
   "source": [
    "def summarize(text:str, num_sents=3):\n",
    "    \"\"\"\n",
    "    summarize the test, by return the most relevant sentences\n",
    "    :text the text to summarize\n",
    "    : num_sentence the number of sentences to return\n",
    "    \"\"\"\n",
    "    #Make text lower\n",
    "    text=text.lower()\n",
    "    # break text into sentences\n",
    "    sentences=sent_tokenize(text)\n",
    "    # break sentences into words\n",
    "    words=[word_tokenize(sentence) for sentence in sentences]\n",
    "    # Compute the word frequencies\n",
    "    word_freq=word_freqencies(words)\n",
    "    # Calculate scores for each sentences\n",
    "    scores=[sentence_score(word_sentence, word_freq) for word_sentence in words]\n",
    "    sentence_scores=list(zip(sentences, scores))\n",
    "    # Rank the sentences\n",
    "    top_sent_scores=nlargest(num_sents, sentence_scores,key=lambda t: t[1])\n",
    "    \n",
    "    return [t[0] for t in top_sent_scores]"
   ]
  },
  {
   "cell_type": "code",
   "execution_count": 12,
   "metadata": {},
   "outputs": [],
   "source": [
    "with open('data_ch6/PolarVortex.txt','r') as f:\n",
    "    vortex=f.read()"
   ]
  },
  {
   "cell_type": "code",
   "execution_count": 8,
   "metadata": {},
   "outputs": [
    {
     "data": {
      "text/plain": [
       "'On the coldest day in two decades on his fifth-generation dairy farm, Chris Pollack grabbed a thick black hose from the barn and ventured into the subzero cold,\\nwhere his beef cattle were chomping cud and waiting for water.\\nThe power had briefly gone out the previous morning, long enough to freeze the line that automatically fills the animalsâ€™ heated water trough. Pollack was here to replace it.\\n\\n\"Are you serious?\" Pollack said, peering inside the black hose. \"Thereâ€™s water frozen in the end already.\"\\nHe lifted it up to a small space heater and waited for it to thaw.\\nSuch is life in the Deep Freeze of 2019.\\nThe past 48 hours in the American Midwest have been about endurance, as a breathtaking cold settled in over a massive stretch of the country. \\nThe record-setting frigid temperatures, some of the coldest on the planet Thursday, have frozen the Great Lakes, taxed electrical and natural gas infrastructure,\\n endangered livestock and tested the mettle of millions who are used to the cold but had never experienced anything like this.\\nIn some areas Thursday, temperatures dropped below minus-50 degrees, and the extreme weather was blamed for several deaths across the region,\\n including people who appear to have frozen to death in Milwaukee, Detroit and Rochester, Minn.\\nFrom Minnesota to New York, the polar vortex again prompted school closures, mail service interruptions and thousands of flight cancellations, \\nmany of them in and out of Chicago, which appeared otherworldly in a coating of frost and ice. Eighteen factories run by General Motors, \\nFiat Chrysler and Ford shut down Thursday because of the brutal weather and a fire at a natural gas compressor station.\\n'"
      ]
     },
     "execution_count": 8,
     "metadata": {},
     "output_type": "execute_result"
    }
   ],
   "source": [
    "vortex"
   ]
  },
  {
   "cell_type": "code",
   "execution_count": 9,
   "metadata": {},
   "outputs": [
    {
     "data": {
      "text/plain": [
       "12"
      ]
     },
     "execution_count": 9,
     "metadata": {},
     "output_type": "execute_result"
    }
   ],
   "source": [
    "len(sent_tokenize(vortex))"
   ]
  },
  {
   "cell_type": "code",
   "execution_count": 28,
   "metadata": {},
   "outputs": [
    {
     "data": {
      "text/plain": [
       "['on the coldest day in two decades on his fifth-generation dairy farm, chris pollack grabbed a thick black hose from the barn and ventured into the subzero cold,\\nwhere his beef cattle were chomping cud and waiting for water.',\n",
       " 'the record-setting frigid temperatures, some of the coldest on the planet thursday, have frozen the great lakes, taxed electrical and natural gas infrastructure,\\n endangered livestock and tested the mettle of millions who are used to the cold but had never experienced anything like this.',\n",
       " '\"thereâ€™s water frozen in the end already.\"']"
      ]
     },
     "execution_count": 28,
     "metadata": {},
     "output_type": "execute_result"
    }
   ],
   "source": [
    "summarize(vortex)"
   ]
  },
  {
   "cell_type": "code",
   "execution_count": 29,
   "metadata": {},
   "outputs": [
    {
     "data": {
      "text/plain": [
       "['on the coldest day in two decades on his fifth-generation dairy farm, chris pollack grabbed a thick black hose from the barn and ventured into the subzero cold,\\nwhere his beef cattle were chomping cud and waiting for water.']"
      ]
     },
     "execution_count": 29,
     "metadata": {},
     "output_type": "execute_result"
    }
   ],
   "source": [
    "summarize(vortex, num_sents=1)"
   ]
  },
  {
   "cell_type": "code",
   "execution_count": null,
   "metadata": {},
   "outputs": [],
   "source": []
  }
 ],
 "metadata": {
  "kernelspec": {
   "display_name": "Python 3",
   "language": "python",
   "name": "python3"
  },
  "language_info": {
   "codemirror_mode": {
    "name": "ipython",
    "version": 3
   },
   "file_extension": ".py",
   "mimetype": "text/x-python",
   "name": "python",
   "nbconvert_exporter": "python",
   "pygments_lexer": "ipython3",
   "version": "3.7.3"
  }
 },
 "nbformat": 4,
 "nbformat_minor": 2
}
